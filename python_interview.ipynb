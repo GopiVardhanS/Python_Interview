{
 "cells": [
  {
   "cell_type": "markdown",
   "id": "52528d67-b5dd-42b4-9db5-cd442b53a663",
   "metadata": {},
   "source": [
    "# Python Tricks"
   ]
  },
  {
   "cell_type": "markdown",
   "id": "a1329209-768d-465f-9333-4b3a53740e49",
   "metadata": {},
   "source": [
    "# About zip()"
   ]
  },
  {
   "cell_type": "code",
   "execution_count": 1,
   "id": "72a3f5f7-77fd-4f3f-8776-9720ff3afb59",
   "metadata": {},
   "outputs": [
    {
     "name": "stdout",
     "output_type": "stream",
     "text": [
      "[('A', 1), ('B', 2)]\n"
     ]
    }
   ],
   "source": [
    "list1=[\"A\",\"B\",\"C\",\"D\"]\n",
    "list2=[1,2]\n",
    "zipped=zip(list1,list2)\n",
    "print(list(zipped))"
   ]
  },
  {
   "cell_type": "markdown",
   "id": "955b759e-0133-49e9-bd1e-b98231053ee3",
   "metadata": {},
   "source": [
    "from itertools import zip_longest\n",
    "elems=[\"A\",\"B\",\"C\",\"D\"]\n",
    "numbers=[1,2]\n",
    "zipped=zip_longest(elems,numbers)\n",
    "print(list(zipped))\n"
   ]
  },
  {
   "cell_type": "code",
   "execution_count": 17,
   "id": "dc04229d-d04c-4d57-91fd-0891360a57b5",
   "metadata": {},
   "outputs": [
    {
     "name": "stdout",
     "output_type": "stream",
     "text": [
      "[('A', 1), ('B', 2), ('C', None), ('D', None)]\n"
     ]
    }
   ],
   "source": [
    "from itertools import zip_longest\n",
    "elems=[\"A\",\"B\",\"C\",\"D\"]\n",
    "numbers=[1,2]\n",
    "zipped=zip_longest(elems,numbers)\n",
    "print(list(zipped))"
   ]
  },
  {
   "cell_type": "code",
   "execution_count": 7,
   "id": "96314122-f357-4fda-8c01-d7946adb3aa6",
   "metadata": {},
   "outputs": [
    {
     "name": "stdout",
     "output_type": "stream",
     "text": [
      "[('A', 1), ('B', 2), ('C', '_'), ('D', '_')]\n"
     ]
    }
   ],
   "source": [
    "from itertools import zip_longest\n",
    "elems=[\"A\",\"B\",\"C\",\"D\"]\n",
    "numbers=[1,2]\n",
    "zipped=zip_longest(elems,numbers,fillvalue=\"_\")\n",
    "print(list(zipped))"
   ]
  },
  {
   "cell_type": "markdown",
   "id": "c8763bdf-5f02-4532-9fb1-92ed2ee9cf90",
   "metadata": {},
   "source": [
    "# unpacking"
   ]
  },
  {
   "cell_type": "code",
   "execution_count": 16,
   "id": "7d0acdc2-195d-4afe-a999-84095261612a",
   "metadata": {},
   "outputs": [
    {
     "name": "stdout",
     "output_type": "stream",
     "text": [
      "['A', 'B', 'C', 'D']\n",
      "A B C D\n",
      "A-B-C-D\n",
      "A-B-C-D.\n",
      "A-B-C-D\n"
     ]
    }
   ],
   "source": [
    "l=[\"A\",\"B\",\"C\",\"D\"]\n",
    "print(l)\n",
    "print(*l)\n",
    "print(*l,sep=\"-\")\n",
    "print(*l,sep=\"-\",end=\".\\n\")\n",
    "print(\"-\".join(l))"
   ]
  },
  {
   "cell_type": "markdown",
   "id": "977d57ab-870b-4a76-aeb1-b34ac491bec7",
   "metadata": {},
   "source": [
    "# enumerate()"
   ]
  },
  {
   "cell_type": "code",
   "execution_count": 19,
   "id": "6b5da6a5-e982-43bd-8ce1-098cb469b5d8",
   "metadata": {},
   "outputs": [
    {
     "name": "stdout",
     "output_type": "stream",
     "text": [
      "0 a\n",
      "1 b\n",
      "2 c\n",
      "3 d\n"
     ]
    }
   ],
   "source": [
    "elems=[\"a\",\"b\",\"c\",\"d\"]\n",
    "for  index,value in enumerate(elems):\n",
    "    print(index,value)"
   ]
  },
  {
   "cell_type": "code",
   "execution_count": 27,
   "id": "9e72da0e-cd5a-4f67-b7b1-63a092c95669",
   "metadata": {},
   "outputs": [
    {
     "name": "stdout",
     "output_type": "stream",
     "text": [
      "[[19 22]\n",
      " [43 50]]\n",
      "[[19 22]\n",
      " [43 50]]\n"
     ]
    }
   ],
   "source": [
    "import numpy as np\n",
    "A=np.array([[1,2],[3,4]])\n",
    "B=np.array([[5,6],[7,8]])\n",
    "C=A@B\n",
    "# print(A)\n",
    "# print(B)\n",
    "print(C)\n",
    "A @=B\n",
    "print(A)"
   ]
  },
  {
   "cell_type": "markdown",
   "id": "a8581deb-9b6e-4533-950e-6ceee7a8edf6",
   "metadata": {},
   "source": [
    "# Trick"
   ]
  },
  {
   "cell_type": "code",
   "execution_count": 1,
   "id": "3506bf2b-4fd3-4dae-a13d-90097233ae57",
   "metadata": {},
   "outputs": [
    {
     "name": "stdout",
     "output_type": "stream",
     "text": [
      "A\n",
      "D\n",
      "E\n"
     ]
    }
   ],
   "source": [
    "items=[\"A\",\"B\",\"C\",\"D\",\"E\"]\n",
    "for item in items:\n",
    "    if item==\"B\":\n",
    "        items.remove(item)\n",
    "    else:\n",
    "        print(item)"
   ]
  },
  {
   "cell_type": "code",
   "execution_count": 34,
   "id": "9bb98391-989e-4bb5-872d-477e96410c5c",
   "metadata": {},
   "outputs": [
    {
     "name": "stdout",
     "output_type": "stream",
     "text": [
      "A\n",
      "C\n",
      "D\n",
      "E\n",
      "['A', 'C', 'D', 'E']\n"
     ]
    }
   ],
   "source": [
    "items=[\"A\",\"B\",\"C\",\"D\",\"E\"]\n",
    "new_items=[]\n",
    "for item in items:\n",
    "    if item==\"B\":\n",
    "        continue# items.remove(item)\n",
    "    else:\n",
    "        print(item)\n",
    "        new_items.append(item)\n",
    "print(new_items)        \n"
   ]
  },
  {
   "cell_type": "code",
   "execution_count": 125,
   "id": "67f5c2ec-6387-45a1-a3ba-606fa3836846",
   "metadata": {},
   "outputs": [
    {
     "name": "stdout",
     "output_type": "stream",
     "text": [
      "['A', 'C', 'D', 'E']\n"
     ]
    }
   ],
   "source": [
    "items=[\"A\",\"B\",\"C\",\"D\",\"E\"]\n",
    "items.remove(\"B\")\n",
    "print(items)"
   ]
  },
  {
   "cell_type": "markdown",
   "id": "40f5a8f5-bfcd-4396-b005-02c385f1808e",
   "metadata": {},
   "source": [
    "# Trick"
   ]
  },
  {
   "cell_type": "code",
   "execution_count": 38,
   "id": "8c7c7675-d8c6-444a-9083-aeaaffce6c5e",
   "metadata": {},
   "outputs": [
    {
     "name": "stdout",
     "output_type": "stream",
     "text": [
      "None\n"
     ]
    }
   ],
   "source": [
    "def info():\n",
    "    ...\n",
    "print(info())    "
   ]
  },
  {
   "cell_type": "code",
   "execution_count": 124,
   "id": "07830c14-5e0f-44a5-9bf7-27670f5c33d0",
   "metadata": {},
   "outputs": [
    {
     "name": "stdout",
     "output_type": "stream",
     "text": [
      "{'name': 'gopi'}\n"
     ]
    }
   ],
   "source": [
    "def info():\n",
    "    # print(\"gopi\")\n",
    "    return {\"name\":\"gopi\"}\n",
    "print(info())    "
   ]
  },
  {
   "cell_type": "markdown",
   "id": "3967f504-ffc3-4712-8c9f-751c9b291789",
   "metadata": {},
   "source": [
    "# about deepcopy and shallow copy"
   ]
  },
  {
   "cell_type": "markdown",
   "id": "b643d5c0-285e-49fc-a1f6-e68c33aa8506",
   "metadata": {},
   "source": [
    "# deepcopy"
   ]
  },
  {
   "cell_type": "code",
   "execution_count": 47,
   "id": "adb74300-426d-4951-9bb6-17e485c79cd8",
   "metadata": {},
   "outputs": [
    {
     "name": "stdout",
     "output_type": "stream",
     "text": [
      "[0, ['a', 'b'], 2]\n",
      "[0, [9999, 'b'], 2]\n"
     ]
    }
   ],
   "source": [
    "import copy\n",
    "a=[0,[\"a\",\"b\"],2]\n",
    "b=copy.deepcopy(a)\n",
    "b[1][0]=9999\n",
    "print(a)\n",
    "print(b)"
   ]
  },
  {
   "cell_type": "code",
   "execution_count": 2,
   "id": "a161b19a-0d9e-490d-918d-af69cd1d0567",
   "metadata": {},
   "outputs": [
    {
     "ename": "NameError",
     "evalue": "name 'copy' is not defined",
     "output_type": "error",
     "traceback": [
      "\u001b[1;31m---------------------------------------------------------------------------\u001b[0m",
      "\u001b[1;31mNameError\u001b[0m                                 Traceback (most recent call last)",
      "Cell \u001b[1;32mIn[2], line 2\u001b[0m\n\u001b[0;32m      1\u001b[0m a\u001b[38;5;241m=\u001b[39m[\u001b[38;5;241m0\u001b[39m,[\u001b[38;5;124m\"\u001b[39m\u001b[38;5;124ma\u001b[39m\u001b[38;5;124m\"\u001b[39m,\u001b[38;5;124m\"\u001b[39m\u001b[38;5;124mb\u001b[39m\u001b[38;5;124m\"\u001b[39m],\u001b[38;5;241m2\u001b[39m]\n\u001b[1;32m----> 2\u001b[0m b\u001b[38;5;241m=\u001b[39m\u001b[43mcopy\u001b[49m\u001b[38;5;241m.\u001b[39mcopy(a)\n\u001b[0;32m      3\u001b[0m b[\u001b[38;5;241m1\u001b[39m][\u001b[38;5;241m0\u001b[39m]\u001b[38;5;241m=\u001b[39m\u001b[38;5;241m9999\u001b[39m\n\u001b[0;32m      4\u001b[0m \u001b[38;5;28mprint\u001b[39m(a)\n",
      "\u001b[1;31mNameError\u001b[0m: name 'copy' is not defined"
     ]
    }
   ],
   "source": [
    "a=[0,[\"a\",\"b\"],2]\n",
    "b=copy.copy(a)\n",
    "b[1][0]=9999\n",
    "print(a)\n",
    "print(b)"
   ]
  },
  {
   "cell_type": "markdown",
   "id": "51ae47ae-a077-4d9b-a7e5-0d313bcded89",
   "metadata": {},
   "source": [
    "# module import types"
   ]
  },
  {
   "cell_type": "code",
   "execution_count": 3,
   "id": "718a001a-f452-4308-b946-b57ad335d8f8",
   "metadata": {},
   "outputs": [
    {
     "name": "stdout",
     "output_type": "stream",
     "text": [
      "2.23606797749979\n",
      "3.141592653589793\n"
     ]
    }
   ],
   "source": [
    "import math\n",
    "print(math.sqrt(5))\n",
    "print(math.pi)"
   ]
  },
  {
   "cell_type": "code",
   "execution_count": 122,
   "id": "ad56f854-8383-4784-b53d-25294fad81c6",
   "metadata": {},
   "outputs": [
    {
     "name": "stdout",
     "output_type": "stream",
     "text": [
      "2.23606797749979\n",
      "3.141592653589793\n"
     ]
    }
   ],
   "source": [
    "from math import (sqrt,pi)\n",
    "print(math.sqrt(5))\n",
    "print(math.pi)"
   ]
  },
  {
   "cell_type": "code",
   "execution_count": 7,
   "id": "cdccc337-813c-4435-bc79-e4c5d18028d1",
   "metadata": {},
   "outputs": [
    {
     "name": "stdout",
     "output_type": "stream",
     "text": [
      "2.23606797749979\n"
     ]
    }
   ],
   "source": [
    "from math import *\n",
    "print(sqrt(5))"
   ]
  },
  {
   "cell_type": "markdown",
   "id": "64375875-3c2d-4099-8501-398cd2d6faf8",
   "metadata": {},
   "source": [
    "# trick"
   ]
  },
  {
   "cell_type": "code",
   "execution_count": 2,
   "id": "2036597c-93c3-4319-9627-1acaa1fda884",
   "metadata": {},
   "outputs": [
    {
     "name": "stdout",
     "output_type": "stream",
     "text": [
      "1000000000000\n",
      "1,000,000,000,000\n",
      "1_000_000_000_000\n"
     ]
    },
    {
     "ename": "ValueError",
     "evalue": "Cannot specify ',' with '\\x20'.",
     "output_type": "error",
     "traceback": [
      "\u001b[1;31m---------------------------------------------------------------------------\u001b[0m",
      "\u001b[1;31mValueError\u001b[0m                                Traceback (most recent call last)",
      "Cell \u001b[1;32mIn[2], line 5\u001b[0m\n\u001b[0;32m      3\u001b[0m \u001b[38;5;28mprint\u001b[39m(\u001b[38;5;124mf\u001b[39m\u001b[38;5;124m\"\u001b[39m\u001b[38;5;132;01m{\u001b[39;00mn\u001b[38;5;132;01m:\u001b[39;00m\u001b[38;5;124m,\u001b[39m\u001b[38;5;132;01m}\u001b[39;00m\u001b[38;5;124m\"\u001b[39m)\n\u001b[0;32m      4\u001b[0m \u001b[38;5;28mprint\u001b[39m(\u001b[38;5;124mf\u001b[39m\u001b[38;5;124m\"\u001b[39m\u001b[38;5;132;01m{\u001b[39;00mn\u001b[38;5;132;01m:\u001b[39;00m\u001b[38;5;124m_\u001b[39m\u001b[38;5;132;01m}\u001b[39;00m\u001b[38;5;124m\"\u001b[39m)\n\u001b[1;32m----> 5\u001b[0m \u001b[38;5;28mprint\u001b[39m(\u001b[38;5;124mf\u001b[39m\u001b[38;5;124m\"\u001b[39m\u001b[38;5;132;01m{\u001b[39;00mn\u001b[38;5;132;01m:\u001b[39;00m\u001b[38;5;124m, \u001b[39m\u001b[38;5;132;01m}\u001b[39;00m\u001b[38;5;124m\"\u001b[39m)\n\u001b[0;32m      6\u001b[0m a\u001b[38;5;241m=\u001b[39m\u001b[38;5;241m1_100\u001b[39m\n\u001b[0;32m      7\u001b[0m b\u001b[38;5;241m=\u001b[39m\u001b[38;5;241m2_00\u001b[39m\n",
      "\u001b[1;31mValueError\u001b[0m: Cannot specify ',' with '\\x20'."
     ]
    }
   ],
   "source": [
    "n=1000000000000\n",
    "print(n)\n",
    "print(f\"{n:,}\")\n",
    "print(f\"{n:_}\")\n",
    "print(f\"{n:, }\")\n",
    "a=1_100\n",
    "b=2_00\n",
    "print(a+b)"
   ]
  },
  {
   "cell_type": "markdown",
   "id": "0219b84b-7863-4add-b4ec-c78b1fac4587",
   "metadata": {},
   "source": [
    "# difference b/w module ,package,library"
   ]
  },
  {
   "cell_type": "markdown",
   "id": "95784aa8-b381-4bf5-ad49-58ad70c0a30a",
   "metadata": {},
   "source": [
    "# 1.module is sigle python file, functions,classess,variable etc...\n",
    "# 2.package is collection of python modules.\n",
    "# 3.library is collection packages and modules\n",
    "#     # exp numpy and pandas"
   ]
  },
  {
   "cell_type": "markdown",
   "id": "99d8c834-0508-44da-bde9-bf051c136905",
   "metadata": {},
   "source": [
    "# trick"
   ]
  },
  {
   "cell_type": "code",
   "execution_count": 121,
   "id": "5afeba11-5fb9-41e1-9fe9-fcc549cbfaea",
   "metadata": {},
   "outputs": [
    {
     "name": "stdout",
     "output_type": "stream",
     "text": [
      "08:07:2024 12:02:31\n",
      "Monday 08 July 2024\n"
     ]
    }
   ],
   "source": [
    "from datetime import datetime\n",
    "now=datetime.now()\n",
    "# print(now)\n",
    "print(f\"{now:%d:%m:%Y %H:%M:%S}\")\n",
    "print(f\"{now:%A %d %B %Y}\")"
   ]
  },
  {
   "cell_type": "code",
   "execution_count": 120,
   "id": "888b6bf9-c815-40d7-9594-c11bf4afb927",
   "metadata": {},
   "outputs": [
    {
     "name": "stdout",
     "output_type": "stream",
     "text": [
      "<class 'int'>\n",
      "<class 'tuple'>\n"
     ]
    }
   ],
   "source": [
    "tup=(100) int datatype\n",
    "tup1=(100,)\n",
    "print(type(tup))\n",
    "print(type(tup1))"
   ]
  },
  {
   "cell_type": "markdown",
   "id": "5baa0990-3734-422d-8662-6a13e30a4cd9",
   "metadata": {},
   "source": [
    "# trick"
   ]
  },
  {
   "cell_type": "code",
   "execution_count": 39,
   "id": "11e49edf-ed52-4dd9-ba69-e22808667d72",
   "metadata": {},
   "outputs": [
    {
     "ename": "SyntaxError",
     "evalue": "invalid syntax (2145796581.py, line 1)",
     "output_type": "error",
     "traceback": [
      "\u001b[1;36m  Cell \u001b[1;32mIn[39], line 1\u001b[1;36m\u001b[0m\n\u001b[1;33m    *-, = range(4)\u001b[0m\n\u001b[1;37m      ^\u001b[0m\n\u001b[1;31mSyntaxError\u001b[0m\u001b[1;31m:\u001b[0m invalid syntax\n"
     ]
    }
   ],
   "source": [
    "*-, = range(4)\n",
    "print(_)"
   ]
  },
  {
   "cell_type": "code",
   "execution_count": 118,
   "id": "7dd7b592-ff93-4b84-b5b3-7810cc1921ad",
   "metadata": {},
   "outputs": [
    {
     "name": "stdout",
     "output_type": "stream",
     "text": [
      "[0, 1, 2, 3, 4]\n"
     ]
    }
   ],
   "source": [
    "print(list(range(5)))"
   ]
  },
  {
   "cell_type": "markdown",
   "id": "455d40d7-3dc9-4e3e-b30c-cfed28190763",
   "metadata": {},
   "source": [
    "# trick"
   ]
  },
  {
   "cell_type": "code",
   "execution_count": 117,
   "id": "74e59887-32cf-4a30-b951-f5c501d2d5a3",
   "metadata": {},
   "outputs": [
    {
     "name": "stdout",
     "output_type": "stream",
     "text": [
      "134\n"
     ]
    }
   ],
   "source": [
    "a,b=\"12\"\n",
    "b,c=\"34\"\n",
    "# print(a+b)\n",
    "print(a+b+c)\n",
    "# print(a+c) "
   ]
  },
  {
   "cell_type": "markdown",
   "id": "f396136e-c793-480a-a2a4-160844d0aeb1",
   "metadata": {},
   "source": [
    "# magic methods"
   ]
  },
  {
   "cell_type": "markdown",
   "id": "ce8d4749-8eed-4821-a896-42113e9c6c85",
   "metadata": {},
   "source": [
    "# about round method"
   ]
  },
  {
   "cell_type": "code",
   "execution_count": 4,
   "id": "808872e1-b34f-400b-a484-aa21920cdd1b",
   "metadata": {},
   "outputs": [
    {
     "name": "stdout",
     "output_type": "stream",
     "text": [
      "1200.0\n"
     ]
    }
   ],
   "source": [
    "number=1234.567\n",
    "print(round(number,-2))"
   ]
  },
  {
   "cell_type": "code",
   "execution_count": 116,
   "id": "4b2bc8ea-5232-4a73-bfc9-a2013fbd69b5",
   "metadata": {},
   "outputs": [
    {
     "name": "stdout",
     "output_type": "stream",
     "text": [
      "1200.0\n"
     ]
    }
   ],
   "source": [
    "print(round(number,-2))"
   ]
  },
  {
   "cell_type": "code",
   "execution_count": 115,
   "id": "8a5f81ff-1973-466a-a71a-0372b6cbb23f",
   "metadata": {},
   "outputs": [
    {
     "name": "stdout",
     "output_type": "stream",
     "text": [
      "1000.0\n"
     ]
    }
   ],
   "source": [
    "print(round(number,-3))"
   ]
  },
  {
   "cell_type": "markdown",
   "id": "0ef93e33-3fb6-4ccf-b134-4ebf0cdf9424",
   "metadata": {},
   "source": [
    "# trick split text file into list"
   ]
  },
  {
   "cell_type": "code",
   "execution_count": 114,
   "id": "0b514225-4960-4af0-a3a4-41b0562f504d",
   "metadata": {},
   "outputs": [
    {
     "name": "stdout",
     "output_type": "stream",
     "text": [
      "['eggs', 'ham', 'spam', 'orange']\n"
     ]
    }
   ],
   "source": [
    "text=\"\"\"eggs\n",
    "ham\n",
    "spam\n",
    "orange\"\"\"\n",
    "print(text.splitlines())\n"
   ]
  },
  {
   "cell_type": "code",
   "execution_count": 113,
   "id": "00d2ddc2-4a02-4eda-9b86-3e9f5b50cf4d",
   "metadata": {},
   "outputs": [
    {
     "name": "stdout",
     "output_type": "stream",
     "text": [
      "['yyeeeesssssxxx']\n"
     ]
    }
   ],
   "source": [
    "print(text.splitlines(keepends=True))"
   ]
  },
  {
   "cell_type": "code",
   "execution_count": 54,
   "id": "ff51448c-b086-4b53-a713-07cd5f8ebd13",
   "metadata": {},
   "outputs": [
    {
     "name": "stdout",
     "output_type": "stream",
     "text": [
      "..............python\n"
     ]
    }
   ],
   "source": [
    "var=\"python\"\n",
    "print(f\"{var:.>20}\")"
   ]
  },
  {
   "cell_type": "code",
   "execution_count": 55,
   "id": "a99b45d8-057c-4037-8608-a2e5db1695d6",
   "metadata": {},
   "outputs": [
    {
     "name": "stdout",
     "output_type": "stream",
     "text": [
      "python..............\n"
     ]
    }
   ],
   "source": [
    "print(f\"{var:.<20}\")"
   ]
  },
  {
   "cell_type": "code",
   "execution_count": 60,
   "id": "210bc17e-aec6-4956-b2b3-68d2860dc335",
   "metadata": {},
   "outputs": [
    {
     "name": "stdout",
     "output_type": "stream",
     "text": [
      ".......python.......\n"
     ]
    }
   ],
   "source": [
    "print(f\"{var:.^20}\")"
   ]
  },
  {
   "cell_type": "code",
   "execution_count": 65,
   "id": "9f5b46ff-05cf-4205-b83a-7fd0921936f0",
   "metadata": {},
   "outputs": [
    {
     "name": "stdout",
     "output_type": "stream",
     "text": [
      "                                  2024\n",
      "\n",
      "      January                   February                   March\n",
      "Mo Tu We Th Fr Sa Su      Mo Tu We Th Fr Sa Su      Mo Tu We Th Fr Sa Su\n",
      " 1  2  3  4  5  6  7                1  2  3  4                   1  2  3\n",
      " 8  9 10 11 12 13 14       5  6  7  8  9 10 11       4  5  6  7  8  9 10\n",
      "15 16 17 18 19 20 21      12 13 14 15 16 17 18      11 12 13 14 15 16 17\n",
      "22 23 24 25 26 27 28      19 20 21 22 23 24 25      18 19 20 21 22 23 24\n",
      "29 30 31                  26 27 28 29               25 26 27 28 29 30 31\n",
      "\n",
      "       April                      May                       June\n",
      "Mo Tu We Th Fr Sa Su      Mo Tu We Th Fr Sa Su      Mo Tu We Th Fr Sa Su\n",
      " 1  2  3  4  5  6  7             1  2  3  4  5                      1  2\n",
      " 8  9 10 11 12 13 14       6  7  8  9 10 11 12       3  4  5  6  7  8  9\n",
      "15 16 17 18 19 20 21      13 14 15 16 17 18 19      10 11 12 13 14 15 16\n",
      "22 23 24 25 26 27 28      20 21 22 23 24 25 26      17 18 19 20 21 22 23\n",
      "29 30                     27 28 29 30 31            24 25 26 27 28 29 30\n",
      "\n",
      "        July                     August                  September\n",
      "Mo Tu We Th Fr Sa Su      Mo Tu We Th Fr Sa Su      Mo Tu We Th Fr Sa Su\n",
      " 1  2  3  4  5  6  7                1  2  3  4                         1\n",
      " 8  9 10 11 12 13 14       5  6  7  8  9 10 11       2  3  4  5  6  7  8\n",
      "15 16 17 18 19 20 21      12 13 14 15 16 17 18       9 10 11 12 13 14 15\n",
      "22 23 24 25 26 27 28      19 20 21 22 23 24 25      16 17 18 19 20 21 22\n",
      "29 30 31                  26 27 28 29 30 31         23 24 25 26 27 28 29\n",
      "                                                    30\n",
      "\n",
      "      October                   November                  December\n",
      "Mo Tu We Th Fr Sa Su      Mo Tu We Th Fr Sa Su      Mo Tu We Th Fr Sa Su\n",
      "    1  2  3  4  5  6                   1  2  3                         1\n",
      " 7  8  9 10 11 12 13       4  5  6  7  8  9 10       2  3  4  5  6  7  8\n",
      "14 15 16 17 18 19 20      11 12 13 14 15 16 17       9 10 11 12 13 14 15\n",
      "21 22 23 24 25 26 27      18 19 20 21 22 23 24      16 17 18 19 20 21 22\n",
      "28 29 30 31               25 26 27 28 29 30         23 24 25 26 27 28 29\n",
      "                                                    30 31\n",
      "\n"
     ]
    }
   ],
   "source": [
    "import calendar\n",
    "op=calendar.calendar(2024)\n",
    "print(op)"
   ]
  },
  {
   "cell_type": "code",
   "execution_count": 71,
   "id": "caaf1867-ddbe-47cb-ba11-65e6275376d7",
   "metadata": {},
   "outputs": [
    {
     "name": "stdout",
     "output_type": "stream",
     "text": [
      "July\n",
      "Friday\n"
     ]
    }
   ],
   "source": [
    "op=calendar.month_name[7]\n",
    "print(op)\n",
    "op=calendar.day_name[4]\n",
    "print(op)"
   ]
  },
  {
   "cell_type": "code",
   "execution_count": 111,
   "id": "a150c4cd-1e84-4ab6-ab2a-55a1eea37b13",
   "metadata": {},
   "outputs": [
    {
     "name": "stdout",
     "output_type": "stream",
     "text": [
      "     July 2024\n",
      "Mo Tu We Th Fr Sa Su\n",
      " 1  2  3  4  5  6  7\n",
      " 8  9 10 11 12 13 14\n",
      "15 16 17 18 19 20 21\n",
      "22 23 24 25 26 27 28\n",
      "29 30 31\n",
      "\n"
     ]
    }
   ],
   "source": [
    "op=calendar.month(2024,7)\n",
    "print(op)"
   ]
  },
  {
   "cell_type": "markdown",
   "id": "981150c5-82de-4c5b-98ae-9fd4ae5f47ea",
   "metadata": {},
   "source": [
    "# occurence of each character in string"
   ]
  },
  {
   "cell_type": "code",
   "execution_count": 110,
   "id": "37357dc6-a0c5-42b2-a871-6a8c425bb667",
   "metadata": {},
   "outputs": [
    {
     "name": "stdout",
     "output_type": "stream",
     "text": [
      "{'y': 2, 'e': 4, 's': 5, 'x': 3}\n"
     ]
    }
   ],
   "source": [
    "text=\"yyeeeesssssxxx\"\n",
    "d={}\n",
    "for i in text :\n",
    "    if i in d:\n",
    "        d[i]=d[i] +1\n",
    "    else:\n",
    "        d[i]=1\n",
    "print(d)        "
   ]
  },
  {
   "cell_type": "code",
   "execution_count": 77,
   "id": "39e03e2f-b858-46d4-b7f9-b6a572281fc3",
   "metadata": {},
   "outputs": [
    {
     "ename": "ImportError",
     "evalue": "cannot import name 'counter' from 'collections' (C:\\Users\\2329805\\AppData\\Local\\Programs\\Python\\Python310\\lib\\collections\\__init__.py)",
     "output_type": "error",
     "traceback": [
      "\u001b[1;31m---------------------------------------------------------------------------\u001b[0m",
      "\u001b[1;31mImportError\u001b[0m                               Traceback (most recent call last)",
      "Cell \u001b[1;32mIn[77], line 1\u001b[0m\n\u001b[1;32m----> 1\u001b[0m \u001b[38;5;28;01mfrom\u001b[39;00m \u001b[38;5;21;01mcollections\u001b[39;00m \u001b[38;5;28;01mimport\u001b[39;00m counter\n\u001b[0;32m      2\u001b[0m text\u001b[38;5;241m=\u001b[39m\u001b[38;5;124m\"\u001b[39m\u001b[38;5;124myyeeeesssssxxx\u001b[39m\u001b[38;5;124m\"\u001b[39m\n\u001b[0;32m      3\u001b[0m op\u001b[38;5;241m=\u001b[39mcounter(text)\n",
      "\u001b[1;31mImportError\u001b[0m: cannot import name 'counter' from 'collections' (C:\\Users\\2329805\\AppData\\Local\\Programs\\Python\\Python310\\lib\\collections\\__init__.py)"
     ]
    }
   ],
   "source": [
    "from collections import counter\n",
    "text=\"yyeeeesssssxxx\"\n",
    "op=counter(text)\n",
    "print(op)\n",
    "print(op.most_common())"
   ]
  },
  {
   "cell_type": "markdown",
   "id": "457ebd0a-d966-4eb2-98b1-72471b376acb",
   "metadata": {},
   "source": [
    "# trick"
   ]
  },
  {
   "cell_type": "code",
   "execution_count": 85,
   "id": "843513da-1b3f-43ec-80fa-b04d20935c9c",
   "metadata": {},
   "outputs": [
    {
     "name": "stdout",
     "output_type": "stream",
     "text": [
      "[1]\n",
      "[1, 2]\n",
      "[1, 2, 3]\n",
      "[1, 2, 3, 4]\n"
     ]
    }
   ],
   "source": [
    "def func(a,b=[]):\n",
    "    b.append(a)\n",
    "    return b\n",
    "print(func(1))  \n",
    "print(func(2))\n",
    "print(func(3))\n",
    "print(func(4))"
   ]
  },
  {
   "cell_type": "markdown",
   "id": "9ea635bf-12e6-449d-8e80-33f983b11b95",
   "metadata": {},
   "source": [
    "# trick"
   ]
  },
  {
   "cell_type": "code",
   "execution_count": 108,
   "id": "910ec968-c09e-4810-a957-2eca6e2deef5",
   "metadata": {},
   "outputs": [
    {
     "name": "stdout",
     "output_type": "stream",
     "text": [
      "{1, 4}\n",
      "{2, 3}\n"
     ]
    }
   ],
   "source": [
    "set_a={1,2,3}\n",
    "set_b={2,3,4}\n",
    "print(set_a ^ set_b)\n",
    "print(set_a & set_b)"
   ]
  },
  {
   "cell_type": "markdown",
   "id": "4e57babb-98d6-4fbd-ab0f-f7761831150e",
   "metadata": {},
   "source": [
    "# trick"
   ]
  },
  {
   "cell_type": "code",
   "execution_count": 106,
   "id": "ebbbf853-f33c-41d8-b3f2-9875ddf10d74",
   "metadata": {},
   "outputs": [
    {
     "name": "stdout",
     "output_type": "stream",
     "text": [
      "5\n"
     ]
    }
   ],
   "source": [
    "numbers=[1,2,3,4,5]\n",
    "names=[\"mario\",\"jeff\",\"carlos\"]\n",
    "print(max(numbers))"
   ]
  },
  {
   "cell_type": "code",
   "execution_count": 105,
   "id": "c33cd4f1-c399-4e05-b210-8c639a942098",
   "metadata": {},
   "outputs": [
    {
     "name": "stdout",
     "output_type": "stream",
     "text": [
      "carlos\n"
     ]
    }
   ],
   "source": [
    "print(max(names,key=len))"
   ]
  },
  {
   "cell_type": "markdown",
   "id": "dab6dc18-4d5d-4daf-83a1-12727edec3da",
   "metadata": {},
   "source": [
    "# trick"
   ]
  },
  {
   "cell_type": "code",
   "execution_count": 91,
   "id": "85026eb9-d4c4-4b54-b68a-067e9b0f55ae",
   "metadata": {},
   "outputs": [
    {
     "name": "stdout",
     "output_type": "stream",
     "text": [
      "[0, 1, 2]\n"
     ]
    }
   ],
   "source": [
    "l=[i for i in range(3)]\n",
    "print(l)"
   ]
  },
  {
   "cell_type": "code",
   "execution_count": 1,
   "id": "cecd0bab-d353-495f-88d9-56aa6907d3de",
   "metadata": {},
   "outputs": [
    {
     "name": "stdout",
     "output_type": "stream",
     "text": [
      "{1, 2, 3}\n"
     ]
    }
   ],
   "source": [
    "s={i for i in [1,1,2,3,3]}\n",
    "print(s)\n"
   ]
  },
  {
   "cell_type": "code",
   "execution_count": 102,
   "id": "e4b7afaf-2a1b-46fd-961c-dee4eeae5651",
   "metadata": {},
   "outputs": [
    {
     "name": "stdout",
     "output_type": "stream",
     "text": [
      "{'a': 1, 'b': 2}\n"
     ]
    }
   ],
   "source": [
    "items=((\"a\",1),(\"b\",2))\n",
    "d={key:val for key,val in items}\n",
    "print(d)"
   ]
  },
  {
   "cell_type": "code",
   "execution_count": 98,
   "id": "d6515f51-c095-41cd-994b-8e8163bede38",
   "metadata": {},
   "outputs": [
    {
     "name": "stdout",
     "output_type": "stream",
     "text": [
      "{1: 2, 3: 4}\n"
     ]
    }
   ],
   "source": [
    "items=[[1,2],[3,4]]\n",
    "d={key:val for key,val in items}\n",
    "print(d)"
   ]
  },
  {
   "cell_type": "code",
   "execution_count": 101,
   "id": "962dd2a8-fedc-4a49-87ce-a014b60528d3",
   "metadata": {},
   "outputs": [
    {
     "name": "stdout",
     "output_type": "stream",
     "text": [
      "{1: 'a', 2: 'b'}\n"
     ]
    }
   ],
   "source": [
    "items=[(1,\"a\"),(2,\"b\")]\n",
    "d={key:val for key,val in items}\n",
    "print(d)"
   ]
  },
  {
   "cell_type": "code",
   "execution_count": 8,
   "id": "498335fe-47b4-40d7-8384-8542cedef27d",
   "metadata": {},
   "outputs": [
    {
     "name": "stdout",
     "output_type": "stream",
     "text": [
      "1\n",
      "1\n",
      "1\n",
      "1\n",
      "1\n",
      "2\n",
      "2\n",
      "2\n",
      "2\n",
      "2\n",
      "3\n",
      "3\n",
      "3\n",
      "3\n",
      "3\n",
      "4\n",
      "4\n",
      "4\n",
      "4\n",
      "5\n",
      "5\n",
      "5\n",
      "5\n"
     ]
    }
   ],
   "source": [
    "list1 = [1, 2, 3, 4, 5]\n",
    "list2 = [4, 5, 6, 7, 8]\n"
   ]
  },
  {
   "cell_type": "code",
   "execution_count": null,
   "id": "2cec0e69-6f56-486d-af86-ef07f2ab8647",
   "metadata": {},
   "outputs": [],
   "source": []
  }
 ],
 "metadata": {
  "kernelspec": {
   "display_name": "Python 3 (ipykernel)",
   "language": "python",
   "name": "python3"
  },
  "language_info": {
   "codemirror_mode": {
    "name": "ipython",
    "version": 3
   },
   "file_extension": ".py",
   "mimetype": "text/x-python",
   "name": "python",
   "nbconvert_exporter": "python",
   "pygments_lexer": "ipython3",
   "version": "3.10.8"
  },
  "widgets": {
   "application/vnd.jupyter.widget-state+json": {
    "state": {},
    "version_major": 2,
    "version_minor": 0
   }
  }
 },
 "nbformat": 4,
 "nbformat_minor": 5
}
