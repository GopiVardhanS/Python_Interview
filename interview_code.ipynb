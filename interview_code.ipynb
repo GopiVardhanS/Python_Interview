{
 "cells": [
  {
   "cell_type": "code",
   "execution_count": 1,
   "id": "2050c58a-588f-4bf0-9080-848743839c59",
   "metadata": {},
   "outputs": [
    {
     "name": "stdout",
     "output_type": "stream",
     "text": [
      "Hi\n"
     ]
    }
   ],
   "source": [
    "print(\"Hi\")"
   ]
  },
  {
   "cell_type": "markdown",
   "id": "1b019caa-f62b-4d7b-8e75-f499acbe2090",
   "metadata": {},
   "source": [
    "# find all ANAGRAMS in given list"
   ]
  },
  {
   "cell_type": "code",
   "execution_count": 3,
   "id": "58094c71-ff11-4db0-a45b-ca26debd7236",
   "metadata": {},
   "outputs": [
    {
     "name": "stdout",
     "output_type": "stream",
     "text": [
      "{'aet': ['eat', 'tae'], 'abc': ['cba', 'abc'], 'xyz': ['xyz'], 'pqr': ['pqr']}\n"
     ]
    }
   ],
   "source": [
    "strs = ['eat', 'cba', 'tae', 'abc', 'xyz',\"pqr\"]\n",
    "d={}\n",
    "for word in strs:\n",
    "    sorted_word=\"\".join(sorted(word))\n",
    "    if sorted_word in d:\n",
    "        d[sorted_word].append(word)\n",
    "    else:\n",
    "        d[sorted_word]=[word]\n",
    "print(d)        "
   ]
  },
  {
   "cell_type": "code",
   "execution_count": 2,
   "id": "f8948002-9527-4f59-a909-d98938531a7c",
   "metadata": {},
   "outputs": [
    {
     "name": "stdout",
     "output_type": "stream",
     "text": [
      "[['eat', 'tae'], ['cba', 'abc'], ['xyz'], ['pqr']]\n"
     ]
    }
   ],
   "source": [
    "res=list(d.values())\n",
    "print(res)"
   ]
  },
  {
   "cell_type": "code",
   "execution_count": 12,
   "id": "c06e7b9a-7450-4bcc-90db-2dca6a3b8d47",
   "metadata": {},
   "outputs": [
    {
     "name": "stdout",
     "output_type": "stream",
     "text": [
      "[['eat', 'tae'], ['cba', 'abc']]\n"
     ]
    }
   ],
   "source": [
    "anagram_words=[]\n",
    "# for lst in res:\n",
    "#     if len(lst)>1:\n",
    "#         anagram_words.append(lst)\n",
    "# print(anagram_words)  \n",
    "print([lst for lst in res if len(lst)>1])\n"
   ]
  },
  {
   "cell_type": "code",
   "execution_count": 5,
   "id": "a6448550-4195-41a7-9f8c-0a1ff42ccfea",
   "metadata": {},
   "outputs": [
    {
     "name": "stdout",
     "output_type": "stream",
     "text": [
      "{'eflrstu': ['restful', 'fluster'], ' effiortvy': ['forty five', 'over fifty'], 'eilv': ['evil', 'vile']}\n"
     ]
    }
   ],
   "source": [
    "strs = ['restful', 'forty five', 'evil', 'over fifty', 'vile', 'fluster']\n",
    "d={}\n",
    "for word in strs:\n",
    "    sorted_word=\"\".join(sorted(word))\n",
    "    if sorted_word in d:\n",
    "        d[sorted_word].append(word)\n",
    "    else:\n",
    "        d[sorted_word]=[word]\n",
    "print(d)        "
   ]
  },
  {
   "cell_type": "code",
   "execution_count": 14,
   "id": "5036e123-6db2-446c-b18e-d817b2141260",
   "metadata": {},
   "outputs": [
    {
     "data": {
      "text/plain": [
       "[['restful', 'fluster'], ['forty five', 'over fifty'], ['evil', 'vile']]"
      ]
     },
     "execution_count": 14,
     "metadata": {},
     "output_type": "execute_result"
    }
   ],
   "source": [
    "[word for word in d.values() if len(word)>1]"
   ]
  },
  {
   "cell_type": "code",
   "execution_count": 15,
   "id": "e6ca9bcf-6570-4ff4-a81c-224e1485ff83",
   "metadata": {},
   "outputs": [
    {
     "name": "stdout",
     "output_type": "stream",
     "text": [
      "['bcda', 'cbda', 'adcb']\n"
     ]
    }
   ],
   "source": [
    "list_of_words=[\"bcda\",\"abce\",\"cbda\",\"cbea\",\"adcb\"]\n",
    "target=\"abcd\"\n",
    "print([word for word in list_of_words if sorted(target)==sorted(word)])"
   ]
  },
  {
   "cell_type": "code",
   "execution_count": 17,
   "id": "ab762637-c3e7-47c8-b8fe-fe73f5ec63b8",
   "metadata": {},
   "outputs": [
    {
     "name": "stdout",
     "output_type": "stream",
     "text": [
      "{3: ['red'], 5: ['green', 'black', 'white'], 4: ['ping']}\n"
     ]
    }
   ],
   "source": [
    "input=[\"red\",\"green\",\"black\",\"white\",\"ping\"]\n",
    "d={}\n",
    "for word in input:\n",
    "    if len(word) in d:\n",
    "        d[len(word)].append(word)\n",
    "    else:\n",
    "        d[len(word)]=[word]\n",
    "print(d)        \n"
   ]
  },
  {
   "cell_type": "code",
   "execution_count": null,
   "id": "9ffcfd2e-83c3-4a8c-859b-68750d525457",
   "metadata": {},
   "outputs": [],
   "source": [
    "{len(word):word for word in input if len(word)}"
   ]
  },
  {
   "cell_type": "code",
   "execution_count": 13,
   "id": "cd307fd6-a47e-4cb7-b140-084c38c28752",
   "metadata": {},
   "outputs": [
    {
     "name": "stdout",
     "output_type": "stream",
     "text": [
      "{3: [123], 4: [4567, 3435, 6789], 5: [89012]}\n"
     ]
    }
   ],
   "source": [
    "lst=[123,4567,89012,3435,6789]\n",
    "d={}\n",
    "for i in lst:\n",
    "    if len(str(i)) in d:\n",
    "        d[len(str(i))].append(i)\n",
    "    else:\n",
    "        d[len(str(i))]=[i]\n",
    "print(d)        "
   ]
  },
  {
   "cell_type": "code",
   "execution_count": 22,
   "id": "37e5309c-7bc0-4f5d-bae4-609519b68d27",
   "metadata": {},
   "outputs": [],
   "source": [
    "# import mysql.connecter\n",
    "# con=mysql.connecter.connect(host=\"\",\n",
    "#                        user_name=\"\",\n",
    "#                        pwd=\"\",\n",
    "#                        database=\"\")\n",
    "# obj=con.cursor()\n",
    "# obj.execute(\"select * form emp\")\n"
   ]
  },
  {
   "cell_type": "code",
   "execution_count": 24,
   "id": "79ff3023-c7a1-47e8-a129-ce3a9f635fd0",
   "metadata": {},
   "outputs": [
    {
     "name": "stdout",
     "output_type": "stream",
     "text": [
      "string is PALINDROME\n"
     ]
    }
   ],
   "source": [
    "# string is palindrome or not \n",
    "string=\"madam\"\n",
    "if string==string[::-1]:\n",
    "    print(\"string is PALINDROME\")\n",
    "else:\n",
    "    print(\"string is not palindrome\")"
   ]
  },
  {
   "cell_type": "code",
   "execution_count": 25,
   "id": "56368ae6-9d11-408b-be6b-fac4477087ba",
   "metadata": {},
   "outputs": [
    {
     "name": "stdout",
     "output_type": "stream",
     "text": [
      "madam\n"
     ]
    }
   ],
   "source": [
    "string=\"madam\"\n",
    "op=\"\"\n",
    "for cha in string:\n",
    "    op=cha + op\n",
    "print(op)    "
   ]
  },
  {
   "cell_type": "code",
   "execution_count": 26,
   "id": "0cca765b-21ee-4555-93f3-c4915f83cb96",
   "metadata": {},
   "outputs": [
    {
     "name": "stdout",
     "output_type": "stream",
     "text": [
      "string is PALINDROME\n"
     ]
    }
   ],
   "source": [
    "if string==op:\n",
    "    print(\"string is PALINDROME\")\n",
    "else:\n",
    "    print(\"string is NOT PALINDROME\")"
   ]
  },
  {
   "cell_type": "code",
   "execution_count": 27,
   "id": "b2825ce0-ea77-4710-9d07-dea44af01d65",
   "metadata": {},
   "outputs": [],
   "source": [
    "# palindrom strins are radar,refer,level,reviver,"
   ]
  },
  {
   "cell_type": "code",
   "execution_count": 29,
   "id": "8c44b87d-e3e0-4ad4-8744-fd9e598f0278",
   "metadata": {},
   "outputs": [
    {
     "name": "stdout",
     "output_type": "stream",
     "text": [
      "PALINDROME NUMBER\n"
     ]
    }
   ],
   "source": [
    "num=1221\n",
    "str_num=str(num)\n",
    "if str_num==str_num[::-1]:\n",
    "    print(\"PALINDROME NUMBER\")\n",
    "else:\n",
    "    print(\"NUMBER IS NOT PALINDROME\")"
   ]
  },
  {
   "cell_type": "markdown",
   "id": "c8cab83c-7253-40ef-b0a6-999581465a90",
   "metadata": {},
   "source": [
    "# how to reverse a string"
   ]
  },
  {
   "cell_type": "code",
   "execution_count": 30,
   "id": "a8f98c98-7e8c-4ae6-9f83-bb21d1710072",
   "metadata": {},
   "outputs": [
    {
     "name": "stdout",
     "output_type": "stream",
     "text": [
      "dcba\n"
     ]
    }
   ],
   "source": [
    "string=\"abcd\"\n",
    "print(string[::-1])"
   ]
  },
  {
   "cell_type": "code",
   "execution_count": 32,
   "id": "289b3d97-86c9-4437-bd8e-b69436890ae8",
   "metadata": {},
   "outputs": [
    {
     "name": "stdout",
     "output_type": "stream",
     "text": [
      "dcba\n"
     ]
    }
   ],
   "source": [
    "op=\"\"\n",
    "for cha in string:\n",
    "    op=cha + op\n",
    "print(op)    "
   ]
  },
  {
   "cell_type": "code",
   "execution_count": 33,
   "id": "d50198f1-fe45-47ab-90f9-86cd14c584a3",
   "metadata": {},
   "outputs": [
    {
     "name": "stdout",
     "output_type": "stream",
     "text": [
      "dcba\n"
     ]
    }
   ],
   "source": [
    "print(\"\".join(reversed(string)))"
   ]
  },
  {
   "cell_type": "code",
   "execution_count": 14,
   "id": "0f804ee3-257c-402e-9cb2-f0e92959022f",
   "metadata": {},
   "outputs": [
    {
     "name": "stdout",
     "output_type": "stream",
     "text": [
      "['Abc', 'Def', 'Ghi', 'Jkl']\n"
     ]
    }
   ],
   "source": [
    "lst=[\"ABC\",\"DEF\",\"GHI\",\"JKL\"]\n",
    "op=[]\n",
    "for word in lst:\n",
    "    op.append(word.title())\n",
    "print(op)    \n",
    "    "
   ]
  },
  {
   "cell_type": "code",
   "execution_count": 15,
   "id": "3db7d5f2-82cd-4351-b306-f14723701bd3",
   "metadata": {},
   "outputs": [
    {
     "name": "stdout",
     "output_type": "stream",
     "text": [
      "['Abc', 'Def', 'Ghi', 'Jkl']\n"
     ]
    }
   ],
   "source": [
    "print([word.title() for word in lst])"
   ]
  },
  {
   "cell_type": "code",
   "execution_count": 19,
   "id": "0ccf1232-b7ab-4c16-9df5-f61c7f2d273f",
   "metadata": {},
   "outputs": [
    {
     "name": "stdout",
     "output_type": "stream",
     "text": [
      "['1', '2', '3', '4', '5']\n",
      "[1, 2, 3, 4, 5]\n",
      "15\n"
     ]
    }
   ],
   "source": [
    "num=12345\n",
    "str_num=list(str(num))\n",
    "print(str_num)\n",
    "op=list(map(int,str_num))\n",
    "print(op)\n",
    "print(sum(op))\n"
   ]
  },
  {
   "cell_type": "code",
   "execution_count": 17,
   "id": "ae4550f9-4037-4ea6-9119-b504802a1715",
   "metadata": {},
   "outputs": [
    {
     "name": "stdout",
     "output_type": "stream",
     "text": [
      "['9', '8', '7', '6']\n",
      "30\n"
     ]
    }
   ],
   "source": [
    "num=9876\n",
    "str_num=list(str(num))\n",
    "print(str_num)\n",
    "op=list(map(int,str_num))\n",
    "op\n",
    "print(sum(op))"
   ]
  },
  {
   "cell_type": "code",
   "execution_count": 20,
   "id": "42a8fc6a-36ae-4433-b46d-363d7626dea5",
   "metadata": {},
   "outputs": [
    {
     "name": "stdout",
     "output_type": "stream",
     "text": [
      "[1, 2, 3, 5, 8, 13, 21, 34, 55, 89]\n"
     ]
    }
   ],
   "source": [
    "#  fibnacci number\n",
    "first=0\n",
    "second=1\n",
    "fibnaucc=[]\n",
    "for i in range(10):\n",
    "    # print(first)\n",
    "    temp=first\n",
    "    first=second\n",
    "    second=temp + second\n",
    "    fibnaucc.append(second)\n",
    "print(fibnaucc)    \n",
    "    # print(second,end=\"\\n\")\n",
    "    "
   ]
  },
  {
   "cell_type": "markdown",
   "id": "99df9545-4702-49ed-aa15-81a132ce2992",
   "metadata": {},
   "source": [
    "# get flat list form nested list"
   ]
  },
  {
   "cell_type": "code",
   "execution_count": 23,
   "id": "849a2ebe-d211-4c72-971b-ac95434e8f66",
   "metadata": {},
   "outputs": [
    {
     "name": "stdout",
     "output_type": "stream",
     "text": [
      "[1, 2, 3, 4, 5, 6, 7, 8, 9, 1, 2, 3]\n",
      "1\n"
     ]
    }
   ],
   "source": [
    "# nested_lis=[1,2,[3,4],[5,6],7,[8,9],(1,2,3)]\n",
    "def get_flate_list(nested_list):\n",
    "    flate_list=[]\n",
    "    for item in nested_list:\n",
    "        if isinstance(item,list) or isinstance(item,tuple):\n",
    "            flate_list.extend(get_flate_list(item))\n",
    "        else:\n",
    "            flate_list.append(item)\n",
    "    return flate_list\n",
    "# print(get_flate_list([1,2,[3,4],[5,6],7,[8,9]]))\n",
    "op=get_flate_list([1,2,[3,4],[5,6],7,[8,9],(1,2,3)])\n",
    "print(op)\n",
    "print(min(op))\n",
    "    "
   ]
  },
  {
   "cell_type": "code",
   "execution_count": 71,
   "id": "dd6c1e83-9311-469a-ac7d-027c61933594",
   "metadata": {},
   "outputs": [
    {
     "name": "stdout",
     "output_type": "stream",
     "text": [
      "9\n"
     ]
    }
   ],
   "source": [
    "print(max(op))"
   ]
  },
  {
   "cell_type": "code",
   "execution_count": 5,
   "id": "8354835b-1bf3-4a74-ab49-2b3ac1870489",
   "metadata": {},
   "outputs": [
    {
     "name": "stdout",
     "output_type": "stream",
     "text": [
      "4 ['o', 'o', 'a', 'i']\n",
      "['o', 'o', 'a', 'i']\n"
     ]
    }
   ],
   "source": [
    "string=\"python programind\"\n",
    "vowels=\"aeiouAEIOU\"\n",
    "count=0\n",
    "op=[]\n",
    "for cha in string:\n",
    "    if cha in vowels:\n",
    "        count +=1\n",
    "    if cha in vowels:\n",
    "        op.append(cha)\n",
    "print(count,op) \n",
    "print(op)"
   ]
  },
  {
   "cell_type": "markdown",
   "id": "cf80e702-2b1f-4683-a6a3-b7b38a7415a8",
   "metadata": {},
   "source": [
    "# print every index duplicates in list"
   ]
  },
  {
   "cell_type": "code",
   "execution_count": 78,
   "id": "2333ac9f-8a89-49ee-9a58-ac7421ce85e8",
   "metadata": {},
   "outputs": [
    {
     "data": {
      "text/plain": [
       "[1, 2, 3, 5]"
      ]
     },
     "execution_count": 78,
     "metadata": {},
     "output_type": "execute_result"
    }
   ],
   "source": [
    "lst=[1,3,1,4,2,5,2,55,3,5,2]\n",
    "[i for i in range(len(lst)) if lst.count(i)>1]"
   ]
  },
  {
   "cell_type": "markdown",
   "id": "6811bb75-f76e-451c-9cec-641cf986f858",
   "metadata": {},
   "source": [
    "# prind index every duplicate item in list"
   ]
  },
  {
   "cell_type": "code",
   "execution_count": 79,
   "id": "ba3d693a-dbb9-41c3-9c28-4f65ef1553bb",
   "metadata": {},
   "outputs": [
    {
     "name": "stdout",
     "output_type": "stream",
     "text": [
      "Element a is found at indices [0, 3]\n",
      "Element b is found at indices [1, 4]\n",
      "Element c is found at indices [2, 5]\n"
     ]
    }
   ],
   "source": [
    "def print_duplicate_indices(lst):\n",
    "    element_to_indices = {}\n",
    "    for index, element in enumerate(lst):\n",
    "        if element not in element_to_indices:\n",
    "            element_to_indices[element] = [index]\n",
    "        else:\n",
    "            element_to_indices[element].append(index)\n",
    "\n",
    "    for element, indices in element_to_indices.items():\n",
    "        if len(indices) > 1:\n",
    "            print(f\"Element {element} is found at indices {indices}\")\n",
    "\n",
    "# Test the function\n",
    "print_duplicate_indices(['a', 'b', 'c', 'a', 'b', 'c', 'd'])\n"
   ]
  },
  {
   "cell_type": "code",
   "execution_count": 81,
   "id": "1adc2513-3513-46de-a92b-ab36e36444a1",
   "metadata": {},
   "outputs": [
    {
     "name": "stdout",
     "output_type": "stream",
     "text": [
      "{'a': [0, 3], 'b': [1, 4], 'c': [2, 5], 'd': [6]}\n"
     ]
    }
   ],
   "source": [
    "lst=['a', 'b', 'c', 'a', 'b', 'c', 'd']\n",
    "element_index={}\n",
    "for index,value in enumerate(lst):\n",
    "    if value in element_index:\n",
    "        element_index[value].append(index)\n",
    "    else:\n",
    "        element_index[value]=[index]\n",
    "print(element_index)        \n",
    "    "
   ]
  },
  {
   "cell_type": "code",
   "execution_count": 84,
   "id": "a5f723a1-b77a-4d0a-b7f6-b8276ad771c8",
   "metadata": {},
   "outputs": [
    {
     "name": "stdout",
     "output_type": "stream",
     "text": [
      "a index position is [0, 3]\n",
      "b index position is [1, 4]\n",
      "c index position is [2, 5]\n"
     ]
    }
   ],
   "source": [
    "for element,index in element_index.items():\n",
    "    if len(index)>1:\n",
    "        print(element,\"index position is\",index)"
   ]
  },
  {
   "cell_type": "code",
   "execution_count": 87,
   "id": "beebcef8-a7c3-47ab-9de6-ccb4fdadfb3a",
   "metadata": {},
   "outputs": [
    {
     "name": "stdout",
     "output_type": "stream",
     "text": [
      "{1: [0, 3], 2: [1, 4], 3: [2, 5], 4: [6], 5: [7]}\n"
     ]
    }
   ],
   "source": [
    "input=[1,2,3,1,2,3,4,5]\n",
    "ele_index={}\n",
    "for index,val in enumerate(input):\n",
    "    if val  in ele_index:\n",
    "        ele_index[val].append(index)\n",
    "    else:\n",
    "        ele_index[val]=[index]\n",
    "print(ele_index)        "
   ]
  },
  {
   "cell_type": "code",
   "execution_count": 88,
   "id": "25b19388-3d30-4433-bd58-f7c458d1e104",
   "metadata": {
    "scrolled": true
   },
   "outputs": [
    {
     "name": "stdout",
     "output_type": "stream",
     "text": [
      "1 [0, 3]\n",
      "2 [1, 4]\n",
      "3 [2, 5]\n"
     ]
    }
   ],
   "source": [
    "for ele, index in ele_index.items():\n",
    "    if len(index)>1:\n",
    "        print(ele,index)\n"
   ]
  },
  {
   "cell_type": "markdown",
   "id": "45ca84a5-0044-41dc-afdb-cedc58ce8e25",
   "metadata": {},
   "source": [
    "# printn duplicats in list"
   ]
  },
  {
   "cell_type": "code",
   "execution_count": 90,
   "id": "322ce879-82f2-4cf3-bc80-e963b443d4a2",
   "metadata": {},
   "outputs": [
    {
     "name": "stdout",
     "output_type": "stream",
     "text": [
      "{1: 2, 2: 2, 3: 2, 4: 1, 5: 1}\n"
     ]
    }
   ],
   "source": [
    "input=[1,2,3,1,2,3,4,5]\n",
    "d={}\n",
    "for i in input:\n",
    "    if i in d:\n",
    "        d[i]=d[i]+1\n",
    "    else:                  \n",
    "        d[i]=1\n",
    "print(d)"
   ]
  },
  {
   "cell_type": "code",
   "execution_count": 24,
   "id": "b35a75b2-4bdf-4141-ba84-b322e4aa20b2",
   "metadata": {},
   "outputs": [
    {
     "ename": "TypeError",
     "evalue": "'>' not supported between instances of 'list' and 'int'",
     "output_type": "error",
     "traceback": [
      "\u001b[1;31m---------------------------------------------------------------------------\u001b[0m",
      "\u001b[1;31mTypeError\u001b[0m                                 Traceback (most recent call last)",
      "Cell \u001b[1;32mIn[24], line 2\u001b[0m\n\u001b[0;32m      1\u001b[0m \u001b[38;5;28;01mfor\u001b[39;00m item,count \u001b[38;5;129;01min\u001b[39;00m d\u001b[38;5;241m.\u001b[39mitems():\n\u001b[1;32m----> 2\u001b[0m     \u001b[38;5;28;01mif\u001b[39;00m \u001b[43mcount\u001b[49m\u001b[38;5;241;43m>\u001b[39;49m\u001b[38;5;241;43m1\u001b[39;49m:\n\u001b[0;32m      3\u001b[0m         \u001b[38;5;66;03m# print(count)\u001b[39;00m\n\u001b[0;32m      4\u001b[0m         \u001b[38;5;28mprint\u001b[39m(key)\n",
      "\u001b[1;31mTypeError\u001b[0m: '>' not supported between instances of 'list' and 'int'"
     ]
    }
   ],
   "source": [
    "for item,count in d.items():\n",
    "    if count>1:\n",
    "        # print(count)\n",
    "        print(key)"
   ]
  },
  {
   "cell_type": "code",
   "execution_count": 92,
   "id": "b59166d2-1409-4c95-a951-6da96a784be2",
   "metadata": {},
   "outputs": [
    {
     "name": "stdout",
     "output_type": "stream",
     "text": [
      "Element a is duplicated\n",
      "Element b is duplicated\n",
      "Element c is duplicated\n"
     ]
    }
   ],
   "source": [
    "def print_duplicates(lst):\n",
    "    element_count = {}\n",
    "    for element in lst:\n",
    "        if element not in element_count:\n",
    "            element_count[element] = 1\n",
    "        else:\n",
    "            element_count[element] += 1\n",
    "\n",
    "    for element, count in element_count.items():\n",
    "        if count > 1:\n",
    "            print(f\"Element {element} is duplicated\")\n",
    "\n",
    "# Test the function\n",
    "print_duplicates(['a', 'b', 'c', 'a', 'b', 'c', 'd'])\n"
   ]
  },
  {
   "cell_type": "code",
   "execution_count": 93,
   "id": "56d865ac-9465-442e-a27d-18e65fb09ba6",
   "metadata": {},
   "outputs": [
    {
     "name": "stdout",
     "output_type": "stream",
     "text": [
      "['a', 'b', 'c', 'd']\n"
     ]
    }
   ],
   "source": [
    "lst=['a', 'b', 'c', 'a', 'b', 'c', 'd']\n",
    "unique=[]\n",
    "duplicates=[]\n",
    "for i in lst:\n",
    "    if i not in unique:\n",
    "        unique.append(i)\n",
    "    else:\n",
    "        duplicates.append(i)\n",
    "print(unique)        "
   ]
  },
  {
   "cell_type": "markdown",
   "id": "5179708c-e548-4daa-9d95-71676c2cb46a",
   "metadata": {},
   "source": [
    "# sum 9"
   ]
  },
  {
   "cell_type": "code",
   "execution_count": 1,
   "id": "95cca217-8e44-4a6f-8670-789456df4ff0",
   "metadata": {},
   "outputs": [
    {
     "name": "stdout",
     "output_type": "stream",
     "text": [
      "3 6\n",
      "4 5\n",
      "6 3\n",
      "5 4\n"
     ]
    }
   ],
   "source": [
    "data=[3,4,6,5,2,1]\n",
    "sum=9\n",
    "for n1 in data:\n",
    "    for n2 in data:\n",
    "        if n1+n2==sum:\n",
    "            print(n1,n2)"
   ]
  },
  {
   "cell_type": "markdown",
   "id": "01a9a935-0d9f-4502-80f0-4445766b0c0e",
   "metadata": {},
   "source": [
    "# sum =3"
   ]
  },
  {
   "cell_type": "code",
   "execution_count": 29,
   "id": "c1dae048-cd5f-4f85-88e9-14cdede25706",
   "metadata": {},
   "outputs": [
    {
     "name": "stdout",
     "output_type": "stream",
     "text": [
      "2 1\n",
      "1 2\n"
     ]
    }
   ],
   "source": [
    "data=[3,4,6,5,2,1]\n",
    "sum=3\n",
    "for n1 in data:\n",
    "    for n2 in data:\n",
    "        if n1+n2==sum:\n",
    "            print(n1,n2)"
   ]
  },
  {
   "cell_type": "code",
   "execution_count": 5,
   "id": "76d56b22-eb3f-4544-b893-cc2081ef151c",
   "metadata": {},
   "outputs": [
    {
     "name": "stdout",
     "output_type": "stream",
     "text": [
      "[2, 0, 4, 2, 1, 1, 1]\n"
     ]
    }
   ],
   "source": [
    "data=[1,2,1,0,1,4,2]\n",
    "op=[i for i in data if i !=1] + [i for i in data if i==1]\n",
    "print(op)"
   ]
  },
  {
   "cell_type": "code",
   "execution_count": 31,
   "id": "53c2a2f1-caa1-431b-8141-114871777c2f",
   "metadata": {},
   "outputs": [
    {
     "name": "stdout",
     "output_type": "stream",
     "text": [
      "[2, 0, 4, 2, 1, 1, 1]\n"
     ]
    }
   ],
   "source": [
    "data=[1,2,1,0,1,4,2]\n",
    "for i in data:\n",
    "    if i==1:\n",
    "        data.remove(i)\n",
    "        data.append(i)\n",
    "print(data)        "
   ]
  },
  {
   "cell_type": "markdown",
   "id": "2d7b7cde-1a1b-428d-a6d1-4f1a3561e59e",
   "metadata": {},
   "source": [
    "# how to check number is prime or not"
   ]
  },
  {
   "cell_type": "code",
   "execution_count": 32,
   "id": "dc45ae27-169c-492e-923f-ce5899bcb655",
   "metadata": {},
   "outputs": [
    {
     "name": "stdout",
     "output_type": "stream",
     "text": [
      "7 IS PRIME NUMBER\n"
     ]
    }
   ],
   "source": [
    "n=7\n",
    "for i in range(2,n):\n",
    "    if n%i==0:\n",
    "        break\n",
    "else:\n",
    "    print(n,\"IS PRIME NUMBER\")\n",
    "        "
   ]
  },
  {
   "cell_type": "markdown",
   "id": "367e89c6-fae2-4680-80bf-b6c28efaf9d3",
   "metadata": {},
   "source": [
    "# filter all prime numbers below 100"
   ]
  },
  {
   "cell_type": "code",
   "execution_count": 33,
   "id": "c6d6d478-d162-499b-9b0b-c6df1223b5e9",
   "metadata": {},
   "outputs": [
    {
     "name": "stdout",
     "output_type": "stream",
     "text": [
      "[2, 3, 5, 7, 11, 13, 17, 19, 23, 29, 31, 37, 41, 43, 47, 53, 59, 61, 67, 71, 73, 79, 83, 89, 97]\n"
     ]
    }
   ],
   "source": [
    "def is_prime(n):\n",
    "    \n",
    "    for i in range(2,n):\n",
    "        if n%i==0:\n",
    "            return False\n",
    "    else:\n",
    "           return True\n",
    "op=list(filter(is_prime,range(2,101))) \n",
    "print(op)        "
   ]
  },
  {
   "cell_type": "code",
   "execution_count": 6,
   "id": "76b62c3e-2b8b-43bf-ae73-af6baa816a58",
   "metadata": {},
   "outputs": [
    {
     "data": {
      "text/plain": [
       "True"
      ]
     },
     "execution_count": 6,
     "metadata": {},
     "output_type": "execute_result"
    }
   ],
   "source": [
    "def is_prime(n):\n",
    "    \n",
    "    for i in range(2,n):\n",
    "        if n%i==0:\n",
    "            return False\n",
    "    else:\n",
    "           return True\n",
    "is_prime(5)        "
   ]
  },
  {
   "cell_type": "code",
   "execution_count": 34,
   "id": "b645f40f-2e40-4e21-a074-ab6317655f92",
   "metadata": {},
   "outputs": [
    {
     "name": "stdout",
     "output_type": "stream",
     "text": [
      "Javascript\n"
     ]
    }
   ],
   "source": [
    "data=[\"Javascript\", \"Java\", \"Python\" ,\"Springboot\"]\n",
    "max_length=max(data,key=len)\n",
    "print(max_length)"
   ]
  },
  {
   "cell_type": "code",
   "execution_count": 35,
   "id": "ada6cf7b-51dd-4c51-b654-28f680bd97f5",
   "metadata": {},
   "outputs": [
    {
     "name": "stdout",
     "output_type": "stream",
     "text": [
      "Javascript\n",
      "Springboot\n"
     ]
    }
   ],
   "source": [
    "data=[\"Javascript\", \"Java\", \"Python\" ,\"Springboot\"]\n",
    "max_length=len(max(data,key=len))\n",
    "for word in data:\n",
    " if len(word)==max_length:\n",
    "               print(word)"
   ]
  },
  {
   "cell_type": "code",
   "execution_count": 25,
   "id": "a2fa6a37-7257-432f-a8a9-784ad31db9c5",
   "metadata": {},
   "outputs": [
    {
     "data": {
      "text/plain": [
       "['Javascript', 'Springboot']"
      ]
     },
     "execution_count": 25,
     "metadata": {},
     "output_type": "execute_result"
    }
   ],
   "source": [
    "data=[\"Javascript\", \"Java\", \"Python\" ,\"Springboot\"]\n",
    "max_length=len(max(data,key=len))\n",
    "op=list(filter(lambda word:len(word)==max_length,data))\n",
    "op"
   ]
  },
  {
   "cell_type": "code",
   "execution_count": 36,
   "id": "67f7d3e8-8cae-4605-a53e-256afdbb7b1f",
   "metadata": {},
   "outputs": [
    {
     "data": {
      "text/plain": [
       "[1, 3, 5, 7, 9]"
      ]
     },
     "execution_count": 36,
     "metadata": {},
     "output_type": "execute_result"
    }
   ],
   "source": [
    "nums = [1, 2, 3, 4, 5, 6, 7, 8, 9, 10]\n",
    "nums[0::2]"
   ]
  },
  {
   "cell_type": "code",
   "execution_count": 28,
   "id": "8c6e2e58-4181-408c-9f48-99be9d7ba363",
   "metadata": {},
   "outputs": [
    {
     "data": {
      "text/plain": [
       "[1, 3, 5, 7, 9]"
      ]
     },
     "execution_count": 28,
     "metadata": {},
     "output_type": "execute_result"
    }
   ],
   "source": [
    "nums[0::2]"
   ]
  },
  {
   "cell_type": "code",
   "execution_count": 37,
   "id": "9dbd9414-310b-46d9-ad24-8888b970b609",
   "metadata": {},
   "outputs": [
    {
     "data": {
      "text/plain": [
       "['Kalam', 'Jobs', 'Gates', 'Tata']"
      ]
     },
     "execution_count": 37,
     "metadata": {},
     "output_type": "execute_result"
    }
   ],
   "source": [
    "names = [\"A. P. J. Abdul Kalam\",\"Steven Paul Jobs\",\"Bill Gates\", \"Ratan Naval Tata\" ]\n",
    "l=[]\n",
    "for name in names:\n",
    "    name=name.split()[-1]\n",
    "    l.append(name)\n",
    "l    "
   ]
  },
  {
   "cell_type": "code",
   "execution_count": 38,
   "id": "aa985df0-a53f-4b3f-aeaf-2f7d62abf7fb",
   "metadata": {},
   "outputs": [
    {
     "data": {
      "text/plain": [
       "'Please Like The Video'"
      ]
     },
     "execution_count": 38,
     "metadata": {},
     "output_type": "execute_result"
    }
   ],
   "source": [
    "data =\"oediv eht ekil esaelp\"\n",
    "data[::-1].title()"
   ]
  },
  {
   "cell_type": "code",
   "execution_count": 39,
   "id": "f284a8ca-3627-443c-87a1-bb28a5fa5fb9",
   "metadata": {},
   "outputs": [
    {
     "name": "stdout",
     "output_type": "stream",
     "text": [
      "['Video', 'The', 'Like', 'Please']\n"
     ]
    }
   ],
   "source": [
    "data = \"oediv eht ekil esaelp\".split(\" \")\n",
    "op=[]\n",
    "for word in data:\n",
    "    op.append(word[::-1].title())\n",
    "print(op)    \n"
   ]
  },
  {
   "cell_type": "code",
   "execution_count": 50,
   "id": "cb8f267e-2569-4d5a-9c93-6f811deb8732",
   "metadata": {},
   "outputs": [
    {
     "data": {
      "text/plain": [
       "['we', 'are', 'going', 'to', 'travel', 'all', 'over', 'the', 'planet']"
      ]
     },
     "execution_count": 50,
     "metadata": {},
     "output_type": "execute_result"
    }
   ],
   "source": [
    "string=\"we are going to travel all over the planet\".split()\n",
    "string"
   ]
  },
  {
   "cell_type": "code",
   "execution_count": 51,
   "id": "f67e0a2f-0e81-4f31-b6e4-3e9d4825c7bc",
   "metadata": {},
   "outputs": [
    {
     "data": {
      "text/plain": [
       "['Ew', 'Era', 'Gniog', 'Ot', 'Levart', 'Lla', 'Revo', 'Eht', 'Tenalp']"
      ]
     },
     "execution_count": 51,
     "metadata": {},
     "output_type": "execute_result"
    }
   ],
   "source": [
    "op=[]\n",
    "for word in string:\n",
    "    op.append(word[::-1].title())\n",
    "op    "
   ]
  },
  {
   "cell_type": "code",
   "execution_count": 52,
   "id": "bdcac35f-f0f1-4401-9d1e-9781c949e1e5",
   "metadata": {},
   "outputs": [
    {
     "data": {
      "text/plain": [
       "['python', 'java', 'reactja']"
      ]
     },
     "execution_count": 52,
     "metadata": {},
     "output_type": "execute_result"
    }
   ],
   "source": [
    "data=[\" python\",\" java \",\"reactja \"]\n",
    "op=list(map(lambda word:word.strip(),data))\n",
    "op"
   ]
  },
  {
   "cell_type": "code",
   "execution_count": 53,
   "id": "ee69b700-9b5b-45ea-8641-8ac862ba62ec",
   "metadata": {},
   "outputs": [
    {
     "data": {
      "text/plain": [
       "['python', 'java', 'reactja']"
      ]
     },
     "execution_count": 53,
     "metadata": {},
     "output_type": "execute_result"
    }
   ],
   "source": [
    "data=[\" python\",\" java \",\"reactja \"]\n",
    "op=[]\n",
    "for word in data:\n",
    "    op.append(word.strip())\n",
    "op    "
   ]
  },
  {
   "cell_type": "code",
   "execution_count": 55,
   "id": "c4bece3c-a5fc-4e34-90cc-61cacba0998e",
   "metadata": {},
   "outputs": [
    {
     "data": {
      "text/plain": [
       "['python', 'reactJs']"
      ]
     },
     "execution_count": 55,
     "metadata": {},
     "output_type": "execute_result"
    }
   ],
   "source": [
    "data=[\"python\",\"java\",\"reactJs\"]\n",
    "op=[]\n",
    "for word in data:\n",
    "    if len(word)>4:\n",
    "        op.append(word)\n",
    "op    "
   ]
  },
  {
   "cell_type": "code",
   "execution_count": 56,
   "id": "052ac506-03f6-4f3e-b42a-af21c8fb7ad8",
   "metadata": {},
   "outputs": [
    {
     "data": {
      "text/plain": [
       "['python', 'reactJs']"
      ]
     },
     "execution_count": 56,
     "metadata": {},
     "output_type": "execute_result"
    }
   ],
   "source": [
    "[word for word in data if len(word)>4]"
   ]
  },
  {
   "cell_type": "code",
   "execution_count": 42,
   "id": "fc60cb3b-6ce9-4ca1-8297-f0e1783571ba",
   "metadata": {},
   "outputs": [
    {
     "name": "stdout",
     "output_type": "stream",
     "text": [
      "3\n",
      "['a', 'b', 'c', 'd', 'e']\n"
     ]
    }
   ],
   "source": [
    "input=[\"a\",\"b\",\"d\",\"c\",\"e\"]\n",
    "index=input.index(\"c\")\n",
    "print(index)\n",
    "input.pop(3)\n",
    "input.insert(2,\"c\")\n",
    "print(input)"
   ]
  },
  {
   "cell_type": "code",
   "execution_count": 12,
   "id": "c42062fb-acf6-469d-90eb-9b6fbfca4a2a",
   "metadata": {},
   "outputs": [
    {
     "data": {
      "text/plain": [
       "3.0"
      ]
     },
     "execution_count": 12,
     "metadata": {},
     "output_type": "execute_result"
    }
   ],
   "source": [
    "x=[10,20,30][-1]\n",
    "y=round(14,-1)\n",
    "# print(y)\n",
    "z=x/y\n",
    "z"
   ]
  },
  {
   "cell_type": "code",
   "execution_count": 64,
   "id": "9c824731-b5b5-4e2e-962a-5c5735f63325",
   "metadata": {},
   "outputs": [
    {
     "data": {
      "text/plain": [
       "12"
      ]
     },
     "execution_count": 64,
     "metadata": {},
     "output_type": "execute_result"
    }
   ],
   "source": [
    "a=10\n",
    "a=a+2\n",
    "a"
   ]
  },
  {
   "cell_type": "code",
   "execution_count": 65,
   "id": "8a2645e9-2607-4ee9-a6e9-7ef1fb156771",
   "metadata": {},
   "outputs": [
    {
     "data": {
      "text/plain": [
       "30"
      ]
     },
     "execution_count": 65,
     "metadata": {},
     "output_type": "execute_result"
    }
   ],
   "source": [
    "a=20\n",
    "a+=10\n",
    "a"
   ]
  },
  {
   "cell_type": "code",
   "execution_count": 66,
   "id": "b23d297c-b970-4b8f-9302-f469408ce6c6",
   "metadata": {},
   "outputs": [],
   "source": [
    "a=5\n",
    "a-=1"
   ]
  },
  {
   "cell_type": "code",
   "execution_count": 67,
   "id": "da47374c-5d85-4ca0-a3d4-b3aa460cbbdc",
   "metadata": {},
   "outputs": [
    {
     "data": {
      "text/plain": [
       "4"
      ]
     },
     "execution_count": 67,
     "metadata": {},
     "output_type": "execute_result"
    }
   ],
   "source": [
    "a"
   ]
  },
  {
   "cell_type": "code",
   "execution_count": 69,
   "id": "bde52fcf-1d8c-4725-bb94-846ed28e64f4",
   "metadata": {},
   "outputs": [
    {
     "data": {
      "text/plain": [
       "[1, 2, 4, 5]"
      ]
     },
     "execution_count": 69,
     "metadata": {},
     "output_type": "execute_result"
    }
   ],
   "source": [
    "data=[1,2,3,4,5]\n",
    "op=[]\n",
    "for i in data:\n",
    "    if i==3:\n",
    "        continue\n",
    "    else:\n",
    "     op.append(i)\n",
    "op     "
   ]
  },
  {
   "cell_type": "code",
   "execution_count": 70,
   "id": "8f90b500-b9b5-49a9-a8ed-3f76ea54d86c",
   "metadata": {},
   "outputs": [
    {
     "name": "stdout",
     "output_type": "stream",
     "text": [
      "[999, 2, 3, 4, 5]\n",
      "[999, 2, 3, 4, 5]\n"
     ]
    }
   ],
   "source": [
    "data=[1,2,3,4,5]\n",
    "new_data=data\n",
    "new_data[0]=999\n",
    "print(data)\n",
    "print(new_data)"
   ]
  },
  {
   "cell_type": "code",
   "execution_count": 13,
   "id": "ed9154c7-beec-43d7-9ec0-79b75969cec5",
   "metadata": {},
   "outputs": [
    {
     "data": {
      "text/plain": [
       "'txt'"
      ]
     },
     "execution_count": 13,
     "metadata": {},
     "output_type": "execute_result"
    }
   ],
   "source": [
    "data=\"file_name.txt\"\n",
    "op=data.split(\".\")[-1]\n",
    "op"
   ]
  },
  {
   "cell_type": "code",
   "execution_count": 73,
   "id": "1f7778f5-538b-4508-9028-ee630b6ff009",
   "metadata": {},
   "outputs": [
    {
     "ename": "TypeError",
     "evalue": "unsupported operand type(s) for +: 'int' and 'str'",
     "output_type": "error",
     "traceback": [
      "\u001b[1;31m---------------------------------------------------------------------------\u001b[0m",
      "\u001b[1;31mTypeError\u001b[0m                                 Traceback (most recent call last)",
      "Cell \u001b[1;32mIn[73], line 3\u001b[0m\n\u001b[0;32m      1\u001b[0m a\u001b[38;5;241m=\u001b[39m\u001b[38;5;241m10\u001b[39m\n\u001b[0;32m      2\u001b[0m b\u001b[38;5;241m=\u001b[39m\u001b[38;5;124m\"\u001b[39m\u001b[38;5;124m5\u001b[39m\u001b[38;5;124m\"\u001b[39m\n\u001b[1;32m----> 3\u001b[0m c\u001b[38;5;241m=\u001b[39m\u001b[43ma\u001b[49m\u001b[38;5;241;43m+\u001b[39;49m\u001b[43mb\u001b[49m\n\u001b[0;32m      4\u001b[0m \u001b[38;5;28mprint\u001b[39m(c)\n",
      "\u001b[1;31mTypeError\u001b[0m: unsupported operand type(s) for +: 'int' and 'str'"
     ]
    }
   ],
   "source": [
    "a=10\n",
    "b=\"5\"\n",
    "c=a+b\n",
    "print(c)"
   ]
  },
  {
   "cell_type": "code",
   "execution_count": 75,
   "id": "b0c0fbce-17fc-4245-a2a0-7455159fcf7c",
   "metadata": {},
   "outputs": [
    {
     "data": {
      "text/plain": [
       "[4, 3, 2, 1]"
      ]
     },
     "execution_count": 75,
     "metadata": {},
     "output_type": "execute_result"
    }
   ],
   "source": [
    "data=[1,2,3,4]\n",
    "d=data[::-1]\n",
    "d"
   ]
  },
  {
   "cell_type": "code",
   "execution_count": null,
   "id": "0c807d4e",
   "metadata": {},
   "outputs": [],
   "source": []
  },
  {
   "cell_type": "code",
   "execution_count": 76,
   "id": "63d134d1-d48b-44e7-82b1-03a6e41bee59",
   "metadata": {},
   "outputs": [
    {
     "name": "stdout",
     "output_type": "stream",
     "text": [
      "3\n"
     ]
    }
   ],
   "source": [
    "print(data[1] + d[-1])"
   ]
  },
  {
   "cell_type": "code",
   "execution_count": 43,
   "id": "4abbfdfc-a9c4-40c0-9fa8-aa70815b0037",
   "metadata": {},
   "outputs": [
    {
     "name": "stdout",
     "output_type": "stream",
     "text": [
      "printing completed1\n"
     ]
    }
   ],
   "source": [
    "lst=[1,2,3,4,5]\n",
    "for i in lst:\n",
    "    if i==6:\n",
    "        break\n",
    "else:\n",
    "        print(\"printing completed1\")\n",
    "for i in lst:\n",
    "    if i==2:\n",
    "        break\n",
    "else:\n",
    "    print(\"printing not completed\")\n",
    "       "
   ]
  },
  {
   "cell_type": "code",
   "execution_count": 82,
   "id": "e1e7c27b-7b63-414a-92f7-f5d302dd0e6c",
   "metadata": {},
   "outputs": [
    {
     "name": "stdout",
     "output_type": "stream",
     "text": [
      "['js', 'node']\n"
     ]
    }
   ],
   "source": [
    "data=[\"python\",\"java\",\"react\",\"js\",\"node\"]\n",
    "target=\"react\"\n",
    "index=data.index(target)\n",
    "print(data[index+1:])\n",
    "    "
   ]
  },
  {
   "cell_type": "code",
   "execution_count": 45,
   "id": "6c7a90b9-c9da-4424-a144-3ef328945e06",
   "metadata": {},
   "outputs": [
    {
     "name": "stdout",
     "output_type": "stream",
     "text": [
      "[8, 9, 10]\n"
     ]
    }
   ],
   "source": [
    "lst=[1,2,3,4,5,6,7,8,9,10]\n",
    "index=lst.index(7)\n",
    "print(lst[index+1:])"
   ]
  },
  {
   "cell_type": "code",
   "execution_count": 89,
   "id": "380a8c48-83b9-4f2c-9434-4fbee85fe6ef",
   "metadata": {},
   "outputs": [
    {
     "name": "stdout",
     "output_type": "stream",
     "text": [
      "True\n"
     ]
    }
   ],
   "source": [
    "dbmail=\"gopi.vardhan97@gmail.com\"\n",
    "usermail=\"gopi.vardhan97@gmail.com\"\n",
    "print(dbmail==usermail)"
   ]
  },
  {
   "cell_type": "code",
   "execution_count": 90,
   "id": "9d4a0c0d-0dbd-49c4-bcf7-02e270cf90e2",
   "metadata": {},
   "outputs": [],
   "source": [
    "# import pandas as pd \n",
    "# file1=pd.read_csv(\"file1 path \")\n",
    "# file2=pd.read_csv(\"file2 path \")\n",
    "# op=pd.merge(file1,file2,how=\"left\",on=[\"product_id\"])"
   ]
  },
  {
   "cell_type": "code",
   "execution_count": 16,
   "id": "2cbf64a5-2adb-4e06-bcb3-bd2bf03978a2",
   "metadata": {},
   "outputs": [
    {
     "name": "stdout",
     "output_type": "stream",
     "text": [
      "2024-08-21 13:47:03.595809\n"
     ]
    },
    {
     "ename": "TypeError",
     "evalue": "'datetime.datetime' object is not iterable",
     "output_type": "error",
     "traceback": [
      "\u001b[1;31m---------------------------------------------------------------------------\u001b[0m",
      "\u001b[1;31mTypeError\u001b[0m                                 Traceback (most recent call last)",
      "Cell \u001b[1;32mIn[16], line 4\u001b[0m\n\u001b[0;32m      2\u001b[0m today\u001b[38;5;241m=\u001b[39mdatetime\u001b[38;5;241m.\u001b[39mdatetime\u001b[38;5;241m.\u001b[39mnow()\n\u001b[0;32m      3\u001b[0m \u001b[38;5;28mprint\u001b[39m(today)\n\u001b[1;32m----> 4\u001b[0m \u001b[38;5;28mprint\u001b[39m(\u001b[38;5;28;43mlist\u001b[39;49m\u001b[43m(\u001b[49m\u001b[43mtoday\u001b[49m\u001b[43m)\u001b[49m)\n",
      "\u001b[1;31mTypeError\u001b[0m: 'datetime.datetime' object is not iterable"
     ]
    }
   ],
   "source": [
    "import datetime\n",
    "today=datetime.datetime.now()\n",
    "print(today)\n",
    "# print(list(today))"
   ]
  },
  {
   "cell_type": "code",
   "execution_count": 93,
   "id": "a20dac33-9607-4697-af88-0bd75c9a62b8",
   "metadata": {},
   "outputs": [
    {
     "data": {
      "text/plain": [
       "2024"
      ]
     },
     "execution_count": 93,
     "metadata": {},
     "output_type": "execute_result"
    }
   ],
   "source": [
    "today.year"
   ]
  },
  {
   "cell_type": "code",
   "execution_count": 94,
   "id": "05228300-6a76-4c72-ac06-f2da68e35b90",
   "metadata": {},
   "outputs": [
    {
     "data": {
      "text/plain": [
       "7"
      ]
     },
     "execution_count": 94,
     "metadata": {},
     "output_type": "execute_result"
    }
   ],
   "source": [
    "today.month"
   ]
  },
  {
   "cell_type": "code",
   "execution_count": 96,
   "id": "78ffbbd8-a566-4335-a779-31ef5d05914e",
   "metadata": {},
   "outputs": [
    {
     "data": {
      "text/plain": [
       "22"
      ]
     },
     "execution_count": 96,
     "metadata": {},
     "output_type": "execute_result"
    }
   ],
   "source": [
    "today.day"
   ]
  },
  {
   "cell_type": "code",
   "execution_count": 97,
   "id": "d557977b-8e16-4f48-b0ab-f86bf7716d82",
   "metadata": {},
   "outputs": [
    {
     "data": {
      "text/plain": [
       "18"
      ]
     },
     "execution_count": 97,
     "metadata": {},
     "output_type": "execute_result"
    }
   ],
   "source": [
    "today.hour"
   ]
  },
  {
   "cell_type": "code",
   "execution_count": 99,
   "id": "5a34488d-932c-463b-88ee-d813e124537f",
   "metadata": {},
   "outputs": [
    {
     "data": {
      "text/plain": [
       "37"
      ]
     },
     "execution_count": 99,
     "metadata": {},
     "output_type": "execute_result"
    }
   ],
   "source": [
    "today.minute"
   ]
  },
  {
   "cell_type": "code",
   "execution_count": 100,
   "id": "4083bf45-cc82-418e-aa04-7613d3ba1aa9",
   "metadata": {},
   "outputs": [
    {
     "data": {
      "text/plain": [
       "59"
      ]
     },
     "execution_count": 100,
     "metadata": {},
     "output_type": "execute_result"
    }
   ],
   "source": [
    "today.second"
   ]
  },
  {
   "cell_type": "code",
   "execution_count": 103,
   "id": "035248ca-0af7-4e2d-8e52-9e6b9b93c93b",
   "metadata": {},
   "outputs": [
    {
     "data": {
      "text/plain": [
       "datetime.date(2024, 7, 22)"
      ]
     },
     "execution_count": 103,
     "metadata": {},
     "output_type": "execute_result"
    }
   ],
   "source": [
    "today.date()"
   ]
  },
  {
   "cell_type": "code",
   "execution_count": 104,
   "id": "a1829f1b-6026-4bb6-8e8c-0a797d84c010",
   "metadata": {},
   "outputs": [
    {
     "data": {
      "text/plain": [
       "'22 07 2024'"
      ]
     },
     "execution_count": 104,
     "metadata": {},
     "output_type": "execute_result"
    }
   ],
   "source": [
    "today.strftime(\"%d %m %Y\")"
   ]
  },
  {
   "cell_type": "code",
   "execution_count": 46,
   "id": "ce708b5a-86b3-4fc9-8849-d7d26d4bcec1",
   "metadata": {},
   "outputs": [
    {
     "ename": "NameError",
     "evalue": "name 'datetime' is not defined",
     "output_type": "error",
     "traceback": [
      "\u001b[1;31m---------------------------------------------------------------------------\u001b[0m",
      "\u001b[1;31mNameError\u001b[0m                                 Traceback (most recent call last)",
      "Cell \u001b[1;32mIn[46], line 2\u001b[0m\n\u001b[0;32m      1\u001b[0m date_string\u001b[38;5;241m=\u001b[39m\u001b[38;5;124m\"\u001b[39m\u001b[38;5;124m22 july 2024\u001b[39m\u001b[38;5;124m\"\u001b[39m\n\u001b[1;32m----> 2\u001b[0m \u001b[43mdatetime\u001b[49m\u001b[38;5;241m.\u001b[39mstrptime(date_string,\u001b[38;5;124m\"\u001b[39m\u001b[38;5;132;01m%d\u001b[39;00m\u001b[38;5;124m \u001b[39m\u001b[38;5;124m%\u001b[39m\u001b[38;5;124mB ,\u001b[39m\u001b[38;5;124m%\u001b[39m\u001b[38;5;124mY\u001b[39m\u001b[38;5;124m\"\u001b[39m)\n",
      "\u001b[1;31mNameError\u001b[0m: name 'datetime' is not defined"
     ]
    }
   ],
   "source": [
    "date_string=\"22 july 2024\"\n",
    "datetime.strptime(date_string,\"%d %B ,%Y\")"
   ]
  },
  {
   "cell_type": "code",
   "execution_count": 18,
   "id": "6d591d0a-4f38-457c-a45f-ac9dce608163",
   "metadata": {},
   "outputs": [
    {
     "name": "stdout",
     "output_type": "stream",
     "text": [
      "2018-06-21\n"
     ]
    }
   ],
   "source": [
    "from datetime import datetime\n",
    "\n",
    "# Convert string to datetime object using strptime\n",
    "date_string = \"21 June, 2018\"\n",
    "date_object = datetime.strptime(date_string, \"%d %B, %Y\")\n",
    "\n",
    "# Convert datetime object to string using strftime\n",
    "formatted_date = date_object.strftime(\"%Y-%m-%d\")\n",
    "\n",
    "print(formatted_date)  # Outputs: 2018-06-21\n"
   ]
  },
  {
   "cell_type": "code",
   "execution_count": 115,
   "id": "077f91e4-d5c5-4199-947a-cdcf1e60437e",
   "metadata": {},
   "outputs": [
    {
     "name": "stdout",
     "output_type": "stream",
     "text": [
      "32\n"
     ]
    }
   ],
   "source": [
    "print(ord(\" \"))"
   ]
  },
  {
   "cell_type": "code",
   "execution_count": 47,
   "id": "9571ed32-4642-42d2-9a1f-aff72884ebfd",
   "metadata": {},
   "outputs": [
    {
     "name": "stdout",
     "output_type": "stream",
     "text": [
      "yg ctg iqkpi vq vtcxgn cnn qxgt vjg yqtnf\n"
     ]
    }
   ],
   "source": [
    "string=\"we are going to travel all over the world\"\n",
    "op=\"\"\n",
    "for cha in string:\n",
    "    if cha ==\" \":\n",
    "        op=op + cha\n",
    "    else:    \n",
    "       op=op + chr(ord(cha)+2)\n",
    "print(op)    "
   ]
  },
  {
   "cell_type": "code",
   "execution_count": 128,
   "id": "b9ffe690-21fc-4b2c-ba54-e172ae9ce6ad",
   "metadata": {},
   "outputs": [
    {
     "name": "stdout",
     "output_type": "stream",
     "text": [
      "PyTHoN\n"
     ]
    }
   ],
   "source": [
    "string=\"python\"\n",
    "op=\"\"\n",
    "for cha in string:\n",
    "    if ord(cha)%2==0:\n",
    "        op=op + cha.upper()\n",
    "    else:\n",
    "        op=op + cha.lower()\n",
    "print(op)        \n",
    "        "
   ]
  },
  {
   "cell_type": "code",
   "execution_count": 129,
   "id": "7a36d188-9e2e-4652-b88f-c0d274c07c3c",
   "metadata": {},
   "outputs": [
    {
     "name": "stdout",
     "output_type": "stream",
     "text": [
      "we aRe goiNg To TRaVeL aLL oVeR THe woRLD\n"
     ]
    }
   ],
   "source": [
    "string=\"we are going to travel all over the world\"\n",
    "op=\"\"\n",
    "for cha in string:\n",
    "    if ord(cha)%2==0:\n",
    "        op +=cha.upper()\n",
    "    else:\n",
    "        op +=cha.lower()\n",
    "print(op)        \n",
    "        "
   ]
  },
  {
   "cell_type": "code",
   "execution_count": 130,
   "id": "8fb07d6a-373e-44d5-8f1c-3085e1643043",
   "metadata": {},
   "outputs": [
    {
     "name": "stdout",
     "output_type": "stream",
     "text": [
      "['p', 't', 'h', 'n', 'd']\n"
     ]
    }
   ],
   "source": [
    "string=\"pythoncode\"\n",
    "l=[]\n",
    "for cha in string:\n",
    "    if ord(cha)%2==0:\n",
    "        l.append(cha)\n",
    "    else:\n",
    "        pass\n",
    "print(l)        \n",
    "        "
   ]
  },
  {
   "cell_type": "code",
   "execution_count": 48,
   "id": "0828727d-b7fd-4bbb-bb54-d811d882d72a",
   "metadata": {},
   "outputs": [
    {
     "name": "stdout",
     "output_type": "stream",
     "text": [
      "[(103, 'g'), (111, 'o'), (112, 'p'), (105, 'i')]\n"
     ]
    }
   ],
   "source": [
    "string=\"gopi\"\n",
    "l=[]\n",
    "for cha in string:\n",
    "    l.append((ord(cha),cha))\n",
    "print(l)    "
   ]
  },
  {
   "cell_type": "code",
   "execution_count": 137,
   "id": "4c8aa733-47fe-4f29-b955-026416503962",
   "metadata": {},
   "outputs": [
    {
     "name": "stdout",
     "output_type": "stream",
     "text": [
      "UpplU bUnUnU\n"
     ]
    }
   ],
   "source": [
    "string=\"apple banana\"\n",
    "string\n",
    "vowels=\"AEIOUaeiou\"\n",
    "print(\"\".join([\"U\" if cha in vowels else cha for cha in string ]))"
   ]
  },
  {
   "cell_type": "code",
   "execution_count": 138,
   "id": "cd70c166-6c5a-42ec-9601-20355cc07953",
   "metadata": {},
   "outputs": [
    {
     "data": {
      "text/plain": [
       "{'a': 'A', 'b': 'B', 'c': 'C', 'd': 'D'}"
      ]
     },
     "execution_count": 138,
     "metadata": {},
     "output_type": "execute_result"
    }
   ],
   "source": [
    "input=[\"a\",\"b\",\"c\",\"d\"]\n",
    "op={cha:cha.upper() for cha in input}\n",
    "op"
   ]
  },
  {
   "cell_type": "code",
   "execution_count": 140,
   "id": "228110aa-f2fa-4868-b698-d3792ffe4e2a",
   "metadata": {},
   "outputs": [
    {
     "data": {
      "text/plain": [
       "[('B', 2), ('C', 3), ('D', 1)]"
      ]
     },
     "execution_count": 140,
     "metadata": {},
     "output_type": "execute_result"
    }
   ],
   "source": [
    "d={\"D\":1,\"B\":2,\"C\":3}\n",
    "sorted(d.items())"
   ]
  },
  {
   "cell_type": "code",
   "execution_count": 50,
   "id": "5df4463a-294c-47be-a5fa-2abf3d1ec146",
   "metadata": {},
   "outputs": [
    {
     "data": {
      "text/plain": [
       "{3: [123], 4: [4567, 3435, 6789], 5: [89012]}"
      ]
     },
     "execution_count": 50,
     "metadata": {},
     "output_type": "execute_result"
    }
   ],
   "source": [
    "op=dict(sorted(d.items(),key=lambda v:v[1]))\n",
    "op"
   ]
  },
  {
   "cell_type": "code",
   "execution_count": 144,
   "id": "ea44fb3b-166b-44cb-a2fb-00986c8246d3",
   "metadata": {},
   "outputs": [
    {
     "data": {
      "text/plain": [
       "[('dislike', 3), ('followers', 10), ('like', 2)]"
      ]
     },
     "execution_count": 144,
     "metadata": {},
     "output_type": "execute_result"
    }
   ],
   "source": [
    "d={\"like\":2,\"dislike\":3,\"followers\":10}\n",
    "sorted(d.items())"
   ]
  },
  {
   "cell_type": "code",
   "execution_count": 53,
   "id": "9e4aa39b-9bca-4dff-afe9-95ddcc4cae4d",
   "metadata": {},
   "outputs": [
    {
     "data": {
      "text/plain": [
       "{3: [123], 4: [4567, 3435, 6789], 5: [89012]}"
      ]
     },
     "execution_count": 53,
     "metadata": {},
     "output_type": "execute_result"
    }
   ],
   "source": [
    "dict(sorted(d.items(),key=lambda x:x[1]))"
   ]
  },
  {
   "cell_type": "code",
   "execution_count": 146,
   "id": "f9534db7-2c82-478f-863a-4280c2128ab8",
   "metadata": {},
   "outputs": [
    {
     "data": {
      "text/plain": [
       "0"
      ]
     },
     "execution_count": 146,
     "metadata": {},
     "output_type": "execute_result"
    }
   ],
   "source": [
    "def is_equal(a,b,c):\n",
    "    if a==b==c:\n",
    "        return 3\n",
    "    elif a==b and b==c:\n",
    "        return 1\n",
    "    else:\n",
    "        return 0\n",
    "is_equal(1,2,3)        \n",
    "        "
   ]
  },
  {
   "cell_type": "code",
   "execution_count": 147,
   "id": "5fede4f6-2ecc-4192-8ba3-e6627aa555f2",
   "metadata": {},
   "outputs": [
    {
     "data": {
      "text/plain": [
       "3"
      ]
     },
     "execution_count": 147,
     "metadata": {},
     "output_type": "execute_result"
    }
   ],
   "source": [
    "is_equal(1,1,1)"
   ]
  },
  {
   "cell_type": "code",
   "execution_count": 149,
   "id": "b07904e9-dfed-44ac-97b2-6ba2add06d29",
   "metadata": {},
   "outputs": [
    {
     "data": {
      "text/plain": [
       "0"
      ]
     },
     "execution_count": 149,
     "metadata": {},
     "output_type": "execute_result"
    }
   ],
   "source": [
    "is_equal(1,2,1)"
   ]
  },
  {
   "cell_type": "code",
   "execution_count": 150,
   "id": "8462dc71-026f-44bd-85ee-7aff519c4e1a",
   "metadata": {},
   "outputs": [
    {
     "name": "stdout",
     "output_type": "stream",
     "text": [
      "numbers not tripplet\n"
     ]
    }
   ],
   "source": [
    "input=[3,4,5]\n",
    "sorted_numbers=sorted(input)\n",
    "if sorted_numbers[0]**2 + sorted_numbers[1]**2 ==sorted_numbers[1]**2:\n",
    "    print(\"numbers are trpplet\")\n",
    "else:\n",
    "    print(\"numbers not tripplet\")"
   ]
  },
  {
   "cell_type": "code",
   "execution_count": 19,
   "id": "c4149498-f8b0-424e-9d8a-c600b7d9dfbb",
   "metadata": {},
   "outputs": [
    {
     "data": {
      "text/plain": [
       "['apple', 'google', 'microsoft']"
      ]
     },
     "execution_count": 19,
     "metadata": {},
     "output_type": "execute_result"
    }
   ],
   "source": [
    "input_list=[\"google\",\"apple\",\"microsoft\"]\n",
    "sorted(input_list,key=len)"
   ]
  },
  {
   "cell_type": "code",
   "execution_count": 57,
   "id": "d8da119a-77ef-4898-87c0-687d2d1c7679",
   "metadata": {},
   "outputs": [
    {
     "name": "stdout",
     "output_type": "stream",
     "text": [
      "[7, 6]\n"
     ]
    }
   ],
   "source": [
    "input=[3,3,3,7,3,3,6]\n",
    "print([i for i in input if input.count(i)==1])"
   ]
  },
  {
   "cell_type": "code",
   "execution_count": 58,
   "id": "4a538bfb-227b-4a22-b658-7de3d00cd9cd",
   "metadata": {},
   "outputs": [
    {
     "name": "stdout",
     "output_type": "stream",
     "text": [
      "{3: 5, 7: 1, 6: 1}\n"
     ]
    }
   ],
   "source": [
    "input=[3,3,3,7,3,3,6]\n",
    "d={}\n",
    "for i in input:\n",
    "    if i in d:\n",
    "        d[i]=d[i]+1\n",
    "    else:\n",
    "        d[i]=1\n",
    "print(d)        "
   ]
  },
  {
   "cell_type": "code",
   "execution_count": 22,
   "id": "fee7af58-eaf7-457e-9be4-cde407841b09",
   "metadata": {},
   "outputs": [
    {
     "name": "stdout",
     "output_type": "stream",
     "text": [
      "7\n"
     ]
    }
   ],
   "source": [
    "for key,val in d.items():\n",
    "    if val==1:\n",
    "        print(key)"
   ]
  },
  {
   "cell_type": "code",
   "execution_count": 23,
   "id": "782fa1b1-b46f-4586-a00c-b8b0a6cd2d4b",
   "metadata": {},
   "outputs": [
    {
     "name": "stdout",
     "output_type": "stream",
     "text": [
      "[1, 2, 3, 40]\n"
     ]
    }
   ],
   "source": [
    "lst=[1,2,3,4]\n",
    "l=[]\n",
    "for i in lst:\n",
    "    if i%4==0:\n",
    "        l.append(i*10)\n",
    "    else:\n",
    "        l.append(i)\n",
    "print(l)        "
   ]
  },
  {
   "cell_type": "code",
   "execution_count": 160,
   "id": "98500472-ee5f-43e1-80b6-04a1e989d66d",
   "metadata": {},
   "outputs": [
    {
     "data": {
      "text/plain": [
       "[1, 2, 3, 40]"
      ]
     },
     "execution_count": 160,
     "metadata": {},
     "output_type": "execute_result"
    }
   ],
   "source": [
    "[i*10 if i%4==0 else i for i in lst ]"
   ]
  },
  {
   "cell_type": "code",
   "execution_count": 163,
   "id": "ea557dee-ac7e-4af7-bf6a-6101263c02d7",
   "metadata": {},
   "outputs": [
    {
     "name": "stdout",
     "output_type": "stream",
     "text": [
      "27\n"
     ]
    }
   ],
   "source": [
    "n=999\n",
    "str_num=str(n)\n",
    "sum=0\n",
    "for digit in str_num:\n",
    "    sum += int(digit)\n",
    "print(sum)    "
   ]
  },
  {
   "cell_type": "code",
   "execution_count": 164,
   "id": "f720bc07-8b4d-40a0-b924-19297bdda477",
   "metadata": {},
   "outputs": [
    {
     "data": {
      "text/plain": [
       "9.0"
      ]
     },
     "execution_count": 164,
     "metadata": {},
     "output_type": "execute_result"
    }
   ],
   "source": [
    "length=len(str_num)\n",
    "op=sum/length\n",
    "op"
   ]
  },
  {
   "cell_type": "code",
   "execution_count": 165,
   "id": "e3a5f525-e387-42f2-85c0-6d1cabdbc344",
   "metadata": {},
   "outputs": [
    {
     "name": "stdout",
     "output_type": "stream",
     "text": [
      "[1, 3, 5]\n"
     ]
    }
   ],
   "source": [
    "lst=[1,3,3,5,5]\n",
    "l=[]\n",
    "for item in lst:\n",
    "    if item not in l:\n",
    "        l.append(item)\n",
    "print(l)        "
   ]
  },
  {
   "cell_type": "markdown",
   "id": "8a9b0bb9-2db1-4c96-88f5-42b5685b4928",
   "metadata": {},
   "source": [
    "# FILE_HANDLING"
   ]
  },
  {
   "cell_type": "code",
   "execution_count": 3,
   "id": "ff49402a-09be-486c-a827-316d164ebd6c",
   "metadata": {},
   "outputs": [
    {
     "name": "stdout",
     "output_type": "stream",
     "text": [
      "\n"
     ]
    }
   ],
   "source": [
    "with open(r\"C:\\Users\\2329805\\OneDrive - Cognizant\\Desktop\\ai.txt\") as file:\n",
    "    data=file.read()\n",
    "    print(data)"
   ]
  },
  {
   "cell_type": "code",
   "execution_count": 266,
   "id": "26af4cd0-8af4-45f1-b0d7-bb8438176e30",
   "metadata": {},
   "outputs": [
    {
     "name": "stdout",
     "output_type": "stream",
     "text": [
      "Artif\n"
     ]
    }
   ],
   "source": [
    "with open(r\"C:\\Users\\2329805\\OneDrive - Cognizant\\Desktop\\ai.txt\") as file:\n",
    "    data=file.read(5)\n",
    "    print(data)"
   ]
  },
  {
   "cell_type": "code",
   "execution_count": 59,
   "id": "6fe02010-e228-41a3-9d4c-6db765a49447",
   "metadata": {},
   "outputs": [
    {
     "ename": "FileNotFoundError",
     "evalue": "[Errno 2] No such file or directory: 'C:\\\\Users\\\\2329805\\\\OneDrive - Cognizant\\\\Desktop\\\\ai.txt'",
     "output_type": "error",
     "traceback": [
      "\u001b[1;31m---------------------------------------------------------------------------\u001b[0m",
      "\u001b[1;31mFileNotFoundError\u001b[0m                         Traceback (most recent call last)",
      "Cell \u001b[1;32mIn[59], line 1\u001b[0m\n\u001b[1;32m----> 1\u001b[0m \u001b[38;5;28;01mwith\u001b[39;00m \u001b[38;5;28;43mopen\u001b[39;49m\u001b[43m(\u001b[49m\u001b[38;5;124;43mr\u001b[39;49m\u001b[38;5;124;43m\"\u001b[39;49m\u001b[38;5;124;43mC:\u001b[39;49m\u001b[38;5;124;43m\\\u001b[39;49m\u001b[38;5;124;43mUsers\u001b[39;49m\u001b[38;5;124;43m\\\u001b[39;49m\u001b[38;5;124;43m2329805\u001b[39;49m\u001b[38;5;124;43m\\\u001b[39;49m\u001b[38;5;124;43mOneDrive - Cognizant\u001b[39;49m\u001b[38;5;124;43m\\\u001b[39;49m\u001b[38;5;124;43mDesktop\u001b[39;49m\u001b[38;5;124;43m\\\u001b[39;49m\u001b[38;5;124;43mai.txt\u001b[39;49m\u001b[38;5;124;43m\"\u001b[39;49m\u001b[43m)\u001b[49m \u001b[38;5;28;01mas\u001b[39;00m file:\n\u001b[0;32m      2\u001b[0m     data\u001b[38;5;241m=\u001b[39mfile\u001b[38;5;241m.\u001b[39mreadline()\n\u001b[0;32m      3\u001b[0m     \u001b[38;5;28mprint\u001b[39m(data)\n",
      "File \u001b[1;32mc:\\PYTHON\\lib\\site-packages\\IPython\\core\\interactiveshell.py:282\u001b[0m, in \u001b[0;36m_modified_open\u001b[1;34m(file, *args, **kwargs)\u001b[0m\n\u001b[0;32m    275\u001b[0m \u001b[38;5;28;01mif\u001b[39;00m file \u001b[38;5;129;01min\u001b[39;00m {\u001b[38;5;241m0\u001b[39m, \u001b[38;5;241m1\u001b[39m, \u001b[38;5;241m2\u001b[39m}:\n\u001b[0;32m    276\u001b[0m     \u001b[38;5;28;01mraise\u001b[39;00m \u001b[38;5;167;01mValueError\u001b[39;00m(\n\u001b[0;32m    277\u001b[0m         \u001b[38;5;124mf\u001b[39m\u001b[38;5;124m\"\u001b[39m\u001b[38;5;124mIPython won\u001b[39m\u001b[38;5;124m'\u001b[39m\u001b[38;5;124mt let you open fd=\u001b[39m\u001b[38;5;132;01m{\u001b[39;00mfile\u001b[38;5;132;01m}\u001b[39;00m\u001b[38;5;124m by default \u001b[39m\u001b[38;5;124m\"\u001b[39m\n\u001b[0;32m    278\u001b[0m         \u001b[38;5;124m\"\u001b[39m\u001b[38;5;124mas it is likely to crash IPython. If you know what you are doing, \u001b[39m\u001b[38;5;124m\"\u001b[39m\n\u001b[0;32m    279\u001b[0m         \u001b[38;5;124m\"\u001b[39m\u001b[38;5;124myou can use builtins\u001b[39m\u001b[38;5;124m'\u001b[39m\u001b[38;5;124m open.\u001b[39m\u001b[38;5;124m\"\u001b[39m\n\u001b[0;32m    280\u001b[0m     )\n\u001b[1;32m--> 282\u001b[0m \u001b[38;5;28;01mreturn\u001b[39;00m io_open(file, \u001b[38;5;241m*\u001b[39margs, \u001b[38;5;241m*\u001b[39m\u001b[38;5;241m*\u001b[39mkwargs)\n",
      "\u001b[1;31mFileNotFoundError\u001b[0m: [Errno 2] No such file or directory: 'C:\\\\Users\\\\2329805\\\\OneDrive - Cognizant\\\\Desktop\\\\ai.txt'"
     ]
    }
   ],
   "source": [
    "with open(r\"C:\\Users\\2329805\\OneDrive - Cognizant\\Desktop\\ai.txt\") as file:\n",
    "    data=file.readline()\n",
    "    print(data)"
   ]
  },
  {
   "cell_type": "code",
   "execution_count": 268,
   "id": "5d056996-5236-48e9-9d61-85ee8f175a85",
   "metadata": {},
   "outputs": [
    {
     "name": "stdout",
     "output_type": "stream",
     "text": [
      "['Artificial intelligence allows machines to match, or even improve upon, the capabilities of the human mind.\\n', 'From the development of self-driving cars to the proliferation of generative AI tools, AI is increasingly becoming part of everyday life.']\n"
     ]
    }
   ],
   "source": [
    "with open(r\"C:\\Users\\2329805\\OneDrive - Cognizant\\Desktop\\ai.txt\") as file:\n",
    "    data=file.readlines()\n",
    "    print(data)"
   ]
  },
  {
   "cell_type": "markdown",
   "id": "2f2d99f4-9bd4-4c88-bae5-5ed7cf25e7aa",
   "metadata": {},
   "source": [
    "# line count of text file"
   ]
  },
  {
   "cell_type": "code",
   "execution_count": 291,
   "id": "3bdf9676-5999-4612-8c59-7e5d6a8b09e1",
   "metadata": {},
   "outputs": [
    {
     "name": "stdout",
     "output_type": "stream",
     "text": [
      "2\n"
     ]
    }
   ],
   "source": [
    "with open(r\"C:\\Users\\2329805\\OneDrive - Cognizant\\Desktop\\ai.txt\") as file:\n",
    "    line=file.readlines()\n",
    "    # print(line)\n",
    "    line_count=0\n",
    "    for line in line:\n",
    "        line_count +=1\n",
    "    print(line_count)    "
   ]
  },
  {
   "cell_type": "markdown",
   "id": "5ee85eae-7456-43cf-be2a-10cc9ed189fc",
   "metadata": {},
   "source": [
    "# word count of text file"
   ]
  },
  {
   "cell_type": "code",
   "execution_count": 3,
   "id": "8f923075-23de-4461-b5d2-50bb13143b9e",
   "metadata": {},
   "outputs": [
    {
     "name": "stdout",
     "output_type": "stream",
     "text": [
      "37\n"
     ]
    }
   ],
   "source": [
    "with open(r\"C:\\Users\\2329805\\OneDrive - Cognizant\\Desktop\\ai.txt\") as file:\n",
    "    word=file.read().split()\n",
    "    # print(word)\n",
    "    word_count=0\n",
    "    for word in word:\n",
    "        word_count  +=1\n",
    "    print(word_count)    \n",
    "    "
   ]
  },
  {
   "cell_type": "markdown",
   "id": "95824aa0-b695-4752-98f6-4b8bbdb91fa6",
   "metadata": {},
   "source": [
    "# characte count of text file"
   ]
  },
  {
   "cell_type": "code",
   "execution_count": 293,
   "id": "51064d0e-f988-4092-89f9-4991071a6c0b",
   "metadata": {},
   "outputs": [
    {
     "name": "stdout",
     "output_type": "stream",
     "text": [
      "['Artificial', 'intelligence', 'allows', 'machines', 'to', 'match,', 'or', 'even', 'improve', 'upon,', 'the', 'capabilities', 'of', 'the', 'human', 'mind.', 'From', 'the', 'development', 'of', 'self-driving', 'cars', 'to', 'the', 'proliferation', 'of', 'generative', 'AI', 'tools,', 'AI', 'is', 'increasingly', 'becoming', 'part', 'of', 'everyday', 'life.']\n",
      "209\n"
     ]
    }
   ],
   "source": [
    "with open(r\"C:\\Users\\2329805\\OneDrive - Cognizant\\Desktop\\ai.txt\") as file:\n",
    "    data=file.read().split()\n",
    "    print(data)\n",
    "    character_count=0\n",
    "    for word in data:\n",
    "        for cha in word:\n",
    "            character_count +=1\n",
    "    print(character_count)        \n",
    "            "
   ]
  },
  {
   "cell_type": "markdown",
   "id": "95189eb4-e013-46ad-9c85-e4e181733513",
   "metadata": {},
   "source": [
    "# spaace count "
   ]
  },
  {
   "cell_type": "code",
   "execution_count": 300,
   "id": "cb3b0740-7d12-41a6-8cb5-0464a31f1ef1",
   "metadata": {},
   "outputs": [
    {
     "name": "stdout",
     "output_type": "stream",
     "text": [
      "Artificial intelligence allows machines to match, or even improve upon, the capabilities of the human mind.\n",
      "From the development of self-driving cars to the proliferation of generative AI tools, AI is increasingly becoming part of everyday life.\n",
      "35\n"
     ]
    }
   ],
   "source": [
    "with open(r\"C:\\Users\\2329805\\OneDrive - Cognizant\\Desktop\\ai.txt\") as file:\n",
    "    data=file.read()\n",
    "    print(data)\n",
    "    space_count=0\n",
    "    for cha in data:\n",
    "        if cha ==\" \":\n",
    "            space_count +=1\n",
    "    print(space_count)        "
   ]
  },
  {
   "cell_type": "code",
   "execution_count": 301,
   "id": "05df4d09-55fb-44ad-9a17-bf3ac3133ac5",
   "metadata": {},
   "outputs": [
    {
     "name": "stdout",
     "output_type": "stream",
     "text": [
      "13\n"
     ]
    }
   ],
   "source": [
    "with open(r\"C:\\Users\\2329805\\OneDrive - Cognizant\\Desktop\\ai.txt\") as file:\n",
    "    dara=file.read()\n",
    "    count_of_a=0\n",
    "    for cha in data:\n",
    "        if cha == \"a\":\n",
    "            count_of_a +=1\n",
    "    print(count_of_a)          "
   ]
  },
  {
   "cell_type": "markdown",
   "id": "abd56b66-518a-4532-b9a2-d71694fbe62b",
   "metadata": {},
   "source": [
    "# write() "
   ]
  },
  {
   "cell_type": "code",
   "execution_count": 304,
   "id": "8b9fb9fe-2206-4b1d-8cbd-19fa0a2b67c1",
   "metadata": {},
   "outputs": [
    {
     "name": "stdout",
     "output_type": "stream",
     "text": [
      "7\n"
     ]
    }
   ],
   "source": [
    "with open(r\"C:\\Users\\2329805\\OneDrive - Cognizant\\Desktop\\ai.txt\",\"w\") as file:\n",
    "    data=file.write(\"welocme\")\n",
    "    print(data)"
   ]
  },
  {
   "cell_type": "code",
   "execution_count": 305,
   "id": "c881ac33-7f91-4bf3-b128-06b08caf70e4",
   "metadata": {},
   "outputs": [
    {
     "ename": "UnsupportedOperation",
     "evalue": "not readable",
     "output_type": "error",
     "traceback": [
      "\u001b[1;31m---------------------------------------------------------------------------\u001b[0m",
      "\u001b[1;31mUnsupportedOperation\u001b[0m                      Traceback (most recent call last)",
      "Cell \u001b[1;32mIn[305], line 2\u001b[0m\n\u001b[0;32m      1\u001b[0m \u001b[38;5;28;01mwith\u001b[39;00m \u001b[38;5;28mopen\u001b[39m(\u001b[38;5;124mr\u001b[39m\u001b[38;5;124m\"\u001b[39m\u001b[38;5;124mC:\u001b[39m\u001b[38;5;124m\\\u001b[39m\u001b[38;5;124mUsers\u001b[39m\u001b[38;5;124m\\\u001b[39m\u001b[38;5;124m2329805\u001b[39m\u001b[38;5;124m\\\u001b[39m\u001b[38;5;124mOneDrive - Cognizant\u001b[39m\u001b[38;5;124m\\\u001b[39m\u001b[38;5;124mDesktop\u001b[39m\u001b[38;5;124m\\\u001b[39m\u001b[38;5;124mai.txt\u001b[39m\u001b[38;5;124m\"\u001b[39m,\u001b[38;5;124m\"\u001b[39m\u001b[38;5;124mw\u001b[39m\u001b[38;5;124m\"\u001b[39m) \u001b[38;5;28;01mas\u001b[39;00m file:\n\u001b[1;32m----> 2\u001b[0m     \u001b[38;5;28mopen\u001b[39m\u001b[38;5;241m=\u001b[39m\u001b[43mfile\u001b[49m\u001b[38;5;241;43m.\u001b[39;49m\u001b[43mread\u001b[49m\u001b[43m(\u001b[49m\u001b[43m)\u001b[49m\n\u001b[0;32m      3\u001b[0m     \u001b[38;5;28mprint\u001b[39m(\u001b[38;5;28mopen\u001b[39m)\n",
      "\u001b[1;31mUnsupportedOperation\u001b[0m: not readable"
     ]
    }
   ],
   "source": [
    "with open(r\"C:\\Users\\2329805\\OneDrive - Cognizant\\Desktop\\ai.txt\",\"w\") as file:\n",
    "    open=file.read()\n",
    "    print(open)"
   ]
  },
  {
   "cell_type": "markdown",
   "id": "736835f4-99a4-40f2-b2bf-94487c7fdb77",
   "metadata": {},
   "source": [
    "# csv file"
   ]
  },
  {
   "cell_type": "code",
   "execution_count": 5,
   "id": "368b3275-bc00-441e-bb1a-17b9ccae040d",
   "metadata": {},
   "outputs": [
    {
     "name": "stdout",
     "output_type": "stream",
     "text": [
      "Make \tModel \tType \tOrigin \tDriveTrain \tMSRP \tInvoice \tEngineSize \tCylinders \tHorsepower \tMPG_City \tMPG_Highway \tWeight \tWheelbase \tLength \tAcura \tMDX \tSUV \tAsia \tAll \t$36,945  \t$33,337  \t3.5 \t6 \t265 \t17 \t23 \t4451 \t106 \t189 \tAcura \tRSX Type S 2dr \tSedan \tAsia \tFront \t$23,820  \t$21,761  \t2 \t4 \t200 \t24 \t31 \t2778 \t101 \t172 \tAcura \tTSX 4dr \tSedan \tAsia \tFront \t$26,990  \t$24,647  \t2.4 \t4 \t200 \t22 \t29 \t3230 \t105 \t183 \tAcura \tTL 4dr \tSedan \tAsia \tFront \t$33,195  \t$30,299  \t3.2 \t6 \t270 \t20 \t28 \t3575 \t108 \t186 \tAcura \t3.5 RL 4dr \tSedan \tAsia \tFront \t$43,755  \t$39,014  \t3.5 \t6 \t225 \t18 \t24 \t3880 \t115 \t197 \tAcura \t3.5 RL w/Navigation 4dr \tSedan \tAsia \tFront \t$46,100  \t$41,100  \t3.5 \t6 \t225 \t18 \t24 \t3893 \t115 \t197 \tAcura \tNSX coupe 2dr manual S \tSports \tAsia \tRear \t$89,765  \t$79,978  \t3.2 \t6 \t290 \t17 \t24 \t3153 \t100 \t174 \tAudi \tA4 1.8T 4dr \tSedan \tEurope \tFront \t$25,940  \t$23,508  \t1.8 \t4 \t170 \t22 \t31 \t3252 \t104 \t179 \tAudi \tA41.8T convertible 2dr \tSedan \tEurope \tFront \t$35,940  \t$32,506  \t1.8 \t4 \t170 \t23 \t30 \t3638 \t105 \t180 \tAudi \tA4 3.0 4dr \tSedan \tEurope \tFront \t$31,840  \t$28,846  \t3 \t6 \t220 \t20 \t28 \t3462 \t104 \t179 \tAudi \tA4 3.0 Quattro 4dr manual \tSedan \tEurope \tAll \t$33,430  \t$30,366  \t3 \t6 \t220 \t17 \t26 \t3583 \t104 \t179 \tAudi \tA4 3.0 Quattro 4dr auto \tSedan \tEurope \tAll \t$34,480  \t$31,388  \t3 \t6 \t220 \t18 \t25 \t3627 \t104 \t179 \tAudi \tA6 3.0 4dr \tSedan \tEurope \tFront \t$36,640  \t$33,129  \t3 \t6 \t220 \t20 \t27 \t3561 \t109 \t192 \tAudi \tA6 3.0 Quattro 4dr \tSedan \tEurope \tAll \t$39,640  \t$35,992  \t3 \t6 \t220 \t18 \t25 \t3880 \t109 \t192 \tAudi \tA4 3.0 convertible 2dr \tSedan \tEurope \tFront \t$42,490  \t$38,325  \t3 \t6 \t220 \t20 \t27 \t3814 \t105 \t180 \tAudi \tA4 3.0 Quattro convertible 2dr \tSedan \tEurope \tAll \t$44,240  \t$40,075  \t3 \t6 \t220 \t18 \t25 \t4013 \t105 \t180 \tAudi \tA6 2.7 Turbo Quattro 4dr \tSedan \tEurope \tAll \t$42,840  \t$38,840  \t2.7 \t6 \t250 \t18 \t25 \t3836 \t109 \t192 \tAudi \tA6 4.2 Quattro 4dr \tSedan \tEurope \tAll \t$49,690  \t$44,936  \t4.2 \t8 \t300 \t17 \t24 \t4024 \t109 \t193 \tAudi \tA8 L Quattro 4dr \tSedan \tEurope \tAll \t$69,190  \t$64,740  \t4.2 \t8 \t330 \t17 \t24 \t4399 \t121 \t204 \tAudi \tS4 Quattro 4dr \tSedan \tEurope \tAll \t$48,040  \t$43,556  \t4.2 \t8 \t340 \t14 \t20 \t3825 \t104 \t179 \tAudi \tRS 6 4dr \tSports \tEurope \tFront \t$84,600  \t$76,417  \t4.2 \t8 \t450 \t15 \t22 \t4024 \t109 \t191 \tAudi \tTT 1.8 convertible 2dr (coupe) \tSports \tEurope \tFront \t$35,940  \t$32,512  \t1.8 \t4 \t180 \t20 \t28 \t3131 \t95 \t159 \tAudi \tTT 1.8 Quattro 2dr (convertible) \tSports \tEurope \tAll \t$37,390  \t$33,891  \t1.8 \t4 \t225 \t20 \t28 \t2921 \t96 \t159 \tAudi \tTT 3.2 coupe 2dr (convertible) \tSports \tEurope \tAll \t$40,590  \t$36,739  \t3.2 \t6 \t250 \t21 \t29 \t3351 \t96 \t159 \tAudi \tA6 3.0 Avant Quattro \tWagon \tEurope \tAll \t$40,840  \t$37,060  \t3 \t6 \t220 \t18 \t25 \t4035 \t109 \t192 \tAudi \tS4 Avant Quattro \tWagon \tEurope \tAll \t$49,090  \t$44,446  \t4.2 \t8 \t340 \t15 \t21 \t3936 \t104 \t179 \tBMW \tX3 3.0i \tSUV \tEurope \tAll \t$37,000  \t$33,873  \t3 \t6 \t225 \t16 \t23 \t4023 \t110 \t180 \tBMW \tX5 4.4i \tSUV \tEurope \tAll \t$52,195  \t$47,720  \t4.4 \t8 \t325 \t16 \t22 \t4824 \t111 \t184 \tBMW \t325i 4dr \tSedan \tEurope \tRear \t$28,495  \t$26,155  \t2.5 \t6 \t184 \t20 \t29 \t3219 \t107 \t176 \tBMW \t325Ci 2dr \tSedan \tEurope \tRear \t$30,795  \t$28,245  \t2.5 \t6 \t184 \t20 \t29 \t3197 \t107 \t177 \t \t \t \t \t \t \t \t \t \t \t \t \t \t \t \tBMW \t325Ci convertible 2dr \tSedan \tEurope \tRear \t$37,995  \t$34,800  \t2.5 \t6 \t184 \t19 \t27 \t3560 \t107 \t177 \tBMW \t325xi 4dr \tSedan \tEurope \tAll \t$30,245  \t$27,745  \t2.5 \t6 \t184 \t19 \t27 \t3461 \t107 \t176 \tBMW \t330i 4dr \tSedan \tEurope \tRear \t$35,495  \t$32,525  \t3 \t6 \t225 \t20 \t30 \t3285 \t107 \t176 \tBMW \t330Ci 2dr \tSedan \tEurope \tRear \t$36,995  \t$33,890  \t3 \t6 \t225 \t20 \t30 \t3285 \t107 \t176 \tBMW \t330xi 4dr \tSedan \tEurope \tAll \t$37,245  \t$34,115  \t3 \t6 \t225 \t20 \t29 \t3483 \t107 \t176 \tBMW \t525i 4dr \tSedan \tEurope \tRear \t$39,995  \t$36,620  \t2.5 \t6 \t184 \t19 \t28 \t3428 \t114 \t191 \tBMW \t330Ci convertible 2dr \tSedan \tEurope \tRear \t$44,295  \t$40,530  \t3 \t6 \t225 \t19 \t28 \t3616 \t107 \t177 \tBMW \t530i 4dr \tSedan \tEurope \tRear \t$44,995  \t$41,170  \t3 \t6 \t225 \t20 \t30 \t3472 \t114 \t191 \t \t \t \t \t \t \t \t \t \t \t \t \t \t \t \tBMW \t545iA 4dr \tSedan \tEurope \tRear \t$54,995  \t$50,270  \t4.4 \t8 \t325 \t18 \t26 \t3814 \t114 \t191 \tBMW \t745i 4dr \tSedan \tEurope \tRear \t$69,195  \t$63,190  \t4.4 \t8 \t325 \t18 \t26 \t4376 \t118 \t198 \tBMW \t745Li 4dr \tSedan \tEurope \tRear \t$73,195  \t$66,830  \t4.4 \t8 \t325 \t18 \t26 \t4464 \t123 \t204 \tBMW \tM3 coupe 2dr \tSports \tEurope \tRear \t$48,195  \t$44,170  \t3.2 \t6 \t333 \t16 \t24 \t3415 \t108 \t177 \tBMW \tM3 convertible 2dr \tSports \tEurope \tRear \t$56,595  \t$51,815  \t3.2 \t6 \t333 \t16 \t23 \t3781 \t108 \t177 \tBMW \tZ4 convertible 2.5i 2dr \tSports \tEurope \tRear \t$33,895  \t$31,065  \t2.5 \t6 \t184 \t20 \t28 \t2932 \t98 \t161 \tBMW \tZ4 convertible 3.0i 2dr \tSports \tEurope \tRear \t$41,045  \t$37,575  \t3 \t6 \t225 \t21 \t29 \t2998 \t98 \t161 \tBMW \t325xi Sport \tWagon \tEurope \tAll \t$32,845  \t$30,110  \t2.5 \t6 \t184 \t19 \t26 \t3594 \t107 \t176 \tBuick \tRainier \tSUV \tUSA \tAll \t$37,895  \t$34,357  \t4.2 \t6 \t275 \t15 \t21 \t4600 \t113 \t193 \tBuick \tRendezvous CX \tSUV \tUSA \tFront \t$26,545  \t$24,085  \t3.4 \t6 \t185 \t19 \t26 \t4024 \t112 \t187 \tBuick \tCentury Custom 4dr \tSedan \tUSA \tFront \t$22,180  \t$20,351  \t3.1 \t6 \t175 \t20 \t30 \t3353 \t109 \t195 \tBuick \tLeSabre Custom 4dr \tSedan \tUSA \tFront \t$26,470  \t$24,282  \t3.8 \t6 \t205 \t20 \t29 \t3567 \t112 \t200 \tBuick \tRegal LS 4dr \tSedan \tUSA \tFront \t$24,895  \t$22,835  \t3.8 \t6 \t200 \t20 \t30 \t3461 \t109 \t196 \tBuick \tRegal GS 4dr \tSedan \tUSA \tFront \t$28,345  \t$26,047  \t3.8 \t6 \t240 \t18 \t28 \t3536 \t109 \t196 \tBuick \tLeSabre Limited 4dr \tSedan \tUSA \tFront \t$32,245  \t$29,566  \t3.8 \t6 \t205 \t20 \t29 \t3591 \t112 \t200 \tBuick \tPark Avenue 4dr \tSedan \tUSA \tFront \t$35,545  \t$32,244  \t3.8 \t6 \t205 \t20 \t29 \t3778 \t114 \t207 \tBuick \tPark Avenue Ultra 4dr \tSedan \tUSA \tFront \t$40,720  \t$36,927  \t3.8 \t6 \t240 \t18 \t28 \t3909 \t114 \t207 \tCadillac \tEscalade \tSUV \tUSA \tFront \t$52,795  \t$48,377  \t5.3 \t8 \t295 \t14 \t18 \t5367 \t116 \t199 \tCadillac \tSRX V8 \tSUV \tUSA \tFront \t$46,995  \t$43,523  \t4.6 \t8 \t320 \t16 \t21 \t4302 \t116 \t195 \tCadillac \tCTS VVT 4dr \tSedan \tUSA \tRear \t$30,835  \t$28,575  \t3.6 \t6 \t255 \t18 \t25 \t3694 \t113 \t190 \tCadillac \tDeville 4dr \tSedan \tUSA \tFront \t$45,445  \t$41,650  \t4.6 \t8 \t275 \t18 \t26 \t3984 \t115 \t207 \tCadillac \tDeville DTS 4dr \tSedan \tUSA \tFront \t$50,595  \t$46,362  \t4.6 \t8 \t300 \t18 \t26 \t4044 \t115 \t207 \tCadillac \tSeville SLS 4dr \tSedan \tUSA \tFront \t$47,955  \t$43,841  \t4.6 \t8 \t275 \t18 \t26 \t3992 \t112 \t201 \tCadillac \tXLR convertible 2dr \tSports \tUSA \tRear \t$76,200  \t$70,546  \t4.6 \t8 \t320 \t17 \t25 \t3647 \t106 \t178 \tCadillac \tEscalade EXT \tTruck \tUSA \tAll \t$52,975  \t$48,541  \t6 \t8 \t345 \t13 \t17 \t5879 \t130 \t221 \tChevrolet \tSuburban 1500 LT \tSUV \tUSA \tFront \t$42,735  \t$37,422  \t5.3 \t8 \t295 \t14 \t18 \t4947 \t130 \t219 \tChevrolet \tTahoe LT \tSUV \tUSA \tAll \t$41,465  \t$36,287  \t5.3 \t8 \t295 \t14 \t18 \t5050 \t116 \t197 \tChevrolet \tTrailBlazer LT \tSUV \tUSA \tFront \t$30,295  \t$27,479  \t4.2 \t6 \t275 \t16 \t21 \t4425 \t113 \t192 \tChevrolet \tTracker \tSUV \tUSA \tFront \t$20,255  \t$19,108  \t2.5 \t6 \t165 \t19 \t22 \t2866 \t98 \t163 \tChevrolet \tAveo 4dr \tSedan \tUSA \tFront \t$11,690  \t$10,965  \t1.6 \t4 \t103 \t28 \t34 \t2370 \t98 \t167 \tChevrolet \tAveo LS 4dr hatch \tSedan \tUSA \tFront \t$12,585  \t$11,802  \t1.6 \t4 \t103 \t28 \t34 \t2348 \t98 \t153 \tChevrolet \tCavalier 2dr \tSedan \tUSA \tFront \t$14,610  \t$13,697  \t2.2 \t4 \t140 \t26 \t37 \t2617 \t104 \t183 \tChevrolet \tCavalier 4dr \tSedan \tUSA \tFront \t$14,810  \t$13,884  \t2.2 \t4 \t140 \t26 \t37 \t2676 \t104 \t183 \tChevrolet \tCavalier LS 2dr \tSedan \tUSA \tFront \t$16,385  \t$15,357  \t2.2 \t4 \t140 \t26 \t37 \t2617 \t104 \t183 \tChevrolet \tImpala 4dr \tSedan \tUSA \tFront \t$21,900  \t$20,095  \t3.4 \t6 \t180 \t21 \t32 \t3465 \t111 \t200 \tChevrolet \tMalibu 4dr \tSedan \tUSA \tFront \t$18,995  \t$17,434  \t2.2 \t4 \t145 \t24 \t34 \t3174 \t106 \t188 \tChevrolet \tMalibu LS 4dr \tSedan \tUSA \tFront \t$20,370  \t$18,639  \t3.5 \t6 \t200 \t22 \t30 \t3297 \t106 \t188 \tChevrolet \tMonte Carlo LS 2dr \tSedan \tUSA \tFront \t$21,825  \t$20,026  \t3.4 \t6 \t180 \t21 \t32 \t3340 \t111 \t198 \tChevrolet \tImpala LS 4dr \tSedan \tUSA \tFront \t$25,000  \t$22,931  \t3.8 \t6 \t200 \t20 \t30 \t3476 \t111 \t200 \tChevrolet \tImpala SS 4dr \tSedan \tUSA \tFront \t$27,995  \t$25,672  \t3.8 \t6 \t240 \t18 \t28 \t3606 \t111 \t200 \tChevrolet \tMalibu LT 4dr \tSedan \tUSA \tFront \t$23,495  \t$21,551  \t3.5 \t6 \t200 \t23 \t32 \t3315 \t106 \t188 \tChevrolet \tMonte Carlo SS 2dr \tSedan \tUSA \tFront \t$24,225  \t$22,222  \t3.8 \t6 \t200 \t18 \t28 \t3434 \t111 \t198 \tChevrolet \tAstro \tSedan \tUSA \tAll \t$26,395  \t$23,954  \t4.3 \t6 \t190 \t14 \t17 \t4605 \t111 \t190 \tChevrolet \tVenture LS \tSedan \tUSA \tFront \t$27,020  \t$24,518  \t3.4 \t6 \t185 \t19 \t26 \t3699 \t112 \t187 \tChevrolet \tCorvette 2dr \tSports \tUSA \tRear \t$44,535  \t$39,068  \t5.7 \t8 \t350 \t18 \t25 \t3246 \t105 \t180 \tChevrolet \tCorvette convertible 2dr \tSports \tUSA \tRear \t$51,535  \t$45,193  \t5.7 \t8 \t350 \t18 \t25 \t3248 \t105 \t180 \tChevrolet \tAvalanche 1500 \tTruck \tUSA \tAll \t$36,100  \t$31,689  \t5.3 \t8 \t295 \t14 \t18 \t5678 \t130 \t222 \tChevrolet \tColorado Z85 \tTruck \tUSA \tAll \t$18,760  \t$17,070  \t2.8 \t4 \t175 \t18 \t23 \t3623 \t111 \t192 \tChevrolet \tSilverado 1500 Regular Cab \tTruck \tUSA \tRear \t$20,310  \t$18,480  \t4.3 \t6 \t200 \t15 \t21 \t4142 \t119 \t206 \tChevrolet \tSilverado SS \tTruck \tUSA \tAll \t$40,340  \t$35,399  \t6 \t8 \t300 \t13 \t17 \t4804 \t144 \t238 \tChevrolet \tSSR \tTruck \tUSA \tRear \t$41,995  \t$39,306  \t5.3 \t8 \t300 \t16 \t19 \t4760 \t116 \t191 \tChevrolet \tMalibu Maxx LS \tWagon \tUSA \tFront \t$22,225  \t$20,394  \t3.5 \t6 \t200 \t22 \t30 \t3458 \t112 \t188 \tChrysler \tPT Cruiser 4dr \tSedan \tUSA \tFront \t$17,985  \t$16,919  \t2.4 \t4 \t150 \t22 \t29 \t3101 \t103 \t169 \tChrysler \tPT Cruiser Limited 4dr \tSedan \tUSA \tFront \t$22,000  \t$20,573  \t2.4 \t4 \t150 \t22 \t29 \t3105 \t103 \t169 \tChrysler \tSebring 4dr \tSedan \tUSA \tFront \t$19,090  \t$17,805  \t2.4 \t4 \t150 \t22 \t30 \t3173 \t108 \t191 \tChrysler \tSebring Touring 4dr \tSedan \tUSA \tFront \t$21,840  \t$20,284  \t2.7 \t6 \t200 \t21 \t28 \t3222 \t108 \t191 \tChrysler \t300M 4dr \tSedan \tUSA \tFront \t$29,865  \t$27,797  \t3.5 \t6 \t250 \t18 \t27 \t3581 \t113 \t198 \tChrysler \tConcorde LX 4dr \tSedan \tUSA \tFront \t$24,130  \t$22,452  \t2.7 \t6 \t200 \t21 \t29 \t3479 \t113 \t208 \tChrysler \tConcorde LXi 4dr \tSedan \tUSA \tFront \t$26,860  \t$24,909  \t3.5 \t6 \t232 \t19 \t27 \t3548 \t113 \t208 \tChrysler \tPT Cruiser GT 4dr \tSedan \tUSA \tFront \t$25,955  \t$24,172  \t2.4 \t4 \t220 \t21 \t27 \t3217 \t103 \t169 \tChrysler \tSebring convertible 2dr \tSedan \tUSA \tFront \t$25,215  \t$23,451  \t2.4 \t4 \t150 \t22 \t30 \t3357 \t106 \t194 \tChrysler \t300M Special Edition 4dr \tSedan \tUSA \tFront \t$33,295  \t$30,884  \t3.5 \t6 \t255 \t18 \t27 \t3650 \t113 \t198 \tChrysler \tSebring Limited convertible 2dr \tSedan \tUSA \tFront \t$30,950  \t$28,613  \t2.7 \t6 \t200 \t21 \t28 \t3448 \t106 \t194 \tChrysler \tTown and Country LX \tSedan \tUSA \tFront \t$27,490  \t$25,371  \t3.3 \t6 \t180 \t19 \t26 \t4068 \t119 \t201 \tChrysler \tTown and Country Limited \tSedan \tUSA \tFront \t$38,380  \t$35,063  \t3.8 \t6 \t215 \t18 \t25 \t4331 \t119 \t201 \tChrysler \tCrossfire 2dr \tSports \tUSA \tRear \t$34,495  \t$32,033  \t3.2 \t6 \t215 \t17 \t25 \t3060 \t95 \t160 \tChrysler \tPacifica \tWagon \tUSA \tRear \t$31,230  \t$28,725  \t3.5 \t6 \t250 \t17 \t23 \t4675 \t116 \t199 \tDodge \tDurango SLT \tSUV \tUSA \tAll \t$32,235  \t$29,472  \t4.7 \t8 \t230 \t15 \t21 \t4987 \t119 \t201 \tDodge \tNeon SE 4dr \tSedan \tUSA \tFront \t$13,670  \t$12,849  \t2 \t4 \t132 \t29 \t36 \t2581 \t105 \t174 \tDodge \tNeon SXT 4dr \tSedan \tUSA \tFront \t$15,040  \t$14,086  \t2 \t4 \t132 \t29 \t36 \t2626 \t105 \t174 \tDodge \tIntrepid SE 4dr \tSedan \tUSA \tFront \t$22,035  \t$20,502  \t2.7 \t6 \t200 \t21 \t29 \t3469 \t113 \t204 \tDodge \tStratus SXT 4dr \tSedan \tUSA \tFront \t$18,820  \t$17,512  \t2.4 \t4 \t150 \t21 \t28 \t3182 \t108 \t191 \tDodge \tStratus SE 4dr \tSedan \tUSA \tFront \t$20,220  \t$18,821  \t2.4 \t4 \t150 \t21 \t28 \t3175 \t108 \t191 \tDodge \tIntrepid ES 4dr \tSedan \tUSA \tFront \t$24,885  \t$23,058  \t3.5 \t6 \t232 \t18 \t27 \t3487 \t113 \t204 \tDodge \tCaravan SE \tSedan \tUSA \tFront \t$21,795  \t$20,508  \t2.4 \t4 \t150 \t20 \t26 \t3862 \t113 \t189 \tDodge \tGrand Caravan SXT \tSedan \tUSA \tAll \t$32,660  \t$29,812  \t3.8 \t6 \t215 \t18 \t25 \t4440 \t119 \t201 \tDodge \tViper SRT-10 convertible 2dr \tSports \tUSA \tRear \t$81,795  \t$74,451  \t8.3 \t10 \t500 \t12 \t20 \t3410 \t99 \t176 \tDodge \tDakota Regular Cab \tTruck \tUSA \tRear \t$17,630  \t$16,264  \t3.7 \t6 \t210 \t16 \t22 \t3714 \t112 \t193 \tDodge \tDakota Club Cab \tTruck \tUSA \tRear \t$20,300  \t$18,670  \t3.7 \t6 \t210 \t16 \t22 \t3829 \t131 \t219 \tDodge \tRam 1500 Regular Cab ST \tTruck \tUSA \tRear \t$20,215  \t$18,076  \t3.7 \t6 \t215 \t16 \t21 \t4542 \t121 \t208 \tFord \tExcursion 6.8 XLT \tSUV \tUSA \tAll \t$41,475  \t$36,494  \t6.8 \t10 \t310 \t10 \t13 \t7190 \t137 \t227 \tFord \tExpedition 4.6 XLT \tSUV \tUSA \tFront \t$34,560  \t$30,468  \t4.6 \t8 \t232 \t15 \t19 \t5000 \t119 \t206 \tFord \tExplorer XLT V6 \tSUV \tUSA \tAll \t$29,670  \t$26,983  \t4 \t6 \t210 \t15 \t20 \t4463 \t114 \t190 \tFord \tEscape XLS \tSUV \tUSA \tAll \t$22,515  \t$20,907  \t3 \t6 \t201 \t18 \t23 \t3346 \t103 \t173 \tFord \tFocus ZX3 2dr hatch \tSedan \tUSA \tFront \t$13,270  \t$12,482  \t2 \t4 \t130 \t26 \t33 \t2612 \t103 \t168 \tFord \tFocus LX 4dr \tSedan \tUSA \tFront \t$13,730  \t$12,906  \t2 \t4 \t110 \t27 \t36 \t2606 \t103 \t168 \tFord \tFocus SE 4dr \tSedan \tUSA \tFront \t$15,460  \t$14,496  \t2 \t4 \t130 \t26 \t33 \t2606 \t103 \t168 \tFord \tFocus ZX5 5dr \tSedan \tUSA \tFront \t$15,580  \t$14,607  \t2 \t4 \t130 \t26 \t33 \t2691 \t103 \t168 \tFord \tFocus SVT 2dr \tSedan \tUSA \tFront \t$19,135  \t$17,878  \t2 \t4 \t170 \t21 \t28 \t2750 \t103 \t168 \tFord \tTaurus LX 4dr \tSedan \tUSA \tFront \t$20,320  \t$18,881  \t3 \t6 \t155 \t20 \t27 \t3306 \t109 \t198 \tFord \tTaurus SES Duratec 4dr \tSedan \tUSA \tFront \t$22,735  \t$20,857  \t3 \t6 \t201 \t19 \t26 \t3313 \t109 \t198 \tFord \tCrown Victoria 4dr \tSedan \tUSA \tRear \t$24,345  \t$22,856  \t4.6 \t8 \t224 \t17 \t25 \t4057 \t115 \t212 \tFord \tCrown Victoria LX 4dr \tSedan \tUSA \tRear \t$27,370  \t$25,105  \t4.6 \t8 \t224 \t17 \t25 \t4057 \t115 \t212 \tFord \tCrown Victoria LX Sport 4dr \tSedan \tUSA \tRear \t$30,315  \t$27,756  \t4.6 \t8 \t239 \t17 \t25 \t4057 \t115 \t212 \tFord \tFreestar SE \tSedan \tUSA \tFront \t$26,930  \t$24,498  \t3.9 \t6 \t193 \t17 \t23 \t4275 \t121 \t201 \tFord \tMustang 2dr (convertible) \tSports \tUSA \tRear \t$18,345  \t$16,943  \t3.8 \t6 \t193 \t20 \t29 \t3290 \t101 \t183 \tFord \tMustang GT Premium convertible 2dr \tSports \tUSA \tRear \t$29,380  \t$26,875  \t4.6 \t8 \t260 \t17 \t25 \t3347 \t101 \t183 \tFord \tThunderbird Deluxe convert w/hardtop 2d \tSports \tUSA \tFront \t$37,530  \t$34,483  \t3.9 \t8 \t280 \t17 \t24 \t3780 \t107 \t186 \tFord \tF-150 Regular Cab XL \tTruck \tUSA \tRear \t$22,010  \t$19,490  \t4.6 \t8 \t231 \t15 \t19 \t4788 \t126 \t211 \tFord \tF-150 Supercab Lariat \tTruck \tUSA \tAll \t$33,540  \t$29,405  \t5.4 \t8 \t300 \t14 \t18 \t5464 \t133 \t218 \tFord \tRanger 2.3 XL Regular Cab \tTruck \tUSA \tRear \t$14,385  \t$13,717  \t2.3 \t4 \t143 \t24 \t29 \t3028 \t111 \t188 \tFord \tFocus ZTW \tWagon \tUSA \tFront \t$17,475  \t$16,375  \t2 \t4 \t130 \t26 \t33 \t2702 \t103 \t178 \tFord \tTaurus SE \tWagon \tUSA \tFront \t$22,290  \t$20,457  \t3 \t6 \t155 \t19 \t26 \t3497 \t109 \t198 \tGMC \tEnvoy XUV SLE \tSUV \tUSA \tFront \t$31,890  \t$28,922  \t4.2 \t6 \t275 \t15 \t19 \t4945 \t129 \t208 \tGMC \tYukon 1500 SLE \tSUV \tUSA \tFront \t$35,725  \t$31,361  \t4.8 \t8 \t285 \t16 \t19 \t5042 \t116 \t199 \tGMC \tYukon XL 2500 SLT \tSUV \tUSA \tAll \t$46,265  \t$40,534  \t6 \t8 \t325 \t13 \t17 \t6133 \t130 \t219 \tGMC \tSafari SLE \tSedan \tUSA \tRear \t$25,640  \t$23,215  \t4.3 \t6 \t190 \t16 \t20 \t4309 \t111 \t190 \tGMC \tCanyon Z85 SL Regular Cab \tTruck \tUSA \tRear \t$16,530  \t$14,877  \t2.8 \t4 \t175 \t18 \t25 \t3351 \t111 \t192 \tGMC \tSierra Extended Cab 1500 \tTruck \tUSA \tRear \t$25,717  \t$22,604  \t4.8 \t8 \t285 \t17 \t20 \t4548 \t144 \t230 \tGMC \tSierra HD 2500 \tTruck \tUSA \tAll \t$29,322  \t$25,759  \t6 \t8 \t300 \t13 \t18 \t5440 \t133 \t222 \tGMC \tSonoma Crew Cab \tTruck \tUSA \tAll \t$25,395  \t$23,043  \t4.3 \t6 \t190 \t15 \t19 \t4083 \t123 \t208 \tHonda \tCivic Hybrid 4dr manual (gas/electric) \tHybrid \tAsia \tFront \t$20,140  \t$18,451  \t1.4 \t4 \t93 \t46 \t51 \t2732 \t103 \t175 \tHonda \tInsight 2dr (gas/electric) \tHybrid \tAsia \tFront \t$19,110  \t$17,911  \t2 \t3 \t73 \t60 \t66 \t1850 \t95 \t155 \tHonda \tPilot LX \tSUV \tAsia \tAll \t$27,560  \t$24,843  \t3.5 \t6 \t240 \t17 \t22 \t4387 \t106 \t188 \tHonda \tCR-V LX \tSUV \tAsia \tAll \t$19,860  \t$18,419  \t2.4 \t4 \t160 \t21 \t25 \t3258 \t103 \t179 \tHonda \tElement LX \tSUV \tAsia \tAll \t$18,690  \t$17,334  \t2.4 \t4 \t160 \t21 \t24 \t3468 \t101 \t167 \tHonda \tCivic DX 2dr \tSedan \tAsia \tFront \t$13,270  \t$12,175  \t1.7 \t4 \t115 \t32 \t38 \t2432 \t103 \t175 \tHonda \tCivic HX 2dr \tSedan \tAsia \tFront \t$14,170  \t$12,996  \t1.7 \t4 \t117 \t36 \t44 \t2500 \t103 \t175 \tHonda \tCivic LX 4dr \tSedan \tAsia \tFront \t$15,850  \t$14,531  \t1.7 \t4 \t115 \t32 \t38 \t2513 \t103 \t175 \tHonda \tAccord LX 2dr \tSedan \tAsia \tFront \t$19,860  \t$17,924  \t2.4 \t4 \t160 \t26 \t34 \t2994 \t105 \t188 \tHonda \tAccord EX 2dr \tSedan \tAsia \tFront \t$22,260  \t$20,080  \t2.4 \t4 \t160 \t26 \t34 \t3047 \t105 \t188 \t \t \t \t \t \t \t \t \t \t \t \t \t \t \t \tHonda \tCivic EX 4dr \tSedan \tAsia \tFront \t$17,750  \t$16,265  \t1.7 \t4 \t127 \t32 \t37 \t2601 \t103 \t175 \tHonda \tCivic Si 2dr hatch \tSedan \tAsia \tFront \t$19,490  \t$17,849  \t2 \t4 \t160 \t26 \t30 \t2782 \t101 \t166 \tHonda \tAccord LX V6 4dr \tSedan \tAsia \tFront \t$23,760  \t$21,428  \t3 \t6 \t240 \t21 \t30 \t3349 \t108 \t190 \tHonda \tAccord EX V6 2dr \tSedan \tAsia \tFront \t$26,960  \t$24,304  \t3 \t6 \t240 \t21 \t30 \t3294 \t105 \t188 \tHonda \tOdyssey LX \tSedan \tAsia \tFront \t$24,950  \t$22,498  \t3.5 \t6 \t240 \t18 \t25 \t4310 \t118 \t201 \tHonda \tOdyssey EX \tSedan \tAsia \tFront \t$27,450  \t$24,744  \t3.5 \t6 \t240 \t18 \t25 \t4365 \t118 \t201 \tHonda \tS2000 convertible 2dr \tSports \tAsia \tRear \t$33,260  \t$29,965  \t2.2 \t4 \t240 \t20 \t25 \t2835 \t95 \t162 \tHummer \tH2 \tSUV \tUSA \tAll \t$49,995  \t$45,815  \t6 \t8 \t316 \t10 \t12 \t6400 \t123 \t190 \tHyundai \tSanta Fe GLS \tSUV \tAsia \tFront \t$21,589  \t$20,201  \t2.7 \t6 \t173 \t20 \t26 \t3549 \t103 \t177 \tHyundai \tAccent 2dr hatch \tSedan \tAsia \tFront \t$10,539  \t$10,107  \t1.6 \t4 \t103 \t29 \t33 \t2255 \t96 \t167 \tHyundai \tAccent GL 4dr \tSedan \tAsia \tFront \t$11,839  \t$11,116  \t1.6 \t4 \t103 \t29 \t33 \t2290 \t96 \t167 \t \t \t \t \t \t \t \t \t \t \t \t \t \t \t \tHyundai \tAccent GT 2dr hatch \tSedan \tAsia \tFront \t$11,939  \t$11,209  \t1.6 \t4 \t103 \t29 \t33 \t2339 \t96 \t167 \tHyundai \tElantra GLS 4dr \tSedan \tAsia \tFront \t$13,839  \t$12,781  \t2 \t4 \t138 \t26 \t34 \t2635 \t103 \t178 \tHyundai \tElantra GT 4dr \tSedan \tAsia \tFront \t$15,389  \t$14,207  \t2 \t4 \t138 \t26 \t34 \t2635 \t103 \t178 \tHyundai \tElantra GT 4dr hatch \tSedan \tAsia \tFront \t$15,389  \t$14,207  \t2 \t4 \t138 \t26 \t34 \t2698 \t103 \t178 \tHyundai \tSonata GLS 4dr \tSedan \tAsia \tFront \t$19,339  \t$17,574  \t2.7 \t6 \t170 \t19 \t27 \t3217 \t106 \t187 \tHyundai \tSonata LX 4dr \tSedan \tAsia \tFront \t$20,339  \t$18,380  \t2.7 \t6 \t170 \t19 \t27 \t3217 \t106 \t187 \tHyundai \tXG350 4dr \tSedan \tAsia \tFront \t$24,589  \t$22,055  \t3.5 \t6 \t194 \t17 \t26 \t3651 \t108 \t192 \tHyundai \tXG350 L 4dr \tSedan \tAsia \tFront \t$26,189  \t$23,486  \t3.5 \t6 \t194 \t17 \t26 \t3651 \t108 \t192 \tHyundai \tTiburon GT V6 2dr \tSports \tAsia \tFront \t$18,739  \t$17,101  \t2.7 \t6 \t172 \t19 \t26 \t3023 \t100 \t173 \tInfiniti \tG35 4dr \tSedan \tAsia \tRear \t$28,495  \t$26,157  \t3.5 \t6 \t260 \t18 \t26 \t3336 \t112 \t187 \tInfiniti \tG35 Sport Coupe 2dr \tSedan \tAsia \tRear \t$29,795  \t$27,536  \t3.5 \t6 \t280 \t18 \t26 \t3416 \t112 \t182 \tInfiniti \tG35 4dr \tSedan \tAsia \tAll \t$32,445  \t$29,783  \t3.5 \t6 \t260 \t18 \t26 \t3677 \t112 \t187 \tInfiniti \tI35 4dr \tSedan \tAsia \tFront \t$31,145  \t$28,320  \t3.5 \t6 \t255 \t19 \t26 \t3306 \t108 \t194 \tInfiniti \tM45 4dr \tSedan \tAsia \tRear \t$42,845  \t$38,792  \t4.5 \t8 \t340 \t17 \t23 \t3851 \t110 \t197 \tInfiniti \tQ45 Luxury 4dr \tSedan \tAsia \tRear \t$52,545  \t$47,575  \t4.5 \t8 \t340 \t17 \t23 \t3977 \t113 \t200 \tInfiniti \tFX35 \tWagon \tAsia \tRear \t$34,895  \t$31,756  \t3.5 \t6 \t280 \t16 \t22 \t4056 \t112 \t189 \tInfiniti \tFX45 \tWagon \tAsia \tAll \t$36,395  \t$33,121  \t4.5 \t8 \t315 \t15 \t19 \t4309 \t112 \t189 \tIsuzu \tAscender S \tSUV \tAsia \tAll \t$31,849  \t$29,977  \t4.2 \t6 \t275 \t15 \t20 \t4967 \t129 \t208 \tIsuzu \tRodeo S \tSUV \tAsia \tFront \t$20,449  \t$19,261  \t3.2 \t6 \t193 \t17 \t21 \t3836 \t106 \t178 \tJaguar \tX-Type 2.5 4dr \tSedan \tEurope \tAll \t$29,995  \t$27,355  \t2.5 \t6 \t192 \t18 \t26 \t3428 \t107 \t184 \tJaguar \tX-Type 3.0 4dr \tSedan \tEurope \tAll \t$33,995  \t$30,995  \t3 \t6 \t227 \t18 \t25 \t3516 \t107 \t184 \tJaguar \tS-Type 3.0 4dr \tSedan \tEurope \tRear \t$43,895  \t$40,004  \t3 \t6 \t235 \t18 \t26 \t3777 \t115 \t192 \tJaguar \tS-Type 4.2 4dr \tSedan \tEurope \tRear \t$49,995  \t$45,556  \t4.2 \t8 \t294 \t18 \t28 \t3874 \t115 \t192 \tJaguar \tS-Type R 4dr \tSedan \tEurope \tRear \t$63,120  \t$57,499  \t4.2 \t8 \t390 \t17 \t24 \t4046 \t115 \t192 \tJaguar \tVanden Plas 4dr \tSedan \tEurope \tRear \t$68,995  \t$62,846  \t4.2 \t8 \t294 \t18 \t28 \t3803 \t119 \t200 \tJaguar \tXJ8 4dr \tSedan \tEurope \tRear \t$59,995  \t$54,656  \t4.2 \t8 \t294 \t18 \t28 \t3803 \t119 \t200 \tJaguar \tXJR 4dr \tSedan \tEurope \tRear \t$74,995  \t$68,306  \t4.2 \t8 \t390 \t17 \t24 \t3948 \t119 \t200 \tJaguar \tXK8 coupe 2dr \tSports \tEurope \tRear \t$69,995  \t$63,756  \t4.2 \t8 \t294 \t18 \t26 \t3779 \t102 \t187 \tJaguar \tXK8 convertible 2dr \tSports \tEurope \tRear \t$74,995  \t$68,306  \t4.2 \t8 \t294 \t18 \t26 \t3980 \t102 \t187 \tJaguar \tXKR coupe 2dr \tSports \tEurope \tRear \t$81,995  \t$74,676  \t4.2 \t8 \t390 \t16 \t23 \t3865 \t102 \t187 \tJaguar \tXKR convertible 2dr \tSports \tEurope \tRear \t$86,995  \t$79,226  \t4.2 \t8 \t390 \t16 \t23 \t4042 \t102 \t187 \tJeep \tGrand Cherokee Laredo \tSUV \tUSA \tFront \t$27,905  \t$25,686  \t4 \t6 \t195 \t16 \t21 \t3790 \t106 \t181 \tJeep \tLiberty Sport \tSUV \tUSA \tAll \t$20,130  \t$18,973  \t2.4 \t4 \t150 \t20 \t24 \t3826 \t104 \t174 \tJeep \tWrangler Sahara convertible 2dr \tSUV \tUSA \tAll \t$25,520  \t$23,275  \t4 \t6 \t190 \t16 \t19 \t3575 \t93 \t150 \tKia \tSorento LX \tSUV \tAsia \tFront \t$19,635  \t$18,630  \t3.5 \t6 \t192 \t16 \t19 \t4112 \t107 \t180 \tKia \tOptima LX 4dr \tSedan \tAsia \tFront \t$16,040  \t$14,910  \t2.4 \t4 \t138 \t23 \t30 \t3281 \t106 \t186 \tKia \tRio 4dr manual \tSedan \tAsia \tFront \t$10,280  \t$9,875  \t1.6 \t4 \t104 \t26 \t33 \t2403 \t95 \t167 \tKia \tRio 4dr auto \tSedan \tAsia \tFront \t$11,155  \t$10,705  \t1.6 \t4 \t104 \t25 \t32 \t2458 \t95 \t167 \tKia \tSpectra 4dr \tSedan \tAsia \tFront \t$12,360  \t$11,630  \t1.8 \t4 \t124 \t24 \t32 \t2661 \t101 \t178 \tKia \tSpectra GS 4dr hatch \tSedan \tAsia \tFront \t$13,580  \t$12,830  \t1.8 \t4 \t124 \t24 \t32 \t2686 \t101 \t178 \tKia \tSpectra GSX 4dr hatch \tSedan \tAsia \tFront \t$14,630  \t$13,790  \t1.8 \t4 \t124 \t24 \t32 \t2697 \t101 \t178 \tKia \tOptima LX V6 4dr \tSedan \tAsia \tFront \t$18,435  \t$16,850  \t2.7 \t6 \t170 \t20 \t27 \t3279 \t106 \t186 \tKia \tAmanti 4dr \tSedan \tAsia \tFront \t$26,000  \t$23,764  \t3.5 \t6 \t195 \t17 \t25 \t4021 \t110 \t196 \tKia \tSedona LX \tSedan \tAsia \tFront \t$20,615  \t$19,400  \t3.5 \t6 \t195 \t16 \t22 \t4802 \t115 \t194 \tKia \tRio Cinco \tWagon \tAsia \tFront \t$11,905  \t$11,410  \t1.6 \t4 \t104 \t26 \t33 \t2447 \t95 \t167 \tLand Rover \tRange Rover HSE \tSUV \tEurope \tAll \t$72,250  \t$65,807  \t4.4 \t8 \t282 \t12 \t16 \t5379 \t113 \t195 \tLand Rover \tDiscovery SE \tSUV \tEurope \tAll \t$39,250  \t$35,777  \t4.6 \t8 \t217 \t12 \t16 \t4576 \t100 \t185 \tLand Rover \tFreelander SE \tSUV \tEurope \tAll \t$25,995  \t$23,969  \t2.5 \t6 \t174 \t18 \t21 \t3577 \t101 \t175 \tLexus \tGX 470 \tSUV \tAsia \tAll \t$45,700  \t$39,838  \t4.7 \t8 \t235 \t15 \t19 \t4740 \t110 \t188 \tLexus \tLX 470 \tSUV \tAsia \tAll \t$64,800  \t$56,455  \t4.7 \t8 \t235 \t13 \t17 \t5590 \t112 \t193 \tLexus \tRX 330 \tSUV \tAsia \tAll \t$39,195  \t$34,576  \t3.3 \t6 \t230 \t18 \t24 \t4065 \t107 \t186 \tLexus \tES 330 4dr \tSedan \tAsia \tFront \t$32,350  \t$28,755  \t3.3 \t6 \t225 \t20 \t29 \t3460 \t107 \t191 \tLexus \tIS 300 4dr manual \tSedan \tAsia \tRear \t$31,045  \t$27,404  \t3 \t6 \t215 \t18 \t25 \t3255 \t105 \t177 \tLexus \tIS 300 4dr auto \tSedan \tAsia \tRear \t$32,415  \t$28,611  \t3 \t6 \t215 \t18 \t24 \t3285 \t105 \t177 \tLexus \tGS 300 4dr \tSedan \tAsia \tRear \t$41,010  \t$36,196  \t3 \t6 \t220 \t18 \t25 \t3649 \t110 \t189 \tLexus \tGS 430 4dr \tSedan \tAsia \tRear \t$48,450  \t$42,232  \t4.3 \t8 \t300 \t18 \t23 \t3715 \t110 \t189 \tLexus \tLS 430 4dr \tSedan \tAsia \tRear \t$55,750  \t$48,583  \t4.3 \t8 \t290 \t18 \t25 \t3990 \t115 \t197 \tLexus \tSC 430 convertible 2dr \tSports \tAsia \tRear \t$63,200  \t$55,063  \t4.3 \t8 \t300 \t18 \t23 \t3840 \t103 \t178 \tLexus \tIS 300 SportCross \tWagon \tAsia \tRear \t$32,455  \t$28,647  \t3 \t6 \t215 \t18 \t24 \t3410 \t105 \t177 \tLincoln \tNavigator Luxury \tSUV \tUSA \tAll \t$52,775  \t$46,360  \t5.4 \t8 \t300 \t13 \t18 \t5969 \t119 \t206 \tLincoln \tAviator Ultimate \tSUV \tUSA \tFront \t$42,915  \t$39,443  \t4.6 \t8 \t302 \t13 \t18 \t4834 \t114 \t193 \tLincoln \tLS V6 Luxury 4dr \tSedan \tUSA \tRear \t$32,495  \t$29,969  \t3 \t6 \t232 \t20 \t26 \t3681 \t115 \t194 \tLincoln \tLS V6 Premium 4dr \tSedan \tUSA \tRear \t$36,895  \t$33,929  \t3 \t6 \t232 \t20 \t26 \t3681 \t115 \t194 \tLincoln \tLS V8 Sport 4dr \tSedan \tUSA \tRear \t$40,095  \t$36,809  \t3.9 \t8 \t280 \t17 \t24 \t3768 \t115 \t194 \tLincoln \tLS V8 Ultimate 4dr \tSedan \tUSA \tRear \t$43,495  \t$39,869  \t3.9 \t8 \t280 \t17 \t24 \t3768 \t115 \t194 \tLincoln \tTown Car Signature 4dr \tSedan \tUSA \tRear \t$41,815  \t$38,418  \t4.6 \t8 \t239 \t17 \t25 \t4369 \t118 \t215 \tLincoln \tTown Car Ultimate 4dr \tSedan \tUSA \tRear \t$44,925  \t$41,217  \t4.6 \t8 \t239 \t17 \t25 \t4369 \t118 \t215 \tLincoln \tTown Car Ultimate L 4dr \tSedan \tUSA \tRear \t$50,470  \t$46,208  \t4.6 \t8 \t239 \t17 \t25 \t4474 \t124 \t221 \tMINI \tCooper \tSedan \tEurope \tFront \t$16,999  \t$15,437  \t1.6 \t4 \t115 \t28 \t37 \t2524 \t97 \t143 \tMINI \tCooper S \tSedan \tEurope \tFront \t$19,999  \t$18,137  \t1.6 \t4 \t163 \t25 \t34 \t2678 \t97 \t144 \tMazda \tTribute DX 2.0 \tSUV \tAsia \tAll \t$21,087  \t$19,742  \t2 \t4 \t130 \t22 \t25 \t3091 \t103 \t173 \tMazda \tMazda3 i 4dr \tSedan \tAsia \tFront \t$15,500  \t$14,525  \t2 \t4 \t148 \t26 \t34 \t2696 \t104 \t178 \tMazda \tMazda3 s 4dr \tSedan \tAsia \tFront \t$17,200  \t$15,922  \t2.3 \t4 \t160 \t25 \t31 \t2762 \t104 \t179 \tMazda \tMazda6 i 4dr \tSedan \tAsia \tFront \t$19,270  \t$17,817  \t2.3 \t4 \t160 \t24 \t32 \t3042 \t105 \t187 \tMazda \tMPV ES \tSedan \tAsia \tFront \t$28,750  \t$26,600  \t3 \t6 \t200 \t18 \t25 \t3812 \t112 \t188 \tMazda \tMX-5 Miata convertible 2dr \tSports \tAsia \tRear \t$22,388  \t$20,701  \t1.8 \t4 \t142 \t23 \t28 \t2387 \t89 \t156 \tMazda \tMX-5 Miata LS convertible 2dr \tSports \tAsia \tRear \t$25,193  \t$23,285  \t1.8 \t4 \t142 \t23 \t28 \t2387 \t89 \t156 \tMazda \tRX-8 4dr automatic \tSports \tAsia \tRear \t$25,700  \t$23,794  \t1.3 \t \t197 \t18 \t25 \t3053 \t106 \t174 \tMazda \tRX-8 4dr manual \tSports \tAsia \tRear \t$27,200  \t$25,179  \t1.3 \t \t238 \t18 \t24 \t3029 \t106 \t174 \tMazda \tB2300 SX Regular Cab \tTruck \tAsia \tRear \t$14,840  \t$14,070  \t2.3 \t4 \t143 \t24 \t29 \t2960 \t112 \t188 \tMazda \tB4000 SE Cab Plus \tTruck \tAsia \tAll \t$22,350  \t$20,482  \t4 \t6 \t207 \t15 \t19 \t3571 \t126 \t203 \tMercedes-Benz \tG500 \tSUV \tEurope \tAll \t$76,870  \t$71,540  \t5 \t8 \t292 \t13 \t14 \t5423 \t112 \t186 \tMercedes-Benz \tML500 \tSUV \tEurope \tAll \t$46,470  \t$43,268  \t5 \t8 \t288 \t14 \t17 \t4874 \t111 \t183 \tMercedes-Benz \tC230 Sport 2dr \tSedan \tEurope \tRear \t$26,060  \t$24,249  \t1.8 \t4 \t189 \t22 \t30 \t3250 \t107 \t178 \tMercedes-Benz \tC320 Sport 2dr \tSedan \tEurope \tRear \t$28,370  \t$26,435  \t3.2 \t6 \t215 \t19 \t26 \t3430 \t107 \t178 \tMercedes-Benz \tC240 4dr \tSedan \tEurope \tRear \t$32,280  \t$30,071  \t2.6 \t6 \t168 \t20 \t25 \t3360 \t107 \t178 \tMercedes-Benz \tC240 4dr \tSedan \tEurope \tAll \t$33,480  \t$31,187  \t2.6 \t6 \t168 \t19 \t25 \t3360 \t107 \t178 \tMercedes-Benz \tC320 Sport 4dr \tSedan \tEurope \tRear \t$35,920  \t$33,456  \t3.2 \t6 \t215 \t19 \t26 \t3430 \t107 \t178 \tMercedes-Benz \tC320 4dr \tSedan \tEurope \tRear \t$37,630  \t$35,046  \t3.2 \t6 \t215 \t20 \t26 \t3450 \t107 \t178 \tMercedes-Benz \tC320 4dr \tSedan \tEurope \tAll \t$38,830  \t$36,162  \t3.2 \t6 \t215 \t19 \t27 \t3450 \t107 \t178 \tMercedes-Benz \tC32 AMG 4dr \tSedan \tEurope \tRear \t$52,120  \t$48,522  \t3.2 \t6 \t349 \t16 \t21 \t3540 \t107 \t178 \tMercedes-Benz \tCL500 2dr \tSedan \tEurope \tRear \t$94,820  \t$88,324  \t5 \t8 \t302 \t16 \t24 \t4085 \t114 \t196 \tMercedes-Benz \tCL600 2dr \tSedan \tEurope \tRear \t$128,420  \t$119,600  \t5.5 \t12 \t493 \t13 \t19 \t4473 \t114 \t196 \tMercedes-Benz \tCLK320 coupe 2dr (convertible) \tSedan \tEurope \tRear \t$45,707  \t$41,966  \t3.2 \t6 \t215 \t20 \t26 \t3770 \t107 \t183 \tMercedes-Benz \tCLK500 coupe 2dr (convertible) \tSedan \tEurope \tRear \t$52,800  \t$49,104  \t5 \t8 \t302 \t17 \t22 \t3585 \t107 \t183 \tMercedes-Benz \tE320 4dr \tSedan \tEurope \tRear \t$48,170  \t$44,849  \t3.2 \t6 \t221 \t19 \t27 \t3635 \t112 \t190 \tMercedes-Benz \tE500 4dr \tSedan \tEurope \tRear \t$57,270  \t$53,382  \t5 \t8 \t302 \t16 \t20 \t3815 \t112 \t190 \tMercedes-Benz \tS430 4dr \tSedan \tEurope \tRear \t$74,320  \t$69,168  \t4.3 \t8 \t275 \t18 \t26 \t4160 \t122 \t203 \tMercedes-Benz \tS500 4dr \tSedan \tEurope \tAll \t$86,970  \t$80,939  \t5 \t8 \t302 \t16 \t24 \t4390 \t122 \t203 \tMercedes-Benz \tSL500 convertible 2dr \tSports \tEurope \tRear \t$90,520  \t$84,325  \t5 \t8 \t302 \t16 \t23 \t4065 \t101 \t179 \tMercedes-Benz \tSL55 AMG 2dr \tSports \tEurope \tRear \t$121,770  \t$113,388  \t5.5 \t8 \t493 \t14 \t21 \t4235 \t101 \t179 \tMercedes-Benz \tSL600 convertible 2dr \tSports \tEurope \tRear \t$126,670  \t$117,854  \t5.5 \t12 \t493 \t13 \t19 \t4429 \t101 \t179 \tMercedes-Benz \tSLK230 convertible 2dr \tSports \tEurope \tRear \t$40,320  \t$37,548  \t2.3 \t4 \t192 \t21 \t29 \t3055 \t95 \t158 \tMercedes-Benz \tSLK32 AMG 2dr \tSports \tEurope \tRear \t$56,170  \t$52,289  \t3.2 \t6 \t349 \t17 \t22 \t3220 \t95 \t158 \tMercedes-Benz \tC240 \tWagon \tEurope \tRear \t$33,780  \t$31,466  \t2.6 \t6 \t168 \t19 \t25 \t3470 \t107 \t179 \tMercedes-Benz \tE320 \tWagon \tEurope \tRear \t$50,670  \t$47,174  \t3.2 \t6 \t221 \t19 \t27 \t3966 \t112 \t190 \tMercedes-Benz \tE500 \tWagon \tEurope \tAll \t$60,670  \t$56,474  \t5 \t8 \t302 \t16 \t24 \t4230 \t112 \t190 \tMercury \tMountaineer \tSUV \tUSA \tFront \t$29,995  \t$27,317  \t4 \t6 \t210 \t16 \t21 \t4374 \t114 \t190 \tMercury \tSable GS 4dr \tSedan \tUSA \tFront \t$21,595  \t$19,848  \t3 \t6 \t155 \t20 \t27 \t3308 \t109 \t200 \tMercury \tGrand Marquis GS 4dr \tSedan \tUSA \tRear \t$24,695  \t$23,217  \t4.6 \t8 \t224 \t17 \t25 \t4052 \t115 \t212 \tMercury \tGrand Marquis LS Premium 4dr \tSedan \tUSA \tRear \t$29,595  \t$27,148  \t4.6 \t8 \t224 \t17 \t25 \t4052 \t115 \t212 \tMercury \tSable LS Premium 4dr \tSedan \tUSA \tFront \t$23,895  \t$21,918  \t3 \t6 \t201 \t19 \t26 \t3315 \t109 \t200 \tMercury \tGrand Marquis LS Ultimate 4dr \tSedan \tUSA \tRear \t$30,895  \t$28,318  \t4.6 \t8 \t224 \t17 \t25 \t4052 \t115 \t212 \tMercury \tMarauder 4dr \tSedan \tUSA \tRear \t$34,495  \t$31,558  \t4.6 \t8 \t302 \t17 \t23 \t4195 \t115 \t212 \tMercury \tMonterey Luxury \tSedan \tUSA \tFront \t$33,995  \t$30,846  \t4.2 \t6 \t201 \t16 \t23 \t4340 \t121 \t202 \tMercury \tSable GS \tWagon \tUSA \tFront \t$22,595  \t$20,748  \t3 \t6 \t155 \t19 \t26 \t3488 \t109 \t198 \tMitsubishi \tEndeavor XLS \tSUV \tAsia \tAll \t$30,492  \t$28,330  \t3.8 \t6 \t215 \t17 \t21 \t4134 \t109 \t190 \tMitsubishi \tMontero XLS \tSUV \tAsia \tAll \t$33,112  \t$30,763  \t3.8 \t6 \t215 \t15 \t19 \t4718 \t110 \t190 \tMitsubishi \tOutlander LS \tSUV \tAsia \tFront \t$18,892  \t$17,569  \t2.4 \t4 \t160 \t21 \t27 \t3240 \t103 \t179 \tMitsubishi \tLancer ES 4dr \tSedan \tAsia \tFront \t$14,622  \t$13,751  \t2 \t4 \t120 \t25 \t31 \t2656 \t102 \t181 \tMitsubishi \tLancer LS 4dr \tSedan \tAsia \tFront \t$16,722  \t$15,718  \t2 \t4 \t120 \t25 \t31 \t2795 \t102 \t181 \tMitsubishi \tGalant ES 2.4L 4dr \tSedan \tAsia \tFront \t$19,312  \t$17,957  \t2.4 \t4 \t160 \t23 \t30 \t3351 \t108 \t191 \tMitsubishi \tLancer OZ Rally 4dr auto \tSedan \tAsia \tFront \t$17,232  \t$16,196  \t2 \t4 \t120 \t25 \t31 \t2744 \t102 \t181 \tMitsubishi \tDiamante LS 4dr \tSedan \tAsia \tFront \t$29,282  \t$27,250  \t3.5 \t6 \t205 \t18 \t25 \t3549 \t107 \t194 \tMitsubishi \tGalant GTS 4dr \tSedan \tAsia \tFront \t$25,700  \t$23,883  \t3.8 \t6 \t230 \t18 \t26 \t3649 \t108 \t191 \tMitsubishi \tEclipse GTS 2dr \tSports \tAsia \tFront \t$25,092  \t$23,456  \t3 \t6 \t210 \t21 \t28 \t3241 \t101 \t177 \tMitsubishi \tEclipse Spyder GT convertible 2dr \tSports \tAsia \tFront \t$26,992  \t$25,218  \t3 \t6 \t210 \t21 \t28 \t3296 \t101 \t177 \tMitsubishi \tLancer Evolution 4dr \tSports \tAsia \tFront \t$29,562  \t$27,466  \t2 \t4 \t271 \t18 \t26 \t3263 \t103 \t179 \tMitsubishi \tLancer Sportback LS \tWagon \tAsia \tFront \t$17,495  \t$16,295  \t2.4 \t4 \t160 \t25 \t31 \t3020 \t102 \t181 \tNissan \tPathfinder Armada SE \tSUV \tAsia \tFront \t$33,840  \t$30,815  \t5.6 \t8 \t305 \t13 \t19 \t5013 \t123 \t207 \tNissan \tPathfinder SE \tSUV \tAsia \tFront \t$27,339  \t$25,972  \t3.5 \t6 \t240 \t16 \t21 \t3871 \t106 \t183 \tNissan \tXterra XE V6 \tSUV \tAsia \tFront \t$20,939  \t$19,512  \t3.3 \t6 \t180 \t17 \t20 \t3760 \t104 \t178 \tNissan \tSentra 1.8 4dr \tSedan \tAsia \tFront \t$12,740  \t$12,205  \t1.8 \t4 \t126 \t28 \t35 \t2513 \t100 \t178 \tNissan \tSentra 1.8 S 4dr \tSedan \tAsia \tFront \t$14,740  \t$13,747  \t1.8 \t4 \t126 \t28 \t35 \t2581 \t100 \t178 \tNissan \tAltima S 4dr \tSedan \tAsia \tFront \t$19,240  \t$18,030  \t2.5 \t4 \t175 \t21 \t26 \t3039 \t110 \t192 \tNissan \tSentra SE-R 4dr \tSedan \tAsia \tFront \t$17,640  \t$16,444  \t2.5 \t4 \t165 \t23 \t28 \t2761 \t100 \t178 \tNissan \tAltima SE 4dr \tSedan \tAsia \tFront \t$23,290  \t$21,580  \t3.5 \t6 \t245 \t21 \t26 \t3197 \t110 \t192 \tNissan \tMaxima SE 4dr \tSedan \tAsia \tFront \t$27,490  \t$25,182  \t3.5 \t6 \t265 \t20 \t28 \t3473 \t111 \t194 \tNissan \tMaxima SL 4dr \tSedan \tAsia \tFront \t$29,440  \t$26,966  \t3.5 \t6 \t265 \t20 \t28 \t3476 \t111 \t194 \tNissan \tQuest S \tSedan \tAsia \tFront \t$24,780  \t$22,958  \t3.5 \t6 \t240 \t19 \t26 \t4012 \t124 \t204 \tNissan \tQuest SE \tSedan \tAsia \tFront \t$32,780  \t$30,019  \t3.5 \t6 \t240 \t18 \t25 \t4175 \t124 \t204 \tNissan \t350Z coupe 2dr \tSports \tAsia \tRear \t$26,910  \t$25,203  \t3.5 \t6 \t287 \t20 \t26 \t3188 \t104 \t169 \tNissan \t350Z Enthusiast convertible 2dr \tSports \tAsia \tRear \t$34,390  \t$31,845  \t3.5 \t6 \t287 \t20 \t26 \t3428 \t104 \t169 \tNissan \tFrontier King Cab XE V6 \tTruck \tAsia \tAll \t$19,479  \t$18,253  \t3.3 \t6 \t180 \t17 \t20 \t3932 \t116 \t191 \tNissan \tTitan King Cab XE \tTruck \tAsia \tAll \t$26,650  \t$24,926  \t5.6 \t8 \t305 \t14 \t18 \t5287 \t140 \t224 \tNissan \tMurano SL \tWagon \tAsia \tRear \t$28,739  \t$27,300  \t3.5 \t6 \t245 \t20 \t25 \t3801 \t111 \t188 \tOldsmobile \tAlero GX 2dr \tSedan \tUSA \tFront \t$18,825  \t$17,642  \t2.2 \t4 \t140 \t24 \t32 \t2946 \t107 \t187 \tOldsmobile \tAlero GLS 2dr \tSedan \tUSA \tFront \t$23,675  \t$21,485  \t3.4 \t6 \t170 \t20 \t29 \t3085 \t107 \t187 \tOldsmobile \tSilhouette GL \tSedan \tUSA \tFront \t$28,790  \t$26,120  \t3.4 \t6 \t185 \t19 \t26 \t3948 \t120 \t201 \tPontiac \tAztekt \tSUV \tUSA \tFront \t$21,595  \t$19,810  \t3.4 \t6 \t185 \t19 \t26 \t3779 \t108 \t182 \tPontiac \tSunfire 1SA 2dr \tSedan \tUSA \tFront \t$15,495  \t$14,375  \t2.2 \t4 \t140 \t24 \t33 \t2771 \t104 \t182 \tPontiac \tGrand Am GT 2dr \tSedan \tUSA \tFront \t$22,450  \t$20,595  \t3.4 \t6 \t175 \t20 \t29 \t3118 \t107 \t186 \tPontiac \tGrand Prix GT1 4dr \tSedan \tUSA \tFront \t$22,395  \t$20,545  \t3.8 \t6 \t200 \t20 \t30 \t3477 \t111 \t198 \tPontiac \tSunfire 1SC 2dr \tSedan \tUSA \tFront \t$17,735  \t$16,369  \t2.2 \t4 \t140 \t24 \t33 \t2771 \t104 \t182 \tPontiac \tGrand Prix GT2 4dr \tSedan \tUSA \tFront \t$24,295  \t$22,284  \t3.8 \t6 \t200 \t20 \t30 \t3484 \t111 \t198 \tPontiac \tBonneville GXP 4dr \tSedan \tUSA \tFront \t$35,995  \t$32,997  \t4.6 \t8 \t275 \t17 \t20 \t3790 \t112 \t203 \tPontiac \tMontana \tSedan \tUSA \tFront \t$23,845  \t$21,644  \t3.4 \t6 \t185 \t19 \t26 \t3803 \t112 \t187 \tPontiac \tMontana EWB \tSedan \tUSA \tAll \t$31,370  \t$28,454  \t3.4 \t6 \t185 \t18 \t24 \t4431 \t121 \t201 \tPontiac \tGTO 2dr \tSports \tUSA \tRear \t$33,500  \t$30,710  \t5.7 \t8 \t340 \t16 \t20 \t3725 \t110 \t190 \tPontiac \tVibe \tWagon \tUSA \tRear \t$17,045  \t$15,973  \t1.8 \t4 \t130 \t29 \t36 \t2701 \t102 \t172 \tPorsche \tCayenne S \tSUV \tEurope \tAll \t$56,665  \t$49,865  \t4.5 \t8 \t340 \t14 \t18 \t4950 \t112 \t188 \tPorsche \t911 Carrera convertible 2dr (coupe) \tSports \tEurope \tRear \t$79,165  \t$69,229  \t3.6 \t6 \t315 \t18 \t26 \t3135 \t93 \t175 \tPorsche \t911 Carrera 4S coupe 2dr (convert) \tSports \tEurope \tAll \t$84,165  \t$72,206  \t3.6 \t6 \t315 \t17 \t24 \t3240 \t93 \t175 \tPorsche \t911 Targa coupe 2dr \tSports \tEurope \tRear \t$76,765  \t$67,128  \t3.6 \t6 \t315 \t18 \t26 \t3119 \t93 \t175 \tPorsche \t911 GT2 2dr \tSports \tEurope \tRear \t$192,465  \t$173,560  \t3.6 \t6 \t477 \t17 \t24 \t3131 \t93 \t175 \tPorsche \tBoxster convertible 2dr \tSports \tEurope \tRear \t$43,365  \t$37,886  \t2.7 \t6 \t228 \t20 \t29 \t2811 \t95 \t170 \tPorsche \tBoxster S convertible 2dr \tSports \tEurope \tRear \t$52,365  \t$45,766  \t3.2 \t6 \t258 \t18 \t26 \t2911 \t95 \t170 \tSaab \t9-3 Arc Sport 4dr \tSedan \tEurope \tFront \t$30,860  \t$29,269  \t2 \t4 \t210 \t20 \t28 \t3175 \t105 \t183 \tSaab \t9-3 Aero 4dr \tSedan \tEurope \tFront \t$33,360  \t$31,562  \t2 \t4 \t210 \t20 \t28 \t3175 \t105 \t183 \tSaab \t9-5 Arc 4dr \tSedan \tEurope \tFront \t$35,105  \t$33,011  \t2.3 \t4 \t220 \t21 \t29 \t3470 \t106 \t190 \tSaab \t9-5 Aero 4dr \tSedan \tEurope \tFront \t$39,465  \t$37,721  \t2.3 \t4 \t250 \t21 \t29 \t3470 \t106 \t190 \tSaab \t9-3 Arc convertible 2dr \tSedan \tEurope \tFront \t$40,670  \t$38,520  \t2 \t4 \t210 \t21 \t29 \t3480 \t105 \t182 \tSaab \t9-3 Aero convertible 2dr \tSedan \tEurope \tFront \t$43,175  \t$40,883  \t2 \t4 \t210 \t21 \t30 \t3700 \t105 \t182 \tSaab \t9-5 Aero \tWagon \tEurope \tFront \t$40,845  \t$38,376  \t2.3 \t4 \t250 \t19 \t29 \t3620 \t106 \t190 \tSaturn \tVUE \tSUV \tUSA \tAll \t$20,585  \t$19,238  \t2.2 \t4 \t143 \t21 \t26 \t3381 \t107 \t181 \tSaturn \tIon1 4dr \tSedan \tUSA \tFront \t$10,995  \t$10,319  \t2.2 \t4 \t140 \t26 \t35 \t2692 \t103 \t185 \tSaturn \tlon2 4dr \tSedan \tUSA \tFront \t$14,300  \t$13,393  \t2.2 \t4 \t140 \t26 \t35 \t2692 \t103 \t185 \tSaturn \tlon3 4dr \tSedan \tUSA \tFront \t$15,825  \t$14,811  \t2.2 \t4 \t140 \t26 \t35 \t2692 \t103 \t185 \tSaturn \tlon2 quad coupe 2dr \tSedan \tUSA \tFront \t$14,850  \t$13,904  \t2.2 \t4 \t140 \t26 \t35 \t2751 \t103 \t185 \tSaturn \tlon3 quad coupe 2dr \tSedan \tUSA \tFront \t$16,350  \t$15,299  \t2.2 \t4 \t140 \t26 \t35 \t2751 \t103 \t185 \tSaturn \tL300-2 4dr \tSedan \tUSA \tFront \t$21,410  \t$19,801  \t3 \t6 \t182 \t20 \t28 \t3197 \t107 \t190 \tSaturn \tL300 2 \tWagon \tUSA \tFront \t$23,560  \t$21,779  \t2.2 \t4 \t140 \t24 \t34 \t3109 \t107 \t190 \tScion \txA 4dr hatch \tSedan \tAsia \tFront \t$12,965  \t$12,340  \t1.5 \t4 \t108 \t32 \t38 \t2340 \t93 \t154 \tScion \txB \tWagon \tAsia \tFront \t$14,165  \t$13,480  \t1.5 \t4 \t108 \t31 \t35 \t2425 \t98 \t155 \tSubaru \tImpreza 2.5 RS 4dr \tSedan \tAsia \tAll \t$19,945  \t$18,399  \t2.5 \t4 \t165 \t22 \t28 \t2965 \t99 \t174 \tSubaru \tLegacy L 4dr \tSedan \tAsia \tAll \t$20,445  \t$18,713  \t2.5 \t4 \t165 \t21 \t28 \t3285 \t104 \t184 \tSubaru \tLegacy GT 4dr \tSedan \tAsia \tAll \t$25,645  \t$23,336  \t2.5 \t4 \t165 \t21 \t28 \t3395 \t104 \t184 \tSubaru \tOutback Limited Sedan 4dr \tSedan \tAsia \tAll \t$27,145  \t$24,687  \t2.5 \t4 \t165 \t20 \t27 \t3495 \t104 \t184 \tSubaru \tOutback H6 4dr \tSedan \tAsia \tAll \t$29,345  \t$26,660  \t3 \t6 \t212 \t19 \t26 \t3610 \t104 \t184 \tSubaru \tOutback H-6 VDC 4dr \tSedan \tAsia \tAll \t$31,545  \t$28,603  \t3 \t6 \t212 \t19 \t26 \t3630 \t104 \t184 \tSubaru \tImpreza WRX 4dr \tSports \tAsia \tAll \t$25,045  \t$23,022  \t2 \t4 \t227 \t20 \t27 \t3085 \t99 \t174 \tSubaru \tImpreza WRX STi 4dr \tSports \tAsia \tAll \t$31,545  \t$29,130  \t2.5 \t4 \t300 \t18 \t24 \t3263 \t100 \t174 \tSubaru \tBaja \tTruck \tAsia \tAll \t$24,520  \t$22,304  \t2.5 \t4 \t165 \t21 \t28 \t3485 \t104 \t193 \tSubaru \tForester X \tWagon \tAsia \tAll \t$21,445  \t$19,646  \t2.5 \t4 \t165 \t21 \t28 \t3090 \t99 \t175 \tSubaru \tOutback \tWagon \tAsia \tAll \t$23,895  \t$21,773  \t2.5 \t4 \t165 \t21 \t28 \t3430 \t104 \t187 \tSuzuki \tXL-7 EX \tSUV \tAsia \tFront \t$23,699  \t$22,307  \t2.7 \t6 \t185 \t18 \t22 \t3682 \t110 \t187 \tSuzuki \tVitara LX \tSUV \tAsia \tAll \t$17,163  \t$16,949  \t2.5 \t6 \t165 \t19 \t22 \t3020 \t98 \t163 \tSuzuki \tAeno S 4dr \tSedan \tAsia \tFront \t$12,884  \t$12,719  \t2.3 \t4 \t155 \t25 \t31 \t2676 \t98 \t171 \tSuzuki \tAerio LX 4dr \tSedan \tAsia \tFront \t$14,500  \t$14,317  \t2.3 \t4 \t155 \t25 \t31 \t2676 \t98 \t171 \tSuzuki \tForenza S 4dr \tSedan \tAsia \tFront \t$12,269  \t$12,116  \t2 \t4 \t119 \t24 \t31 \t2701 \t102 \t177 \tSuzuki \tForenza EX 4dr \tSedan \tAsia \tFront \t$15,568  \t$15,378  \t2 \t4 \t119 \t22 \t30 \t2756 \t102 \t177 \tSuzuki \tVerona LX 4dr \tSedan \tAsia \tFront \t$17,262  \t$17,053  \t2.5 \t6 \t155 \t20 \t27 \t3380 \t106 \t188 \tSuzuki \tAerio SX \tWagon \tAsia \tAll \t$16,497  \t$16,291  \t2.3 \t4 \t155 \t24 \t29 \t2932 \t98 \t167 \tToyota \tPrius 4dr (gas/electric) \tHybrid \tAsia \tFront \t$20,510  \t$18,926  \t1.5 \t4 \t110 \t59 \t51 \t2890 \t106 \t175 \tToyota \tSequoia SR5 \tSUV \tAsia \tAll \t$35,695  \t$31,827  \t4.7 \t8 \t240 \t14 \t17 \t5270 \t118 \t204 \tToyota \t4Runner SR5 V6 \tSUV \tAsia \tFront \t$27,710  \t$24,801  \t4 \t6 \t245 \t18 \t21 \t4035 \t110 \t189 \tToyota \tHighlander V6 \tSUV \tAsia \tAll \t$27,930  \t$24,915  \t3.3 \t6 \t230 \t18 \t24 \t3935 \t107 \t185 \tToyota \tLand Cruiser \tSUV \tAsia \tAll \t$54,765  \t$47,986  \t4.7 \t8 \t325 \t13 \t17 \t5390 \t112 \t193 \tToyota \tRAV4 \tSUV \tAsia \tAll \t$20,290  \t$18,553  \t2.4 \t4 \t161 \t22 \t27 \t3119 \t98 \t167 \tToyota \tCorolla CE 4dr \tSedan \tAsia \tFront \t$14,085  \t$13,065  \t1.8 \t4 \t130 \t32 \t40 \t2502 \t102 \t178 \tToyota \tCorolla S 4dr \tSedan \tAsia \tFront \t$15,030  \t$13,650  \t1.8 \t4 \t130 \t32 \t40 \t2524 \t102 \t178 \tToyota \tCorolla LE 4dr \tSedan \tAsia \tFront \t$15,295  \t$13,889  \t1.8 \t4 \t130 \t32 \t40 \t2524 \t102 \t178 \tToyota \tEcho 2dr manual \tSedan \tAsia \tFront \t$10,760  \t$10,144  \t1.5 \t4 \t108 \t35 \t43 \t2035 \t93 \t163 \tToyota \tEcho 2dr auto \tSedan \tAsia \tFront \t$11,560  \t$10,896  \t1.5 \t4 \t108 \t33 \t39 \t2085 \t93 \t163 \tToyota \tEcho 4dr \tSedan \tAsia \tFront \t$11,290  \t$10,642  \t1.5 \t4 \t108 \t35 \t43 \t2055 \t93 \t163 \tToyota \tCamry LE 4dr \tSedan \tAsia \tFront \t$19,560  \t$17,558  \t2.4 \t4 \t157 \t24 \t33 \t3086 \t107 \t189 \tToyota \tCamry LE V6 4dr \tSedan \tAsia \tFront \t$22,775  \t$20,325  \t3 \t6 \t210 \t21 \t29 \t3296 \t107 \t189 \tToyota \tCamry Solara SE 2dr \tSedan \tAsia \tFront \t$19,635  \t$17,722  \t2.4 \t4 \t157 \t24 \t33 \t3175 \t107 \t193 \tToyota \tCamry Solara SE V6 2dr \tSedan \tAsia \tFront \t$21,965  \t$19,819  \t3.3 \t6 \t225 \t20 \t29 \t3417 \t107 \t193 \tToyota \tAvalon XL 4dr \tSedan \tAsia \tFront \t$26,560  \t$23,693  \t3 \t6 \t210 \t21 \t29 \t3417 \t107 \t192 \tToyota \tCamry XLE V6 4dr \tSedan \tAsia \tFront \t$25,920  \t$23,125  \t3 \t6 \t210 \t21 \t29 \t3362 \t107 \t189 \tToyota \tCamry Solara SLE V6 2dr \tSedan \tAsia \tFront \t$26,510  \t$23,908  \t3.3 \t6 \t225 \t20 \t29 \t3439 \t107 \t193 \tToyota \tAvalon XLS 4dr \tSedan \tAsia \tFront \t$30,920  \t$27,271  \t3 \t6 \t210 \t21 \t29 \t3439 \t107 \t192 \tToyota \tSienna CE \tSedan \tAsia \tFront \t$23,495  \t$21,198  \t3.3 \t6 \t230 \t19 \t27 \t4120 \t119 \t200 \tToyota \tSienna XLE Limited \tSedan \tAsia \tFront \t$28,800  \t$25,690  \t3.3 \t6 \t230 \t19 \t27 \t4165 \t119 \t200 \tToyota \tCelica GT-S 2dr \tSports \tAsia \tFront \t$22,570  \t$20,363  \t1.8 \t4 \t180 \t24 \t33 \t2500 \t102 \t171 \tToyota \tMR2 Spyder convertible 2dr \tSports \tAsia \tRear \t$25,130  \t$22,787  \t1.8 \t4 \t138 \t26 \t32 \t2195 \t97 \t153 \tToyota \tTacoma \tTruck \tAsia \tRear \t$12,800  \t$11,879  \t2.4 \t4 \t142 \t22 \t27 \t2750 \t103 \t191 \tToyota \tTundra Regular Cab V6 \tTruck \tAsia \tRear \t$16,495  \t$14,978  \t3.4 \t6 \t190 \t16 \t18 \t3925 \t128 \t218 \tToyota \tTundra Access Cab V6 SR5 \tTruck \tAsia \tAll \t$25,935  \t$23,520  \t3.4 \t6 \t190 \t14 \t17 \t4435 \t128 \t218 \tToyota \tMatrix XR \tWagon \tAsia \tFront \t$16,695  \t$15,156  \t1.8 \t4 \t130 \t29 \t36 \t2679 \t102 \t171 \tVolkswagen \tTouareg V6 \tSUV \tEurope \tAll \t$35,515  \t$32,243  \t3.2 \t6 \t220 \t15 \t20 \t5086 \t112 \t187 \tVolkswagen \tGolf GLS 4dr \tSedan \tEurope \tFront \t$18,715  \t$17,478  \t2 \t4 \t115 \t24 \t31 \t2897 \t99 \t165 \tVolkswagen \tGTI 1.8T 2dr hatch \tSedan \tEurope \tFront \t$19,825  \t$18,109  \t1.8 \t4 \t180 \t24 \t31 \t2934 \t99 \t168 \tVolkswagen \tJetta GLS TDI 4dr \tSedan \tEurope \tFront \t$21,055  \t$19,638  \t1.9 \t4 \t100 \t38 \t46 \t3003 \t99 \t172 \tVolkswagen \tNew Beetle GLS 1.8T 2dr \tSedan \tEurope \tFront \t$21,055  \t$19,638  \t1.8 \t4 \t150 \t24 \t31 \t2820 \t99 \t161 \tVolkswagen \tJetta GLI VR6 4dr \tSedan \tEurope \tFront \t$23,785  \t$21,686  \t2.8 \t6 \t200 \t21 \t30 \t3179 \t99 \t172 \tVolkswagen \tNew Beetle GLS convertible 2dr \tSedan \tEurope \tFront \t$23,215  \t$21,689  \t2 \t4 \t115 \t24 \t30 \t3082 \t99 \t161 \tVolkswagen \tPassat GLS 4dr \tSedan \tEurope \tFront \t$23,955  \t$21,898  \t1.8 \t4 \t170 \t22 \t31 \t3241 \t106 \t185 \tVolkswagen \tPassat GLX V6 4MOTION 4dr \tSedan \tEurope \tFront \t$33,180  \t$30,583  \t2.8 \t6 \t190 \t19 \t26 \t3721 \t106 \t185 \tVolkswagen \tPassat W8 4MOTION 4dr \tSedan \tEurope \tFront \t$39,235  \t$36,052  \t4 \t8 \t270 \t18 \t25 \t3953 \t106 \t185 \tVolkswagen \tPhaeton 4dr \tSedan \tEurope \tFront \t$65,000  \t$59,912  \t4.2 \t8 \t335 \t16 \t22 \t5194 \t118 \t204 \tVolkswagen \tPhaeton W12 4dr \tSedan \tEurope \tFront \t$75,000  \t$69,130  \t6 \t12 \t420 \t12 \t19 \t5399 \t118 \t204 \tVolkswagen \tJetta GL \tWagon \tEurope \tFront \t$19,005  \t$17,427  \t2 \t4 \t115 \t24 \t30 \t3034 \t99 \t174 \tVolkswagen \tPassat GLS 1.8T \tWagon \tEurope \tFront \t$24,955  \t$22,801  \t1.8 \t4 \t170 \t22 \t31 \t3338 \t106 \t184 \tVolkswagen \tPassat W8 \tWagon \tEurope \tFront \t$40,235  \t$36,956  \t4 \t8 \t270 \t18 \t25 \t4067 \t106 \t184 \tVolvo \tXC90 T6 \tSUV \tEurope \tAll \t$41,250  \t$38,851  \t2.9 \t6 \t268 \t15 \t20 \t4638 \t113 \t189 \tVolvo \tS40 4dr \tSedan \tEurope \tFront \t$25,135  \t$23,701  \t1.9 \t4 \t170 \t22 \t29 \t2767 \t101 \t178 \tVolvo \tS60 2.5 4dr \tSedan \tEurope \tAll \t$31,745  \t$29,916  \t2.5 \t5 \t208 \t20 \t27 \t3903 \t107 \t180 \tVolvo \tS60 T5 4dr \tSedan \tEurope \tFront \t$34,845  \t$32,902  \t2.3 \t5 \t247 \t20 \t28 \t3766 \t107 \t180 \tVolvo \tS60 R 4dr \tSedan \tEurope \tAll \t$37,560  \t$35,382  \t2.5 \t5 \t300 \t18 \t25 \t3571 \t107 \t181 \tVolvo \tS80 2.9 4dr \tSedan \tEurope \tFront \t$37,730  \t$35,542  \t2.9 \t6 \t208 \t20 \t28 \t3576 \t110 \t190 \tVolvo \tS80 2.5T 4dr \tSedan \tEurope \tAll \t$37,885  \t$35,688  \t2.5 \t5 \t194 \t20 \t27 \t3691 \t110 \t190 \tVolvo \tC70 LPT convertible 2dr \tSedan \tEurope \tFront \t$40,565  \t$38,203  \t2.4 \t5 \t197 \t21 \t28 \t3450 \t105 \t186 \tVolvo \tC70 HPT convertible 2dr \tSedan \tEurope \tFront \t$42,565  \t$40,083  \t2.3 \t5 \t242 \t20 \t26 \t3450 \t105 \t186 \tVolvo \tS80 T6 4dr \tSedan \tEurope \tFront \t$45,210  \t$42,573  \t2.9 \t6 \t268 \t19 \t26 \t3653 \t110 \t190 \tVolvo \tV40 \tWagon \tEurope \tFront \t$26,135  \t$24,641  \t1.9 \t4 \t170 \t22 \t29 \t2822 \t101 \t180 \tVolvo \tXC70 \tWagon \tEurope \tAll \t$35,145  \t$33,112  \t2.5 \t5 \t208 \t20 \t27 \t3823 \t109 \t186 \t"
     ]
    }
   ],
   "source": [
    "import csv\n",
    "with open(r\"C:\\Users\\2329805\\Downloads\\cars_data.csv\") as file:\n",
    "    data=list(csv.reader(file))\n",
    "    # print(data)\n",
    "    for line in data:\n",
    "      for word in line:\n",
    "          print(word,\"\\t\",end=\"\")"
   ]
  },
  {
   "cell_type": "code",
   "execution_count": 316,
   "id": "4fa3d854-c4d9-4189-a08f-8418bc41c547",
   "metadata": {},
   "outputs": [
    {
     "name": "stdout",
     "output_type": "stream",
     "text": [
      "C:\\Users\\2329805\n"
     ]
    }
   ],
   "source": [
    "import os\n",
    "cwd=os.getcwd()\n",
    "print(cwd)"
   ]
  },
  {
   "cell_type": "code",
   "execution_count": 317,
   "id": "517457ba-4965-4e5d-92b7-02ebc1b4223d",
   "metadata": {},
   "outputs": [
    {
     "name": "stdout",
     "output_type": "stream",
     "text": [
      "['.cisco', '.ipynb_checkpoints', '.ipython', '.jupyter', '.ms-ad', '.vscode', '140+ python_interview.ipynb', 'AppData', 'Application Data', 'cars_data.ipynb', 'Contacts', 'Cookies', 'DataFrame.ipynb', 'Documents', 'Downloads', 'Favorites', 'interview_code.ipynb', 'Links', 'Local Settings', 'Music', 'My Documents', 'NetHood', 'NTUSER.DAT', 'ntuser.dat.LOG1', 'ntuser.dat.LOG2', 'NTUSER.DAT{634ade37-8666-11ee-af10-e02e0ba976b1}.TM.blf', 'NTUSER.DAT{634ade37-8666-11ee-af10-e02e0ba976b1}.TMContainer00000000000000000001.regtrans-ms', 'NTUSER.DAT{634ade37-8666-11ee-af10-e02e0ba976b1}.TMContainer00000000000000000002.regtrans-ms', 'ntuser.ini', 'OneDrive - Cognizant', 'pandas', 'PANDAS.ipynb', 'PANDAS_DataSeries.ipynb', 'prac.ipynb', 'PrintHood', 'Pyspark.ipynb', 'python_interview.ipynb', 'Recent', 'Saved Games', 'Searches', 'SendTo', 'software_school_pandas.ipynb', 'software_school_python_interview.ipynb', 'Start Menu', 'string.ipynb', 'Templates', 'Untitled.ipynb', 'Untitled1.ipynb', 'Untitled10.ipynb', 'Untitled11.ipynb', 'Untitled12.ipynb', 'Untitled13.ipynb', 'Untitled14.ipynb', 'Untitled15.ipynb', 'Untitled2.ipynb', 'Untitled3.ipynb', 'Untitled4.ipynb', 'Untitled5.ipynb', 'Untitled6.ipynb', 'Untitled7.ipynb', 'Untitled8.ipynb', 'Untitled9.ipynb', 'Videos']\n"
     ]
    }
   ],
   "source": [
    "import os\n",
    "print(os.listdir(\".\"))"
   ]
  },
  {
   "cell_type": "code",
   "execution_count": null,
   "id": "3cf830b2-a5bb-423a-9c54-e539165641b2",
   "metadata": {},
   "outputs": [],
   "source": []
  }
 ],
 "metadata": {
  "kernelspec": {
   "display_name": "Python 3 (ipykernel)",
   "language": "python",
   "name": "python3"
  },
  "language_info": {
   "codemirror_mode": {
    "name": "ipython",
    "version": 3
   },
   "file_extension": ".py",
   "mimetype": "text/x-python",
   "name": "python",
   "nbconvert_exporter": "python",
   "pygments_lexer": "ipython3",
   "version": "3.10.9"
  },
  "widgets": {
   "application/vnd.jupyter.widget-state+json": {
    "state": {},
    "version_major": 2,
    "version_minor": 0
   }
  }
 },
 "nbformat": 4,
 "nbformat_minor": 5
}
