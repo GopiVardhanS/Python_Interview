{
 "cells": [
  {
   "cell_type": "code",
   "execution_count": 1,
   "id": "9d413d28-6dfe-4166-9bbe-ee7ddaa11cb2",
   "metadata": {},
   "outputs": [
    {
     "name": "stdout",
     "output_type": "stream",
     "text": [
      "Hi\n"
     ]
    }
   ],
   "source": [
    "print(\"Hi\")"
   ]
  },
  {
   "cell_type": "code",
   "execution_count": 7,
   "id": "654276f9-584d-4951-bce4-20a8c95e9800",
   "metadata": {},
   "outputs": [
    {
     "name": "stdout",
     "output_type": "stream",
     "text": [
      "3 6\n",
      "4 5\n",
      "6 3\n",
      "5 4\n"
     ]
    }
   ],
   "source": [
    "data=[3,4,6,5,2,1]\n",
    "sum=9\n",
    "for n1 in data:\n",
    "    for n2 in data:\n",
    "       if n1+n2==sum:\n",
    "             print(n1,n2)\n",
    "            #print(data.index(n1),data.index(n2))"
   ]
  },
  {
   "cell_type": "code",
   "execution_count": 3,
   "id": "7dc96685-e98c-48fa-8941-260f0eda0370",
   "metadata": {},
   "outputs": [
    {
     "name": "stdout",
     "output_type": "stream",
     "text": [
      "4 5\n",
      "5 4\n"
     ]
    }
   ],
   "source": [
    "data=[3,4,6,5,2,1]\n",
    "sum=3\n",
    "op=[]\n",
    "for n1 in data:\n",
    "    for n2 in data:\n",
    "        if n1+n2==sum:\n",
    "          print(data.index(n1),data.index(n2))\n",
    "\n",
    "        "
   ]
  },
  {
   "cell_type": "markdown",
   "id": "c6fe9484-756b-412c-b56b-79f5de1adfd4",
   "metadata": {},
   "source": [
    "# 2"
   ]
  },
  {
   "cell_type": "code",
   "execution_count": 1,
   "id": "bdf67673-24e8-4914-86ce-76f3bb4c46f3",
   "metadata": {},
   "outputs": [
    {
     "name": "stdout",
     "output_type": "stream",
     "text": [
      "[2, 0, 4, 2, 1, 1, 1]\n"
     ]
    }
   ],
   "source": [
    "data=[1,2,1,0,1,4,2]\n",
    "for n in data:\n",
    "    if n==1:\n",
    "        data.remove(n)\n",
    "        data.append(n)\n",
    "print(data)        "
   ]
  },
  {
   "cell_type": "code",
   "execution_count": 2,
   "id": "1c928aa2-46c3-48d4-9948-91481869be91",
   "metadata": {},
   "outputs": [
    {
     "data": {
      "text/plain": [
       "[2, 0, 4, 2, 1, 1, 1]"
      ]
     },
     "execution_count": 2,
     "metadata": {},
     "output_type": "execute_result"
    }
   ],
   "source": [
    "[i for i in data if i !=1]+[i for i in data if i ==1]"
   ]
  },
  {
   "cell_type": "markdown",
   "id": "57a72640-6fc6-4e3b-8f2b-f837f18f90f1",
   "metadata": {},
   "source": [
    "# method2"
   ]
  },
  {
   "cell_type": "code",
   "execution_count": 28,
   "id": "fb42b332-acd8-48f7-b75a-6147b695551e",
   "metadata": {},
   "outputs": [
    {
     "ename": "NameError",
     "evalue": "name 'data' is not defined",
     "output_type": "error",
     "traceback": [
      "\u001b[1;31m---------------------------------------------------------------------------\u001b[0m",
      "\u001b[1;31mNameError\u001b[0m                                 Traceback (most recent call last)",
      "Cell \u001b[1;32mIn[28], line 3\u001b[0m\n\u001b[0;32m      1\u001b[0m op1\u001b[38;5;241m=\u001b[39m[]\n\u001b[0;32m      2\u001b[0m op2\u001b[38;5;241m=\u001b[39m[]\n\u001b[1;32m----> 3\u001b[0m \u001b[38;5;28;01mfor\u001b[39;00m i \u001b[38;5;129;01min\u001b[39;00m \u001b[43mdata\u001b[49m:\n\u001b[0;32m      4\u001b[0m     \u001b[38;5;28;01mif\u001b[39;00m i\u001b[38;5;241m!=\u001b[39m\u001b[38;5;241m1\u001b[39m:\n\u001b[0;32m      5\u001b[0m         op1\u001b[38;5;241m.\u001b[39mappend(i)\n",
      "\u001b[1;31mNameError\u001b[0m: name 'data' is not defined"
     ]
    }
   ],
   "source": [
    "op1=[]\n",
    "op2=[]\n",
    "for i in data:\n",
    "    if i!=1:\n",
    "        op1.append(i)\n",
    "    else:\n",
    "        op2.append(i)\n",
    "print(op1)   \n",
    "print(op2)\n",
    "op1.extend(op2)\n",
    "print(op1)"
   ]
  },
  {
   "cell_type": "markdown",
   "id": "2d0db9cb-80cc-4a8c-a1b8-a5d29f353497",
   "metadata": {},
   "source": [
    "# how to check number is prime or not"
   ]
  },
  {
   "cell_type": "code",
   "execution_count": 4,
   "id": "894ccd43-72ef-4c2a-96ea-f55c46d9c5ea",
   "metadata": {},
   "outputs": [
    {
     "name": "stdout",
     "output_type": "stream",
     "text": [
      "7 number is prime\n"
     ]
    }
   ],
   "source": [
    "n=7\n",
    "# 7%1=0,7%7=0\n",
    "for i in range(2,n):\n",
    "    if n%i==0:\n",
    "        break\n",
    "else:\n",
    "    print(n,\"number is prime\")\n",
    "        "
   ]
  },
  {
   "cell_type": "markdown",
   "id": "c1409d3f-aa07-49f4-8ad1-f894296bcceb",
   "metadata": {},
   "source": [
    "# prime all prime numbers below 100"
   ]
  },
  {
   "cell_type": "code",
   "execution_count": 15,
   "id": "82473bfd-c7a5-43c8-990a-5d303b41c253",
   "metadata": {},
   "outputs": [
    {
     "name": "stdout",
     "output_type": "stream",
     "text": [
      "[1, 2, 3, 5, 7, 11, 13, 17, 19, 23, 29, 31, 37, 41, 43, 47, 53, 59, 61, 67, 71, 73, 79, 83, 89, 97]\n"
     ]
    }
   ],
   "source": [
    "def is_prime(num):\n",
    "    for i in range(2,num):\n",
    "        if num%i==0:\n",
    "            return False\n",
    "       \n",
    "    else:\n",
    "         return True\n",
    "prime_numbers=filter(is_prime,range(1,100))\n",
    "print(list(prime_numbers))\n",
    "            "
   ]
  },
  {
   "cell_type": "markdown",
   "id": "849f2590-b272-459d-b77f-1750b0f821cf",
   "metadata": {},
   "source": [
    "# find all max length words or same length words in list"
   ]
  },
  {
   "cell_type": "code",
   "execution_count": 7,
   "id": "d5556c38-1741-4c72-a93a-e3701ffd2052",
   "metadata": {},
   "outputs": [
    {
     "name": "stdout",
     "output_type": "stream",
     "text": [
      "Javascript\n",
      "['Javascript', 'Springboot']\n"
     ]
    }
   ],
   "source": [
    "data=[\"Javascript\", \"Java\", \"Python\" ,\"Springboot\"]\n",
    "print(max(data,key=len))\n",
    "max_length=len(max(data,key=len))\n",
    "# print(max_length)\n",
    "op=[]\n",
    "for word in data:\n",
    "    if len(word)==max_length:\n",
    "        op.append(word)\n",
    "print(op)        \n"
   ]
  },
  {
   "cell_type": "code",
   "execution_count": 14,
   "id": "65bd3cee-bcfa-4dcc-923e-31a21be322f2",
   "metadata": {},
   "outputs": [
    {
     "name": "stdout",
     "output_type": "stream",
     "text": [
      "['Javascript', 'Springboot']\n"
     ]
    }
   ],
   "source": [
    "data=[\"Javascript\", \"Java\", \"Python\" ,\"Springboot\"]\n",
    "# print(max(data,key=len))\n",
    "max_length=len(max(data,key=len))\n",
    "op=list(filter(lambda word:len(word)==max_length,data))\n",
    "print(op)"
   ]
  },
  {
   "cell_type": "code",
   "execution_count": 13,
   "id": "c619971e-17c7-4b95-aceb-de1ecd5bfa84",
   "metadata": {},
   "outputs": [
    {
     "name": "stdout",
     "output_type": "stream",
     "text": [
      "['window', 'python', 'filter']\n"
     ]
    }
   ],
   "source": [
    "# List of words\n",
    "words = ['cat', 'window', 'defenestrate', 'python', 'list', 'filter']\n",
    "\n",
    "# Choose a reference word\n",
    "reference_word = 'filter'\n",
    "# max_length=len(max(words,key=len))\n",
    "\n",
    "# Use filter to get words of the same length as the reference word\n",
    "same_length_words = list(filter(lambda word: len(word) == len(reference_word), words))\n",
    "\n",
    "print(same_length_words)"
   ]
  },
  {
   "cell_type": "markdown",
   "id": "846da367-9f08-43bb-ac91-99a019bcd39e",
   "metadata": {},
   "source": [
    "# print alternate items in list"
   ]
  },
  {
   "cell_type": "code",
   "execution_count": 6,
   "id": "4c055925-0299-463f-94ab-e38cc17b0916",
   "metadata": {},
   "outputs": [
    {
     "name": "stdout",
     "output_type": "stream",
     "text": [
      "[1, 3, 5, 7, 9]\n"
     ]
    },
    {
     "data": {
      "text/plain": [
       "[2, 4, 6, 8, 10]"
      ]
     },
     "execution_count": 6,
     "metadata": {},
     "output_type": "execute_result"
    }
   ],
   "source": [
    "nums = [1, 2, 3, 4, 5, 6, 7, 8, 9, 10]\n",
    "print(nums[0::2])\n",
    "nums[1::2]"
   ]
  },
  {
   "cell_type": "markdown",
   "id": "304c3e47-09fd-440d-b688-9c07593d8105",
   "metadata": {},
   "source": [
    "# print last of every name of list"
   ]
  },
  {
   "cell_type": "code",
   "execution_count": 11,
   "id": "07bf7e76-9c74-4d7b-a38d-ab3db4b41530",
   "metadata": {},
   "outputs": [
    {
     "name": "stdout",
     "output_type": "stream",
     "text": [
      "['Kalam', 'Jobs', 'Gates', 'Tata']\n"
     ]
    }
   ],
   "source": [
    "# print last of every name of list\n",
    "names = [\"A. P. J. Abdul Kalam\",\"Steven Paul Jobs\",\"Bill Gates\", \"Ratan Naval Tata\" ]\n",
    "op=[]\n",
    "for name in names:\n",
    "    last_name=name.split(\" \")[-1]\n",
    "    op.append(last_name)\n",
    "print(op)    \n"
   ]
  },
  {
   "cell_type": "markdown",
   "id": "ffcf7208-5ff3-4e1a-a135-0a026fe04898",
   "metadata": {},
   "source": [
    "# intervie"
   ]
  },
  {
   "cell_type": "code",
   "execution_count": 21,
   "id": "e13000b1-44f4-45d8-9a36-8f038f2ea3de",
   "metadata": {},
   "outputs": [
    {
     "name": "stdout",
     "output_type": "stream",
     "text": [
      "Please Like The Video\n"
     ]
    }
   ],
   "source": [
    "data = \"oediv eht ekil esaelp\"\n",
    "print(data[::-1].title())"
   ]
  },
  {
   "cell_type": "code",
   "execution_count": 2,
   "id": "ccf79915-6c57-4269-a20e-5e714043b8c3",
   "metadata": {},
   "outputs": [
    {
     "name": "stdout",
     "output_type": "stream",
     "text": [
      "['Video', 'The', 'Like', 'Please']\n"
     ]
    }
   ],
   "source": [
    "data = \"oediv eht ekil esaelp\".split(\" \")\n",
    "op=[]\n",
    "for word in data:\n",
    "    op.append(word[::-1].title())\n",
    "print(op)    \n"
   ]
  },
  {
   "cell_type": "markdown",
   "id": "16322627-e26c-44a0-b403-3f76d3b235e5",
   "metadata": {},
   "source": [
    "# about MAP"
   ]
  },
  {
   "cell_type": "code",
   "execution_count": 8,
   "id": "d7d904ea-cdaf-49f0-8734-f9659c3be01a",
   "metadata": {},
   "outputs": [
    {
     "name": "stdout",
     "output_type": "stream",
     "text": [
      "['python', 'java', 'reactja']\n"
     ]
    }
   ],
   "source": [
    "data=[\" python\",\" java \",\"reactja \"]\n",
    "def clear_spaces(item):\n",
    "    return item.strip()\n",
    "op=list(map(clear_spaces,data))\n",
    "print(op)"
   ]
  },
  {
   "cell_type": "code",
   "execution_count": 9,
   "id": "6509a875-9a96-4a2e-a176-84760aa4a927",
   "metadata": {},
   "outputs": [
    {
     "name": "stdout",
     "output_type": "stream",
     "text": [
      "['python', 'java', 'reactja']\n"
     ]
    }
   ],
   "source": [
    "op=list(map(lambda x:x.strip(),data))\n",
    "print(op)"
   ]
  },
  {
   "cell_type": "markdown",
   "id": "83f5478f-bc56-4d3f-9669-e5acc0e4817e",
   "metadata": {},
   "source": [
    "# about Filter"
   ]
  },
  {
   "cell_type": "code",
   "execution_count": 23,
   "id": "bb4f4e27-3658-4cee-abcd-e157d3219d0b",
   "metadata": {},
   "outputs": [
    {
     "name": "stdout",
     "output_type": "stream",
     "text": [
      "['python', 'reactJs']\n"
     ]
    }
   ],
   "source": [
    "data=[\"python\",\"java\",\"reactJs\"]\n",
    "def check_length(item):\n",
    " if len(item)>4:\n",
    "   return True\n",
    " else:\n",
    "   return False\n",
    "op=list(filter(check_length,data))\n",
    "print(op)"
   ]
  },
  {
   "cell_type": "code",
   "execution_count": 22,
   "id": "ffe072b8-c7f2-4226-8ce2-ffd91f8273e7",
   "metadata": {},
   "outputs": [
    {
     "name": "stdout",
     "output_type": "stream",
     "text": [
      "['python', 'reactJs']\n"
     ]
    }
   ],
   "source": [
    "data=[\"python\",\"java\",\"reactJs\"]\n",
    "print([word for word in data if len(word)>4])"
   ]
  },
  {
   "cell_type": "markdown",
   "id": "00ac7538-6ded-4843-838e-02af9d5ef056",
   "metadata": {},
   "source": [
    "# remove c from list and insert into 2 index"
   ]
  },
  {
   "cell_type": "code",
   "execution_count": 2,
   "id": "6b7293a1-f620-4969-bac3-6cb7ac7ebe7e",
   "metadata": {},
   "outputs": [
    {
     "name": "stdout",
     "output_type": "stream",
     "text": [
      "['a', 'b', 'c', 'd', 'e']\n"
     ]
    }
   ],
   "source": [
    "input=[\"a\",\"b\",\"d\",\"c\",\"e\"]\n",
    "# output=[\"a\",\"b\",\"c\",\"d\",\"e\"]\n",
    "input.pop(3) # remove\n",
    "input.insert(2,\"c\") # insert\n",
    "print(input)\n"
   ]
  },
  {
   "cell_type": "markdown",
   "id": "ab47049b-35e0-4f94-abe3-e7def8694e6d",
   "metadata": {},
   "source": [
    "# gues the output"
   ]
  },
  {
   "cell_type": "code",
   "execution_count": 26,
   "id": "429062de-8fac-4ae8-a5f9-42f8b9ad455b",
   "metadata": {},
   "outputs": [
    {
     "name": "stdout",
     "output_type": "stream",
     "text": [
      "3.0\n"
     ]
    }
   ],
   "source": [
    "x=[10,20,30][-1]\n",
    "y=round(14,-1) #10,20,100\n",
    "z=x/y\n",
    "print(z)"
   ]
  },
  {
   "cell_type": "markdown",
   "id": "6da8864d-efc2-4d79-9e65-67878fb0b983",
   "metadata": {},
   "source": [
    "# guess the output"
   ]
  },
  {
   "cell_type": "code",
   "execution_count": 27,
   "id": "831fd638-9728-4eab-8b88-625f6a432566",
   "metadata": {},
   "outputs": [
    {
     "name": "stdout",
     "output_type": "stream",
     "text": [
      "12\n"
     ]
    }
   ],
   "source": [
    "a=10\n",
    "a=a+2\n",
    "print(a)"
   ]
  },
  {
   "cell_type": "code",
   "execution_count": 28,
   "id": "86048738-6dd4-4499-8f36-d258c2719c19",
   "metadata": {},
   "outputs": [
    {
     "name": "stdout",
     "output_type": "stream",
     "text": [
      "14\n"
     ]
    }
   ],
   "source": [
    "a +=2\n",
    "print(a)"
   ]
  },
  {
   "cell_type": "code",
   "execution_count": 29,
   "id": "0788b8a8-fdb9-40d6-8f1e-da7c4d336972",
   "metadata": {},
   "outputs": [
    {
     "name": "stdout",
     "output_type": "stream",
     "text": [
      "12\n"
     ]
    }
   ],
   "source": [
    "a-=2\n",
    "print(a)"
   ]
  },
  {
   "cell_type": "code",
   "execution_count": 30,
   "id": "b3da9b2f-1023-4b92-affc-79a65384d6cd",
   "metadata": {},
   "outputs": [
    {
     "name": "stdout",
     "output_type": "stream",
     "text": [
      "6.0\n"
     ]
    }
   ],
   "source": [
    "a/=2\n",
    "print(a)"
   ]
  },
  {
   "cell_type": "code",
   "execution_count": 31,
   "id": "e8cf1fd0-bf9d-441c-bacf-79009b600380",
   "metadata": {},
   "outputs": [
    {
     "name": "stdout",
     "output_type": "stream",
     "text": [
      "12.0\n"
     ]
    }
   ],
   "source": [
    "a*=2\n",
    "print(a)"
   ]
  },
  {
   "cell_type": "markdown",
   "id": "edb6027c-6177-4f33-86f2-58efe643c9f6",
   "metadata": {},
   "source": [
    "# gues output"
   ]
  },
  {
   "cell_type": "code",
   "execution_count": 34,
   "id": "9721c19f-924a-4baa-95fe-856fb74363e2",
   "metadata": {},
   "outputs": [
    {
     "name": "stdout",
     "output_type": "stream",
     "text": [
      "[1, 2, 4, 5]\n"
     ]
    }
   ],
   "source": [
    "data=[1,2,3,4,5]\n",
    "op=[]\n",
    "for item in data:\n",
    "    if item==3:\n",
    "        continue\n",
    "    # print(item)  \n",
    "    else:\n",
    "        op.append(item)\n",
    "print(op)        \n",
    "        "
   ]
  },
  {
   "cell_type": "markdown",
   "id": "b57f1055-c372-4056-9aee-9eb286dd5099",
   "metadata": {},
   "source": [
    "# guess output"
   ]
  },
  {
   "cell_type": "code",
   "execution_count": 10,
   "id": "983a6dbb-aa0f-4107-950e-7dc6adb5b4e6",
   "metadata": {},
   "outputs": [
    {
     "name": "stdout",
     "output_type": "stream",
     "text": [
      "[1, 6, 3, 4, 5]\n",
      "[1, 6, 3, 4, 5]\n"
     ]
    }
   ],
   "source": [
    "data=[1,2,3,4,5]\n",
    "newdata=data\n",
    "newdata[1]=6\n",
    "print(data)\n",
    "print(newdata)\n"
   ]
  },
  {
   "cell_type": "markdown",
   "id": "fdad4b76-596f-4e9f-82be-62d798f33335",
   "metadata": {},
   "source": [
    "# how to get file extentions like .pdf,.txt,.png"
   ]
  },
  {
   "cell_type": "code",
   "execution_count": 105,
   "id": "48cb3db0-df77-48e8-8430-d34006aa08a6",
   "metadata": {},
   "outputs": [
    {
     "name": "stdout",
     "output_type": "stream",
     "text": [
      "['file name', 'txt']\n"
     ]
    }
   ],
   "source": [
    "data=\"file.name.txt\"\n",
    "op=data.split(\".\")\n",
    "print(op)"
   ]
  },
  {
   "cell_type": "code",
   "execution_count": 42,
   "id": "28310e04-1dc5-4d79-9503-5dcf642f1109",
   "metadata": {},
   "outputs": [
    {
     "name": "stdout",
     "output_type": "stream",
     "text": [
      "txt\n"
     ]
    }
   ],
   "source": [
    "print(op[-1])"
   ]
  },
  {
   "cell_type": "markdown",
   "id": "1478ca3f-7f6a-479c-87c6-5f6783cd42c5",
   "metadata": {},
   "source": [
    "# guess"
   ]
  },
  {
   "cell_type": "code",
   "execution_count": 43,
   "id": "f48348cb-12b6-4ccb-95f9-1dad168c41f9",
   "metadata": {},
   "outputs": [
    {
     "ename": "TypeError",
     "evalue": "unsupported operand type(s) for +: 'int' and 'str'",
     "output_type": "error",
     "traceback": [
      "\u001b[1;31m---------------------------------------------------------------------------\u001b[0m",
      "\u001b[1;31mTypeError\u001b[0m                                 Traceback (most recent call last)",
      "Cell \u001b[1;32mIn[43], line 3\u001b[0m\n\u001b[0;32m      1\u001b[0m a\u001b[38;5;241m=\u001b[39m\u001b[38;5;241m10\u001b[39m\n\u001b[0;32m      2\u001b[0m b\u001b[38;5;241m=\u001b[39m\u001b[38;5;124m\"\u001b[39m\u001b[38;5;124m5\u001b[39m\u001b[38;5;124m\"\u001b[39m\n\u001b[1;32m----> 3\u001b[0m c\u001b[38;5;241m=\u001b[39m\u001b[43ma\u001b[49m\u001b[38;5;241;43m+\u001b[39;49m\u001b[43mb\u001b[49m\n\u001b[0;32m      4\u001b[0m \u001b[38;5;28mprint\u001b[39m(c)\n",
      "\u001b[1;31mTypeError\u001b[0m: unsupported operand type(s) for +: 'int' and 'str'"
     ]
    }
   ],
   "source": [
    "a=10 # int dt\n",
    "b=\"5\"# str dt\n",
    "c=a+b\n",
    "print(c) # output is error"
   ]
  },
  {
   "cell_type": "markdown",
   "id": "ca184f22-4653-4a6d-84f5-ecea050cfc75",
   "metadata": {},
   "source": [
    "# guess"
   ]
  },
  {
   "cell_type": "code",
   "execution_count": 119,
   "id": "91392f08-6e6e-4c22-8fb2-a09eb4e69052",
   "metadata": {},
   "outputs": [
    {
     "name": "stdout",
     "output_type": "stream",
     "text": [
      "<class 'str'>\n",
      "111\n"
     ]
    }
   ],
   "source": [
    "a=[3,2,1]\n",
    "b=\"1\"*a[-3]\n",
    "# print(b)\n",
    "print(type(b))\n",
    "print(int(b))"
   ]
  },
  {
   "cell_type": "markdown",
   "id": "6cff2615-3c03-4c46-88db-9ef1daed3f39",
   "metadata": {},
   "source": [
    "# guess"
   ]
  },
  {
   "cell_type": "code",
   "execution_count": 48,
   "id": "b091ebec-3e8f-4d06-93ed-fe05bd552838",
   "metadata": {},
   "outputs": [
    {
     "name": "stdout",
     "output_type": "stream",
     "text": [
      "[1, 2, 3, 4]\n",
      "3\n"
     ]
    }
   ],
   "source": [
    "data=[1,2,3,4]\n",
    "newdata=data[::-1] #[4,3,2,1]\n",
    "# print(data)\n",
    "# print(data[1])\n",
    "op=data[1] + newdata[-1]\n",
    "print(op)"
   ]
  },
  {
   "cell_type": "markdown",
   "id": "ece42f9e-a69e-4007-bfad-6d45735c2f5a",
   "metadata": {},
   "source": [
    "# if else"
   ]
  },
  {
   "cell_type": "code",
   "execution_count": 55,
   "id": "58996cf4-d4ba-4d24-a18f-b42436bf61fb",
   "metadata": {},
   "outputs": [
    {
     "name": "stdout",
     "output_type": "stream",
     "text": [
      "printing completed1\n",
      "printing completed1\n",
      "printing completed1\n",
      "printing completed1\n",
      "printing completed1\n",
      "printing completed2\n"
     ]
    }
   ],
   "source": [
    "lst=[1,2,3,4,5]\n",
    "for i in lst:\n",
    "    if i==6:\n",
    "        break\n",
    "    else:\n",
    "        print(\"printing completed1\")\n",
    "for i in lst:\n",
    "    if i==2:\n",
    "        break\n",
    "    else:\n",
    "        print(\"printing completed2\")"
   ]
  },
  {
   "cell_type": "markdown",
   "id": "1ea1ca9c-2820-4dc9-94c4-c57fe152572a",
   "metadata": {},
   "source": [
    "# set"
   ]
  },
  {
   "cell_type": "code",
   "execution_count": 56,
   "id": "04805578-87d0-42ee-a125-6c3631bee0ab",
   "metadata": {},
   "outputs": [
    {
     "name": "stdout",
     "output_type": "stream",
     "text": [
      "{'Reacjs', 'java', 'python'}\n"
     ]
    }
   ],
   "source": [
    "# 1\n",
    "data={\"python\",\"java\",\"Reacjs\",\"python\"}\n",
    "print(data)"
   ]
  },
  {
   "cell_type": "code",
   "execution_count": 57,
   "id": "adcf8daa-8f4f-43f7-86fc-08a51ec7fa5e",
   "metadata": {},
   "outputs": [
    {
     "name": "stdout",
     "output_type": "stream",
     "text": [
      "{False, True, 'java', 'python'}\n"
     ]
    }
   ],
   "source": [
    "#2\n",
    "data={\"python\",\"java\",True,False,1,0}\n",
    "print(data)"
   ]
  },
  {
   "cell_type": "code",
   "execution_count": 59,
   "id": "26653589-f71c-4237-88da-c7a61e680b2b",
   "metadata": {},
   "outputs": [
    {
     "ename": "TypeError",
     "evalue": "'set' object is not subscriptable",
     "output_type": "error",
     "traceback": [
      "\u001b[1;31m---------------------------------------------------------------------------\u001b[0m",
      "\u001b[1;31mTypeError\u001b[0m                                 Traceback (most recent call last)",
      "Cell \u001b[1;32mIn[59], line 2\u001b[0m\n\u001b[0;32m      1\u001b[0m data\u001b[38;5;241m=\u001b[39m{\u001b[38;5;124m\"\u001b[39m\u001b[38;5;124mpython\u001b[39m\u001b[38;5;124m\"\u001b[39m,\u001b[38;5;124m\"\u001b[39m\u001b[38;5;124mjava\u001b[39m\u001b[38;5;124m\"\u001b[39m,\u001b[38;5;124m\"\u001b[39m\u001b[38;5;124mReacjs\u001b[39m\u001b[38;5;124m\"\u001b[39m,\u001b[38;5;124m\"\u001b[39m\u001b[38;5;124mpython\u001b[39m\u001b[38;5;124m\"\u001b[39m}\n\u001b[1;32m----> 2\u001b[0m \u001b[38;5;28mprint\u001b[39m(\u001b[43mdata\u001b[49m\u001b[43m[\u001b[49m\u001b[38;5;241;43m0\u001b[39;49m\u001b[43m]\u001b[49m)\u001b[38;5;66;03m# no index by set\u001b[39;00m\n",
      "\u001b[1;31mTypeError\u001b[0m: 'set' object is not subscriptable"
     ]
    }
   ],
   "source": [
    "data={\"python\",\"java\",\"Reacjs\",\"python\"}\n",
    "print(data[0])# no index by set\n"
   ]
  },
  {
   "cell_type": "code",
   "execution_count": 120,
   "id": "4f8deaf1-ea69-4b9e-965d-c57da379f98a",
   "metadata": {},
   "outputs": [
    {
     "data": {
      "text/plain": [
       "{'Reacjs', 'java', 'python'}"
      ]
     },
     "execution_count": 120,
     "metadata": {},
     "output_type": "execute_result"
    }
   ],
   "source": [
    "data={\"python\",\"java\",\"Reacjs\",\"python\"}\n",
    "data"
   ]
  },
  {
   "cell_type": "code",
   "execution_count": 61,
   "id": "07f5a721-91b7-4b1c-95eb-7a03f56e9ed1",
   "metadata": {},
   "outputs": [
    {
     "data": {
      "text/plain": [
       "{'Reacjs', 'java', 'python'}"
      ]
     },
     "execution_count": 61,
     "metadata": {},
     "output_type": "execute_result"
    }
   ],
   "source": [
    "data"
   ]
  },
  {
   "cell_type": "code",
   "execution_count": 62,
   "id": "61b436c4-ea05-486f-b15b-46a57b6f99f2",
   "metadata": {},
   "outputs": [
    {
     "name": "stdout",
     "output_type": "stream",
     "text": [
      "{'Reacjs', 'java', 'python'}\n"
     ]
    }
   ],
   "source": [
    "print(data)"
   ]
  },
  {
   "cell_type": "markdown",
   "id": "93ef396b-4dcb-4827-9a46-f39215c4061a",
   "metadata": {},
   "source": [
    "# about list"
   ]
  },
  {
   "cell_type": "markdown",
   "id": "3786edee-a816-4cea-83a4-74c7e30e6a46",
   "metadata": {},
   "source": [
    "# pringt all the items of after  \"react\"  in list"
   ]
  },
  {
   "cell_type": "code",
   "execution_count": 1,
   "id": "faa05c39-6f91-4b22-b4b7-029629db6e75",
   "metadata": {},
   "outputs": [
    {
     "name": "stdout",
     "output_type": "stream",
     "text": [
      "['js', 'node', 'pandas', 'pyspark']\n"
     ]
    }
   ],
   "source": [
    "category=\"react\"\n",
    "data=[\"python\",\"java\",\"react\",\"js\",\"node\",\"pandas\",\"pyspark\"]\n",
    "index=data.index(category)\n",
    "print(data[index+1:])"
   ]
  },
  {
   "cell_type": "code",
   "execution_count": 26,
   "id": "0f12ed58-89a7-459a-9fac-03738d5a6a3e",
   "metadata": {},
   "outputs": [
    {
     "name": "stdout",
     "output_type": "stream",
     "text": [
      "['python', 'java', 'react', 'js', 'node']\n",
      "['python', 'java', 'react', 'js', 'node']\n",
      "['python', 'java', 'react', 'js', 'node']\n",
      "['python', 'java', 'react', 'js', 'node']\n"
     ]
    }
   ],
   "source": [
    "data=[\"python\",\"java\",\"react\",\"js\",\"node\"]\n"
   ]
  },
  {
   "cell_type": "markdown",
   "id": "9d4d28cc-5d04-4494-b50c-6f4c2cf0b3e4",
   "metadata": {},
   "source": [
    "# about comparision operator ==,!="
   ]
  },
  {
   "cell_type": "code",
   "execution_count": 66,
   "id": "22b79f75-a71d-4fba-991d-44a0855192c7",
   "metadata": {},
   "outputs": [
    {
     "name": "stdout",
     "output_type": "stream",
     "text": [
      "True\n"
     ]
    }
   ],
   "source": [
    "dbmail=\"gopi.vardhan97@gmail.com\"\n",
    "usermail=\"gopi.vardhan97@gmail.com\"\n",
    "print(dbmail==usermail)"
   ]
  },
  {
   "cell_type": "code",
   "execution_count": 67,
   "id": "6a7fe42e-be17-4bc3-8f52-a6f7157439df",
   "metadata": {},
   "outputs": [
    {
     "name": "stdout",
     "output_type": "stream",
     "text": [
      "False\n"
     ]
    }
   ],
   "source": [
    "print(dbmail != usermail)"
   ]
  },
  {
   "cell_type": "markdown",
   "id": "d943453c-cc50-432f-a778-8d41c6d2c17a",
   "metadata": {},
   "source": [
    "# how to merge /join csv files in pandas"
   ]
  },
  {
   "cell_type": "code",
   "execution_count": 121,
   "id": "04bb7e2f-61ba-4f18-91e0-019d15013500",
   "metadata": {},
   "outputs": [
    {
     "ename": "FileNotFoundError",
     "evalue": "[Errno 2] No such file or directory: 'filepath'",
     "output_type": "error",
     "traceback": [
      "\u001b[1;31m---------------------------------------------------------------------------\u001b[0m",
      "\u001b[1;31mFileNotFoundError\u001b[0m                         Traceback (most recent call last)",
      "Cell \u001b[1;32mIn[121], line 2\u001b[0m\n\u001b[0;32m      1\u001b[0m \u001b[38;5;28;01mimport\u001b[39;00m \u001b[38;5;21;01mpandas\u001b[39;00m \u001b[38;5;28;01mas\u001b[39;00m \u001b[38;5;21;01mpd\u001b[39;00m\n\u001b[1;32m----> 2\u001b[0m orders\u001b[38;5;241m=\u001b[39m\u001b[43mpd\u001b[49m\u001b[38;5;241;43m.\u001b[39;49m\u001b[43mread_csv\u001b[49m\u001b[43m(\u001b[49m\u001b[38;5;124;43m\"\u001b[39;49m\u001b[38;5;124;43mfilepath\u001b[39;49m\u001b[38;5;124;43m\"\u001b[39;49m\u001b[43m)\u001b[49m\n\u001b[0;32m      3\u001b[0m product\u001b[38;5;241m=\u001b[39mpd\u001b[38;5;241m.\u001b[39mread_csv(\u001b[38;5;124m\"\u001b[39m\u001b[38;5;124mfile path\u001b[39m\u001b[38;5;124m\"\u001b[39m)\n\u001b[0;32m      4\u001b[0m df\u001b[38;5;241m=\u001b[39mpd\u001b[38;5;241m.\u001b[39mmerge(orders,product,how\u001b[38;5;241m=\u001b[39m\u001b[38;5;124m\"\u001b[39m\u001b[38;5;124mleft\u001b[39m\u001b[38;5;124m\"\u001b[39m,on\u001b[38;5;241m=\u001b[39m[\u001b[38;5;124m\"\u001b[39m\u001b[38;5;124mproduct_id\u001b[39m\u001b[38;5;124m\"\u001b[39m]) \u001b[38;5;66;03m# common column name\u001b[39;00m\n",
      "File \u001b[1;32m~\\AppData\\Local\\Programs\\Python\\Python310\\lib\\site-packages\\pandas\\io\\parsers\\readers.py:1026\u001b[0m, in \u001b[0;36mread_csv\u001b[1;34m(filepath_or_buffer, sep, delimiter, header, names, index_col, usecols, dtype, engine, converters, true_values, false_values, skipinitialspace, skiprows, skipfooter, nrows, na_values, keep_default_na, na_filter, verbose, skip_blank_lines, parse_dates, infer_datetime_format, keep_date_col, date_parser, date_format, dayfirst, cache_dates, iterator, chunksize, compression, thousands, decimal, lineterminator, quotechar, quoting, doublequote, escapechar, comment, encoding, encoding_errors, dialect, on_bad_lines, delim_whitespace, low_memory, memory_map, float_precision, storage_options, dtype_backend)\u001b[0m\n\u001b[0;32m   1013\u001b[0m kwds_defaults \u001b[38;5;241m=\u001b[39m _refine_defaults_read(\n\u001b[0;32m   1014\u001b[0m     dialect,\n\u001b[0;32m   1015\u001b[0m     delimiter,\n\u001b[1;32m   (...)\u001b[0m\n\u001b[0;32m   1022\u001b[0m     dtype_backend\u001b[38;5;241m=\u001b[39mdtype_backend,\n\u001b[0;32m   1023\u001b[0m )\n\u001b[0;32m   1024\u001b[0m kwds\u001b[38;5;241m.\u001b[39mupdate(kwds_defaults)\n\u001b[1;32m-> 1026\u001b[0m \u001b[38;5;28;01mreturn\u001b[39;00m \u001b[43m_read\u001b[49m\u001b[43m(\u001b[49m\u001b[43mfilepath_or_buffer\u001b[49m\u001b[43m,\u001b[49m\u001b[43m \u001b[49m\u001b[43mkwds\u001b[49m\u001b[43m)\u001b[49m\n",
      "File \u001b[1;32m~\\AppData\\Local\\Programs\\Python\\Python310\\lib\\site-packages\\pandas\\io\\parsers\\readers.py:620\u001b[0m, in \u001b[0;36m_read\u001b[1;34m(filepath_or_buffer, kwds)\u001b[0m\n\u001b[0;32m    617\u001b[0m _validate_names(kwds\u001b[38;5;241m.\u001b[39mget(\u001b[38;5;124m\"\u001b[39m\u001b[38;5;124mnames\u001b[39m\u001b[38;5;124m\"\u001b[39m, \u001b[38;5;28;01mNone\u001b[39;00m))\n\u001b[0;32m    619\u001b[0m \u001b[38;5;66;03m# Create the parser.\u001b[39;00m\n\u001b[1;32m--> 620\u001b[0m parser \u001b[38;5;241m=\u001b[39m TextFileReader(filepath_or_buffer, \u001b[38;5;241m*\u001b[39m\u001b[38;5;241m*\u001b[39mkwds)\n\u001b[0;32m    622\u001b[0m \u001b[38;5;28;01mif\u001b[39;00m chunksize \u001b[38;5;129;01mor\u001b[39;00m iterator:\n\u001b[0;32m    623\u001b[0m     \u001b[38;5;28;01mreturn\u001b[39;00m parser\n",
      "File \u001b[1;32m~\\AppData\\Local\\Programs\\Python\\Python310\\lib\\site-packages\\pandas\\io\\parsers\\readers.py:1620\u001b[0m, in \u001b[0;36mTextFileReader.__init__\u001b[1;34m(self, f, engine, **kwds)\u001b[0m\n\u001b[0;32m   1617\u001b[0m     \u001b[38;5;28mself\u001b[39m\u001b[38;5;241m.\u001b[39moptions[\u001b[38;5;124m\"\u001b[39m\u001b[38;5;124mhas_index_names\u001b[39m\u001b[38;5;124m\"\u001b[39m] \u001b[38;5;241m=\u001b[39m kwds[\u001b[38;5;124m\"\u001b[39m\u001b[38;5;124mhas_index_names\u001b[39m\u001b[38;5;124m\"\u001b[39m]\n\u001b[0;32m   1619\u001b[0m \u001b[38;5;28mself\u001b[39m\u001b[38;5;241m.\u001b[39mhandles: IOHandles \u001b[38;5;241m|\u001b[39m \u001b[38;5;28;01mNone\u001b[39;00m \u001b[38;5;241m=\u001b[39m \u001b[38;5;28;01mNone\u001b[39;00m\n\u001b[1;32m-> 1620\u001b[0m \u001b[38;5;28mself\u001b[39m\u001b[38;5;241m.\u001b[39m_engine \u001b[38;5;241m=\u001b[39m \u001b[38;5;28;43mself\u001b[39;49m\u001b[38;5;241;43m.\u001b[39;49m\u001b[43m_make_engine\u001b[49m\u001b[43m(\u001b[49m\u001b[43mf\u001b[49m\u001b[43m,\u001b[49m\u001b[43m \u001b[49m\u001b[38;5;28;43mself\u001b[39;49m\u001b[38;5;241;43m.\u001b[39;49m\u001b[43mengine\u001b[49m\u001b[43m)\u001b[49m\n",
      "File \u001b[1;32m~\\AppData\\Local\\Programs\\Python\\Python310\\lib\\site-packages\\pandas\\io\\parsers\\readers.py:1880\u001b[0m, in \u001b[0;36mTextFileReader._make_engine\u001b[1;34m(self, f, engine)\u001b[0m\n\u001b[0;32m   1878\u001b[0m     \u001b[38;5;28;01mif\u001b[39;00m \u001b[38;5;124m\"\u001b[39m\u001b[38;5;124mb\u001b[39m\u001b[38;5;124m\"\u001b[39m \u001b[38;5;129;01mnot\u001b[39;00m \u001b[38;5;129;01min\u001b[39;00m mode:\n\u001b[0;32m   1879\u001b[0m         mode \u001b[38;5;241m+\u001b[39m\u001b[38;5;241m=\u001b[39m \u001b[38;5;124m\"\u001b[39m\u001b[38;5;124mb\u001b[39m\u001b[38;5;124m\"\u001b[39m\n\u001b[1;32m-> 1880\u001b[0m \u001b[38;5;28mself\u001b[39m\u001b[38;5;241m.\u001b[39mhandles \u001b[38;5;241m=\u001b[39m \u001b[43mget_handle\u001b[49m\u001b[43m(\u001b[49m\n\u001b[0;32m   1881\u001b[0m \u001b[43m    \u001b[49m\u001b[43mf\u001b[49m\u001b[43m,\u001b[49m\n\u001b[0;32m   1882\u001b[0m \u001b[43m    \u001b[49m\u001b[43mmode\u001b[49m\u001b[43m,\u001b[49m\n\u001b[0;32m   1883\u001b[0m \u001b[43m    \u001b[49m\u001b[43mencoding\u001b[49m\u001b[38;5;241;43m=\u001b[39;49m\u001b[38;5;28;43mself\u001b[39;49m\u001b[38;5;241;43m.\u001b[39;49m\u001b[43moptions\u001b[49m\u001b[38;5;241;43m.\u001b[39;49m\u001b[43mget\u001b[49m\u001b[43m(\u001b[49m\u001b[38;5;124;43m\"\u001b[39;49m\u001b[38;5;124;43mencoding\u001b[39;49m\u001b[38;5;124;43m\"\u001b[39;49m\u001b[43m,\u001b[49m\u001b[43m \u001b[49m\u001b[38;5;28;43;01mNone\u001b[39;49;00m\u001b[43m)\u001b[49m\u001b[43m,\u001b[49m\n\u001b[0;32m   1884\u001b[0m \u001b[43m    \u001b[49m\u001b[43mcompression\u001b[49m\u001b[38;5;241;43m=\u001b[39;49m\u001b[38;5;28;43mself\u001b[39;49m\u001b[38;5;241;43m.\u001b[39;49m\u001b[43moptions\u001b[49m\u001b[38;5;241;43m.\u001b[39;49m\u001b[43mget\u001b[49m\u001b[43m(\u001b[49m\u001b[38;5;124;43m\"\u001b[39;49m\u001b[38;5;124;43mcompression\u001b[39;49m\u001b[38;5;124;43m\"\u001b[39;49m\u001b[43m,\u001b[49m\u001b[43m \u001b[49m\u001b[38;5;28;43;01mNone\u001b[39;49;00m\u001b[43m)\u001b[49m\u001b[43m,\u001b[49m\n\u001b[0;32m   1885\u001b[0m \u001b[43m    \u001b[49m\u001b[43mmemory_map\u001b[49m\u001b[38;5;241;43m=\u001b[39;49m\u001b[38;5;28;43mself\u001b[39;49m\u001b[38;5;241;43m.\u001b[39;49m\u001b[43moptions\u001b[49m\u001b[38;5;241;43m.\u001b[39;49m\u001b[43mget\u001b[49m\u001b[43m(\u001b[49m\u001b[38;5;124;43m\"\u001b[39;49m\u001b[38;5;124;43mmemory_map\u001b[39;49m\u001b[38;5;124;43m\"\u001b[39;49m\u001b[43m,\u001b[49m\u001b[43m \u001b[49m\u001b[38;5;28;43;01mFalse\u001b[39;49;00m\u001b[43m)\u001b[49m\u001b[43m,\u001b[49m\n\u001b[0;32m   1886\u001b[0m \u001b[43m    \u001b[49m\u001b[43mis_text\u001b[49m\u001b[38;5;241;43m=\u001b[39;49m\u001b[43mis_text\u001b[49m\u001b[43m,\u001b[49m\n\u001b[0;32m   1887\u001b[0m \u001b[43m    \u001b[49m\u001b[43merrors\u001b[49m\u001b[38;5;241;43m=\u001b[39;49m\u001b[38;5;28;43mself\u001b[39;49m\u001b[38;5;241;43m.\u001b[39;49m\u001b[43moptions\u001b[49m\u001b[38;5;241;43m.\u001b[39;49m\u001b[43mget\u001b[49m\u001b[43m(\u001b[49m\u001b[38;5;124;43m\"\u001b[39;49m\u001b[38;5;124;43mencoding_errors\u001b[39;49m\u001b[38;5;124;43m\"\u001b[39;49m\u001b[43m,\u001b[49m\u001b[43m \u001b[49m\u001b[38;5;124;43m\"\u001b[39;49m\u001b[38;5;124;43mstrict\u001b[39;49m\u001b[38;5;124;43m\"\u001b[39;49m\u001b[43m)\u001b[49m\u001b[43m,\u001b[49m\n\u001b[0;32m   1888\u001b[0m \u001b[43m    \u001b[49m\u001b[43mstorage_options\u001b[49m\u001b[38;5;241;43m=\u001b[39;49m\u001b[38;5;28;43mself\u001b[39;49m\u001b[38;5;241;43m.\u001b[39;49m\u001b[43moptions\u001b[49m\u001b[38;5;241;43m.\u001b[39;49m\u001b[43mget\u001b[49m\u001b[43m(\u001b[49m\u001b[38;5;124;43m\"\u001b[39;49m\u001b[38;5;124;43mstorage_options\u001b[39;49m\u001b[38;5;124;43m\"\u001b[39;49m\u001b[43m,\u001b[49m\u001b[43m \u001b[49m\u001b[38;5;28;43;01mNone\u001b[39;49;00m\u001b[43m)\u001b[49m\u001b[43m,\u001b[49m\n\u001b[0;32m   1889\u001b[0m \u001b[43m\u001b[49m\u001b[43m)\u001b[49m\n\u001b[0;32m   1890\u001b[0m \u001b[38;5;28;01massert\u001b[39;00m \u001b[38;5;28mself\u001b[39m\u001b[38;5;241m.\u001b[39mhandles \u001b[38;5;129;01mis\u001b[39;00m \u001b[38;5;129;01mnot\u001b[39;00m \u001b[38;5;28;01mNone\u001b[39;00m\n\u001b[0;32m   1891\u001b[0m f \u001b[38;5;241m=\u001b[39m \u001b[38;5;28mself\u001b[39m\u001b[38;5;241m.\u001b[39mhandles\u001b[38;5;241m.\u001b[39mhandle\n",
      "File \u001b[1;32m~\\AppData\\Local\\Programs\\Python\\Python310\\lib\\site-packages\\pandas\\io\\common.py:873\u001b[0m, in \u001b[0;36mget_handle\u001b[1;34m(path_or_buf, mode, encoding, compression, memory_map, is_text, errors, storage_options)\u001b[0m\n\u001b[0;32m    868\u001b[0m \u001b[38;5;28;01melif\u001b[39;00m \u001b[38;5;28misinstance\u001b[39m(handle, \u001b[38;5;28mstr\u001b[39m):\n\u001b[0;32m    869\u001b[0m     \u001b[38;5;66;03m# Check whether the filename is to be opened in binary mode.\u001b[39;00m\n\u001b[0;32m    870\u001b[0m     \u001b[38;5;66;03m# Binary mode does not support 'encoding' and 'newline'.\u001b[39;00m\n\u001b[0;32m    871\u001b[0m     \u001b[38;5;28;01mif\u001b[39;00m ioargs\u001b[38;5;241m.\u001b[39mencoding \u001b[38;5;129;01mand\u001b[39;00m \u001b[38;5;124m\"\u001b[39m\u001b[38;5;124mb\u001b[39m\u001b[38;5;124m\"\u001b[39m \u001b[38;5;129;01mnot\u001b[39;00m \u001b[38;5;129;01min\u001b[39;00m ioargs\u001b[38;5;241m.\u001b[39mmode:\n\u001b[0;32m    872\u001b[0m         \u001b[38;5;66;03m# Encoding\u001b[39;00m\n\u001b[1;32m--> 873\u001b[0m         handle \u001b[38;5;241m=\u001b[39m \u001b[38;5;28;43mopen\u001b[39;49m\u001b[43m(\u001b[49m\n\u001b[0;32m    874\u001b[0m \u001b[43m            \u001b[49m\u001b[43mhandle\u001b[49m\u001b[43m,\u001b[49m\n\u001b[0;32m    875\u001b[0m \u001b[43m            \u001b[49m\u001b[43mioargs\u001b[49m\u001b[38;5;241;43m.\u001b[39;49m\u001b[43mmode\u001b[49m\u001b[43m,\u001b[49m\n\u001b[0;32m    876\u001b[0m \u001b[43m            \u001b[49m\u001b[43mencoding\u001b[49m\u001b[38;5;241;43m=\u001b[39;49m\u001b[43mioargs\u001b[49m\u001b[38;5;241;43m.\u001b[39;49m\u001b[43mencoding\u001b[49m\u001b[43m,\u001b[49m\n\u001b[0;32m    877\u001b[0m \u001b[43m            \u001b[49m\u001b[43merrors\u001b[49m\u001b[38;5;241;43m=\u001b[39;49m\u001b[43merrors\u001b[49m\u001b[43m,\u001b[49m\n\u001b[0;32m    878\u001b[0m \u001b[43m            \u001b[49m\u001b[43mnewline\u001b[49m\u001b[38;5;241;43m=\u001b[39;49m\u001b[38;5;124;43m\"\u001b[39;49m\u001b[38;5;124;43m\"\u001b[39;49m\u001b[43m,\u001b[49m\n\u001b[0;32m    879\u001b[0m \u001b[43m        \u001b[49m\u001b[43m)\u001b[49m\n\u001b[0;32m    880\u001b[0m     \u001b[38;5;28;01melse\u001b[39;00m:\n\u001b[0;32m    881\u001b[0m         \u001b[38;5;66;03m# Binary mode\u001b[39;00m\n\u001b[0;32m    882\u001b[0m         handle \u001b[38;5;241m=\u001b[39m \u001b[38;5;28mopen\u001b[39m(handle, ioargs\u001b[38;5;241m.\u001b[39mmode)\n",
      "\u001b[1;31mFileNotFoundError\u001b[0m: [Errno 2] No such file or directory: 'filepath'"
     ]
    }
   ],
   "source": [
    "import pandas as pd\n",
    "file1=pd.read_csv(\"filepath\")\n",
    "file2=pd.read_csv(\"file path\")\n",
    "df=pd.merge(file1,file2,how=\"left\",on=[\"product_id\"]) # common column name\n",
    "print(df)            "
   ]
  },
  {
   "cell_type": "markdown",
   "id": "5f78e182-daa5-4eb0-b1a0-d45bc0298c4e",
   "metadata": {},
   "source": [
    "# about datetime"
   ]
  },
  {
   "cell_type": "code",
   "execution_count": 69,
   "id": "1cdd306c-df03-4cec-a21a-c41c6ec2cc40",
   "metadata": {},
   "outputs": [
    {
     "name": "stdout",
     "output_type": "stream",
     "text": [
      "2024-07-10 10:25:26.301956\n"
     ]
    }
   ],
   "source": [
    "import datetime\n",
    "d=datetime.datetime.now()\n",
    "print(d)"
   ]
  },
  {
   "cell_type": "code",
   "execution_count": 71,
   "id": "2d578961-0093-4120-b9dd-d8f912f881a6",
   "metadata": {},
   "outputs": [
    {
     "name": "stdout",
     "output_type": "stream",
     "text": [
      "2024-07-10\n"
     ]
    }
   ],
   "source": [
    "print(d.date())"
   ]
  },
  {
   "cell_type": "code",
   "execution_count": 74,
   "id": "ffd2580f-4d6a-4a02-8af7-1648ea556d14",
   "metadata": {},
   "outputs": [
    {
     "name": "stdout",
     "output_type": "stream",
     "text": [
      "10-07-2024\n"
     ]
    }
   ],
   "source": [
    "print(d.strftime(\"%d-%m-%Y\"))"
   ]
  },
  {
   "cell_type": "code",
   "execution_count": 76,
   "id": "e444df6b-fa7d-467e-87ac-0068dfdcc35c",
   "metadata": {},
   "outputs": [
    {
     "name": "stdout",
     "output_type": "stream",
     "text": [
      "2024-Jul-10\n"
     ]
    }
   ],
   "source": [
    "print(d.strftime(\"%Y-%b-%d\"))"
   ]
  },
  {
   "cell_type": "code",
   "execution_count": 77,
   "id": "69d97954-7245-4074-a766-ba67ee702246",
   "metadata": {},
   "outputs": [
    {
     "data": {
      "text/plain": [
       "2024"
      ]
     },
     "execution_count": 77,
     "metadata": {},
     "output_type": "execute_result"
    }
   ],
   "source": [
    "d.year"
   ]
  },
  {
   "cell_type": "code",
   "execution_count": 78,
   "id": "36e633a7-efd1-4cf8-8864-ace8b8bf89bd",
   "metadata": {},
   "outputs": [
    {
     "data": {
      "text/plain": [
       "7"
      ]
     },
     "execution_count": 78,
     "metadata": {},
     "output_type": "execute_result"
    }
   ],
   "source": [
    "d.month"
   ]
  },
  {
   "cell_type": "code",
   "execution_count": 79,
   "id": "c81c5232-fe64-4f60-a837-941023136656",
   "metadata": {},
   "outputs": [
    {
     "data": {
      "text/plain": [
       "10"
      ]
     },
     "execution_count": 79,
     "metadata": {},
     "output_type": "execute_result"
    }
   ],
   "source": [
    "d.day"
   ]
  },
  {
   "cell_type": "code",
   "execution_count": 80,
   "id": "1aac62c9-2cfe-49b3-93e0-ce14499e7dd0",
   "metadata": {},
   "outputs": [
    {
     "data": {
      "text/plain": [
       "10"
      ]
     },
     "execution_count": 80,
     "metadata": {},
     "output_type": "execute_result"
    }
   ],
   "source": [
    "d.hour"
   ]
  },
  {
   "cell_type": "code",
   "execution_count": 81,
   "id": "26b5c8f9-cd6e-4687-b88d-2b6825108f8e",
   "metadata": {},
   "outputs": [
    {
     "data": {
      "text/plain": [
       "25"
      ]
     },
     "execution_count": 81,
     "metadata": {},
     "output_type": "execute_result"
    }
   ],
   "source": [
    "d.minute"
   ]
  },
  {
   "cell_type": "markdown",
   "id": "8ee629e1-c78f-4c0f-a36b-7b6eeff76ed9",
   "metadata": {},
   "source": [
    "# interview question"
   ]
  },
  {
   "cell_type": "code",
   "execution_count": 83,
   "id": "56fc70cd-bf3e-44d9-bdc2-5347c1de79fc",
   "metadata": {},
   "outputs": [
    {
     "data": {
      "text/plain": [
       "69"
      ]
     },
     "execution_count": 83,
     "metadata": {},
     "output_type": "execute_result"
    }
   ],
   "source": [
    "data=\"Earth is third planet from the Sun and the only astronomical object known to harbour and support life.\"\n",
    "uc=(ord(\"E\"))\n",
    "uc"
   ]
  },
  {
   "cell_type": "code",
   "execution_count": 85,
   "id": "0458cfce-4266-4545-9a35-8cd0c1f44cdb",
   "metadata": {},
   "outputs": [
    {
     "name": "stdout",
     "output_type": "stream",
     "text": [
      "102\n"
     ]
    }
   ],
   "source": [
    "uc=ord(\"a\")+5\n",
    "print(uc)"
   ]
  },
  {
   "cell_type": "code",
   "execution_count": 87,
   "id": "fe476a80-8bac-4fc3-b917-ef8e938200f1",
   "metadata": {},
   "outputs": [
    {
     "data": {
      "text/plain": [
       "'f'"
      ]
     },
     "execution_count": 87,
     "metadata": {},
     "output_type": "execute_result"
    }
   ],
   "source": [
    "op=chr(uc)\n",
    "op"
   ]
  },
  {
   "cell_type": "code",
   "execution_count": 96,
   "id": "c900705c-e64a-4fba-a140-a0afced943aa",
   "metadata": {},
   "outputs": [
    {
     "name": "stdout",
     "output_type": "stream",
     "text": [
      "Jfwym nx ymnwi uqfsjy kwtr ymj Xzs fsi ymj tsq~ fxywtstrnhfq tgojhy pst|s yt mfwgtzw fsi xzuutwy qnkj3\n"
     ]
    }
   ],
   "source": [
    "enc_data=\"\"\n",
    "for cha in data:\n",
    "    if cha==\" \":\n",
    "       enc_data=enc_data + cha\n",
    "    else:\n",
    "      enc_data=enc_data + chr(ord(cha)+5)\n",
    "print(enc_data)    \n",
    "    "
   ]
  },
  {
   "cell_type": "code",
   "execution_count": 3,
   "id": "b912fc65-7c45-41d0-8d7b-1008152d2bbd",
   "metadata": {},
   "outputs": [
    {
     "name": "stdout",
     "output_type": "stream",
     "text": [
      "rqvjqp fgxgnqrgt\n"
     ]
    }
   ],
   "source": [
    "string=\"pothon developer\"\n",
    "op=\"\"\n",
    "for cha in string:\n",
    "    if cha==\" \":\n",
    "      op=op+cha\n",
    "    else:\n",
    "       op = op + chr(ord(cha)+2)\n",
    "print(op)    \n",
    "    "
   ]
  },
  {
   "cell_type": "markdown",
   "id": "a856fa8b-5610-4382-b739-746efc94e0b4",
   "metadata": {},
   "source": [
    "# get flat list form nested list and nested tuple"
   ]
  },
  {
   "cell_type": "code",
   "execution_count": null,
   "id": "b07a2026-e5a2-4bf8-8a76-fc289536f114",
   "metadata": {},
   "outputs": [],
   "source": []
  },
  {
   "cell_type": "code",
   "execution_count": null,
   "id": "a0946649-5d93-4795-8598-f0d244d9d3b0",
   "metadata": {},
   "outputs": [],
   "source": [
    "# lst=[[1,2,3],(4,5,6),[7,[8,(9,10)]]]\n",
    "def get_flat_list(lst):\n",
    "    l=[]\n",
    "    for item in lst:\n",
    "        if isinstance(item,list) or isinstance(item,tuple):\n",
    "            l.extend(get_flat_list(item))\n",
    "        else:\n",
    "            l.append(item)\n",
    "    return l\n",
    "print(get_flat_list([[1,2,3],(4,5,6),[7,[8,(9,10)]]]))\n"
   ]
  },
  {
   "cell_type": "code",
   "execution_count": 22,
   "id": "5471530f-e8ea-4800-9d3b-ca76fece10e8",
   "metadata": {},
   "outputs": [
    {
     "name": "stdout",
     "output_type": "stream",
     "text": [
      "NETWORK\n",
      "same\n"
     ]
    }
   ],
   "source": [
    "s1=\"NEEEETDDDDWOOORKAAAAXYZ\"\n",
    "s2=\"NETWORK\"\n",
    "# print(len(s2))\n",
    "l=[]\n",
    "for x in s1:\n",
    "    if x not in l and  x  in s2:\n",
    "      l.append(x)\n",
    "op=\"\".join(l)\n",
    "# print(op)\n",
    "g=op[0:len(s2)]\n",
    "print(g)\n",
    "if  s2== op[0:len(s2)]:\n",
    "    print(\"same\")\n",
    "else:\n",
    "    print(\"not same\")\n",
    "    "
   ]
  },
  {
   "cell_type": "code",
   "execution_count": 1,
   "id": "c6750228-d82b-4cba-ba35-1e7d918297b2",
   "metadata": {},
   "outputs": [
    {
     "name": "stdout",
     "output_type": "stream",
     "text": [
      "{True: 100, False: 200, 1.5: 600, None: 800}\n"
     ]
    }
   ],
   "source": [
    "d={True:1,False:2,1:100,0:200,1.5:600,None:800}\n",
    "print(d)"
   ]
  },
  {
   "cell_type": "code",
   "execution_count": null,
   "id": "5de8e83b-9e15-4f9e-b2de-7920f89fed7b",
   "metadata": {},
   "outputs": [],
   "source": []
  },
  {
   "cell_type": "code",
   "execution_count": null,
   "id": "fd85cef3-0f2a-4be1-9f9e-2853504b732a",
   "metadata": {},
   "outputs": [],
   "source": []
  }
 ],
 "metadata": {
  "kernelspec": {
   "display_name": "base",
   "language": "python",
   "name": "python3"
  },
  "language_info": {
   "codemirror_mode": {
    "name": "ipython",
    "version": 3
   },
   "file_extension": ".py",
   "mimetype": "text/x-python",
   "name": "python",
   "nbconvert_exporter": "python",
   "pygments_lexer": "ipython3",
   "version": "3.10.9"
  },
  "widgets": {
   "application/vnd.jupyter.widget-state+json": {
    "state": {},
    "version_major": 2,
    "version_minor": 0
   }
  }
 },
 "nbformat": 4,
 "nbformat_minor": 5
}
